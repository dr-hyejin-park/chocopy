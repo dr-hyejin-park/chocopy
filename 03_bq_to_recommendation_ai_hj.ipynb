{
 "cells": [
  {
   "cell_type": "code",
   "execution_count": 1,
   "metadata": {},
   "outputs": [],
   "source": [
    "import os\n",
    "os.environ[\"GOOGLE_APPLICATION_CREDENTIALS\"]=\"/Users/hyejin/Downloads/my-semi-structure-recsys-67625-3fa813796d71.json\"\n",
    "\n"
   ]
  },
  {
   "cell_type": "code",
   "execution_count": 2,
   "metadata": {},
   "outputs": [],
   "source": [
    "PROJECT_ID = \"my-semi-structure-recsys-67625\"\n",
    "REGION = 'US'"
   ]
  },
  {
   "cell_type": "code",
   "execution_count": 4,
   "metadata": {},
   "outputs": [],
   "source": [
    "# !bq mk --location=$REGION --dataset $PROJECT_ID:ecommerce"
   ]
  },
  {
   "cell_type": "code",
   "execution_count": 3,
   "metadata": {},
   "outputs": [
    {
     "name": "stderr",
     "output_type": "stream",
     "text": [
      "/usr/local/lib/python3.8/site-packages/google/cloud/bigquery/table.py:1923: UserWarning: A progress bar was requested, but there was an error loading the tqdm library. Please install tqdm to use the progress bar functionality.\n",
      "  record_batch = self.to_arrow(\n"
     ]
    },
    {
     "data": {
      "text/html": [
       "<div>\n",
       "<style scoped>\n",
       "    .dataframe tbody tr th:only-of-type {\n",
       "        vertical-align: middle;\n",
       "    }\n",
       "\n",
       "    .dataframe tbody tr th {\n",
       "        vertical-align: top;\n",
       "    }\n",
       "\n",
       "    .dataframe thead th {\n",
       "        text-align: right;\n",
       "    }\n",
       "</style>\n",
       "<table border=\"1\" class=\"dataframe\">\n",
       "  <thead>\n",
       "    <tr style=\"text-align: right;\">\n",
       "      <th></th>\n",
       "      <th>visitorId</th>\n",
       "      <th>hitNumber</th>\n",
       "      <th>time</th>\n",
       "      <th>pageTitle</th>\n",
       "      <th>type</th>\n",
       "      <th>productSKU</th>\n",
       "      <th>v2ProductName</th>\n",
       "      <th>v2ProductCategory</th>\n",
       "      <th>productPrice_USD</th>\n",
       "    </tr>\n",
       "  </thead>\n",
       "  <tbody>\n",
       "    <tr>\n",
       "      <th>0</th>\n",
       "      <td>7194065619159478122-1</td>\n",
       "      <td>2</td>\n",
       "      <td>30507</td>\n",
       "      <td>Gift Cards</td>\n",
       "      <td>PAGE</td>\n",
       "      <td>GGOEGGCX056299</td>\n",
       "      <td>Gift Card - $25.00</td>\n",
       "      <td>Home/Gift Cards/</td>\n",
       "      <td>25.00</td>\n",
       "    </tr>\n",
       "    <tr>\n",
       "      <th>1</th>\n",
       "      <td>7194065619159478122-1</td>\n",
       "      <td>2</td>\n",
       "      <td>30507</td>\n",
       "      <td>Gift Cards</td>\n",
       "      <td>PAGE</td>\n",
       "      <td>GGOEGGCX056499</td>\n",
       "      <td>Gift Card - $50.00</td>\n",
       "      <td>Home/Gift Cards/</td>\n",
       "      <td>50.00</td>\n",
       "    </tr>\n",
       "    <tr>\n",
       "      <th>2</th>\n",
       "      <td>7194065619159478122-1</td>\n",
       "      <td>2</td>\n",
       "      <td>30507</td>\n",
       "      <td>Gift Cards</td>\n",
       "      <td>PAGE</td>\n",
       "      <td>GGOEGGCX056199</td>\n",
       "      <td>Gift Card- $100.00</td>\n",
       "      <td>Home/Gift Cards/</td>\n",
       "      <td>100.00</td>\n",
       "    </tr>\n",
       "    <tr>\n",
       "      <th>3</th>\n",
       "      <td>7194065619159478122-1</td>\n",
       "      <td>2</td>\n",
       "      <td>30507</td>\n",
       "      <td>Gift Cards</td>\n",
       "      <td>PAGE</td>\n",
       "      <td>GGOEGGCX056399</td>\n",
       "      <td>Gift Card - $250.00</td>\n",
       "      <td>Home/Gift Cards/</td>\n",
       "      <td>250.00</td>\n",
       "    </tr>\n",
       "    <tr>\n",
       "      <th>4</th>\n",
       "      <td>8159312408158297118-151</td>\n",
       "      <td>2</td>\n",
       "      <td>289206</td>\n",
       "      <td>Men's-T-Shirts</td>\n",
       "      <td>PAGE</td>\n",
       "      <td>GGOEGAAX0104</td>\n",
       "      <td>Google Men's 100% Cotton Short Sleeve Hero Tee...</td>\n",
       "      <td>Home/Apparel/Men's/Men's-T-Shirts/</td>\n",
       "      <td>16.99</td>\n",
       "    </tr>\n",
       "  </tbody>\n",
       "</table>\n",
       "</div>"
      ],
      "text/plain": [
       "                 visitorId  hitNumber    time       pageTitle  type  \\\n",
       "0    7194065619159478122-1          2   30507      Gift Cards  PAGE   \n",
       "1    7194065619159478122-1          2   30507      Gift Cards  PAGE   \n",
       "2    7194065619159478122-1          2   30507      Gift Cards  PAGE   \n",
       "3    7194065619159478122-1          2   30507      Gift Cards  PAGE   \n",
       "4  8159312408158297118-151          2  289206  Men's-T-Shirts  PAGE   \n",
       "\n",
       "       productSKU                                      v2ProductName  \\\n",
       "0  GGOEGGCX056299                                 Gift Card - $25.00   \n",
       "1  GGOEGGCX056499                                 Gift Card - $50.00   \n",
       "2  GGOEGGCX056199                                 Gift Card- $100.00   \n",
       "3  GGOEGGCX056399                                Gift Card - $250.00   \n",
       "4    GGOEGAAX0104  Google Men's 100% Cotton Short Sleeve Hero Tee...   \n",
       "\n",
       "                    v2ProductCategory  productPrice_USD  \n",
       "0                    Home/Gift Cards/             25.00  \n",
       "1                    Home/Gift Cards/             50.00  \n",
       "2                    Home/Gift Cards/            100.00  \n",
       "3                    Home/Gift Cards/            250.00  \n",
       "4  Home/Apparel/Men's/Men's-T-Shirts/             16.99  "
      ]
     },
     "execution_count": 3,
     "metadata": {},
     "output_type": "execute_result"
    }
   ],
   "source": [
    "import pandas_gbq\n",
    "\n",
    "# TODO: Set project_id to your Google Cloud Platform project ID.\n",
    "# project_id = \"my-project\"\n",
    "\n",
    "query = \"\"\"\n",
    "SELECT \n",
    "  CONCAT(fullVisitorID,'-',CAST(visitNumber AS STRING)) AS visitorId,\n",
    "  hitNumber,\n",
    "  time,\n",
    "  page.pageTitle,\n",
    "  type,\n",
    "  productSKU,\n",
    "  v2ProductName,\n",
    "  v2ProductCategory,\n",
    "  productPrice/1000000 as productPrice_USD\n",
    "\n",
    "FROM \n",
    "  `bigquery-public-data.google_analytics_sample.ga_sessions_20160801`, \n",
    "  UNNEST(hits) AS hits,\n",
    "  UNNEST(hits.product) AS hits_product\n",
    "LIMIT 5\n",
    "\"\"\"\n",
    "df = pandas_gbq.read_gbq(query, project_id=PROJECT_ID)\n",
    "df.head()"
   ]
  },
  {
   "cell_type": "code",
   "execution_count": null,
   "metadata": {},
   "outputs": [],
   "source": [
    "# WITH product AS (\n",
    "#   SELECT \n",
    "#       productSKU AS id,\n",
    "#       v2ProductName AS title,\n",
    "#       'USD' AS currency_code,\n",
    "#       ARRAY_AGG(DISTINCT(split(v2ProductCategory,'/')[OFFSET(1)])) AS categories,\n",
    "#       max(productPrice/1000000) as original_price,\n",
    "#       min(productPrice/1000000) as display_price\n",
    "#     FROM \n",
    "#       `bigquery-public-data.google_analytics_sample.ga_sessions_20160801`, \n",
    "#       UNNEST(hits) AS hits,\n",
    "#       UNNEST(hits.product) AS hits_product\n",
    "#     WHERE v2ProductCategory like \"%/%\" \n",
    "#     GROUP BY 1,2,3\n",
    "# ), aggregate AS (\n",
    "#     SELECT id, \n",
    "#       currency_code,\n",
    "#       ARRAY_AGG(STRUCT(original_price, display_price)) AS price\n",
    "#     FROM product \n",
    "#     GROUP BY 1,2\n",
    "#   ), meta AS (\n",
    "#     SELECT id,\n",
    "#       ARRAY_AGG(STRUCT(price, currency_code)) AS product_metadata\n",
    "#   FROM aggregate \n",
    "#   GROUP BY 1\n",
    "#   ),hierarchies AS (\n",
    "#     SELECT id,\n",
    "#       ARRAY_AGG(STRUCT(categories)) AS category_hierarchies\n",
    "#   FROM product \n",
    "#   GROUP BY 1\n",
    "#   )\n",
    "#   SELECT product.id,\n",
    "#       title,\n",
    "#       category_hierarchies,\n",
    "#       product_metadata\n",
    "#   FROM product INNER JOIN meta ON product.id = meta.id INNER JOIN hierarchies ON product.id = hierarchies.id \n"
   ]
  },
  {
   "cell_type": "code",
   "execution_count": 87,
   "metadata": {},
   "outputs": [
    {
     "data": {
      "text/html": [
       "<div>\n",
       "<style scoped>\n",
       "    .dataframe tbody tr th:only-of-type {\n",
       "        vertical-align: middle;\n",
       "    }\n",
       "\n",
       "    .dataframe tbody tr th {\n",
       "        vertical-align: top;\n",
       "    }\n",
       "\n",
       "    .dataframe thead th {\n",
       "        text-align: right;\n",
       "    }\n",
       "</style>\n",
       "<table border=\"1\" class=\"dataframe\">\n",
       "  <thead>\n",
       "    <tr style=\"text-align: right;\">\n",
       "      <th></th>\n",
       "      <th>id</th>\n",
       "      <th>title</th>\n",
       "      <th>category_hierarchies</th>\n",
       "    </tr>\n",
       "  </thead>\n",
       "  <tbody>\n",
       "    <tr>\n",
       "      <th>0</th>\n",
       "      <td>GGOEGAAX0296</td>\n",
       "      <td>YouTube Women's Short Sleeve Tri-blend Badge T...</td>\n",
       "      <td>[{'categories': ['Brands', 'Apparel', 'Shop by...</td>\n",
       "    </tr>\n",
       "    <tr>\n",
       "      <th>1</th>\n",
       "      <td>GGOEGAAX0300</td>\n",
       "      <td>YouTube Women's Racer Back Tank Black</td>\n",
       "      <td>[{'categories': ['Brands', 'Apparel', 'Shop by...</td>\n",
       "    </tr>\n",
       "    <tr>\n",
       "      <th>2</th>\n",
       "      <td>GGOEGAAX0630</td>\n",
       "      <td>Android Baby Essentials Baby Set</td>\n",
       "      <td>[{'categories': ['Brands', 'Apparel', 'Shop by...</td>\n",
       "    </tr>\n",
       "    <tr>\n",
       "      <th>3</th>\n",
       "      <td>GGOEGAAX0688</td>\n",
       "      <td>Android Youth Short Sleeve T-shirt Pewter</td>\n",
       "      <td>[{'categories': ['Brands', 'Apparel', 'Shop by...</td>\n",
       "    </tr>\n",
       "    <tr>\n",
       "      <th>4</th>\n",
       "      <td>GGOEGAAX0687</td>\n",
       "      <td>Android Youth Short Sleeve T-shirt Aqua</td>\n",
       "      <td>[{'categories': ['Brands', 'Apparel', 'Shop by...</td>\n",
       "    </tr>\n",
       "  </tbody>\n",
       "</table>\n",
       "</div>"
      ],
      "text/plain": [
       "             id                                              title  \\\n",
       "0  GGOEGAAX0296  YouTube Women's Short Sleeve Tri-blend Badge T...   \n",
       "1  GGOEGAAX0300              YouTube Women's Racer Back Tank Black   \n",
       "2  GGOEGAAX0630                   Android Baby Essentials Baby Set   \n",
       "3  GGOEGAAX0688          Android Youth Short Sleeve T-shirt Pewter   \n",
       "4  GGOEGAAX0687            Android Youth Short Sleeve T-shirt Aqua   \n",
       "\n",
       "                                category_hierarchies  \n",
       "0  [{'categories': ['Brands', 'Apparel', 'Shop by...  \n",
       "1  [{'categories': ['Brands', 'Apparel', 'Shop by...  \n",
       "2  [{'categories': ['Brands', 'Apparel', 'Shop by...  \n",
       "3  [{'categories': ['Brands', 'Apparel', 'Shop by...  \n",
       "4  [{'categories': ['Brands', 'Apparel', 'Shop by...  "
      ]
     },
     "execution_count": 87,
     "metadata": {},
     "output_type": "execute_result"
    }
   ],
   "source": [
    "from google.cloud import bigquery\n",
    "client = bigquery.Client()\n",
    "query = \"\"\"\n",
    "CREATE OR REPLACE TABLE  `my-semi-structure-recsys-67625.ecommerce.product_catalog` AS (\n",
    "  WITH product AS (\n",
    "  SELECT \n",
    "      productSKU AS id,\n",
    "      v2ProductName AS title,\n",
    "      'USD' AS currency_code,\n",
    "      ARRAY_AGG(DISTINCT(split(v2ProductCategory,'/')[OFFSET(1)])) AS categories\n",
    "    FROM \n",
    "      `bigquery-public-data.google_analytics_sample.ga_sessions_20160801`, \n",
    "      UNNEST(hits) AS hits,\n",
    "      UNNEST(hits.product) AS hits_product\n",
    "    WHERE v2ProductCategory like \"%/%\" \n",
    "    GROUP BY 1,2,3\n",
    "),hierarchies AS (\n",
    "    SELECT id,\n",
    "      ARRAY_AGG(STRUCT(categories)) AS category_hierarchies\n",
    "  FROM product \n",
    "  GROUP BY 1\n",
    "  )\n",
    "  SELECT product.id,\n",
    "      title,\n",
    "      category_hierarchies\n",
    "  FROM product INNER JOIN hierarchies ON product.id = hierarchies.id \n",
    ");\n",
    "SELECT * \n",
    "FROM `my-semi-structure-recsys-67625.ecommerce.product_catalog`\n",
    "\"\"\"\n",
    "query_job = client.query(query)\n",
    "df = query_job.result().to_dataframe()\n",
    "\n",
    "df.head()"
   ]
  },
  {
   "cell_type": "code",
   "execution_count": 86,
   "metadata": {},
   "outputs": [
    {
     "data": {
      "text/plain": [
       "array([{'price': array([{'original_price': 2.5, 'display_price': 2.0}], dtype=object), 'currency_code': 'USD'}],\n",
       "      dtype=object)"
      ]
     },
     "execution_count": 86,
     "metadata": {},
     "output_type": "execute_result"
    }
   ],
   "source": [
    "df.product_metadata[0]"
   ]
  },
  {
   "cell_type": "code",
   "execution_count": 97,
   "metadata": {},
   "outputs": [],
   "source": [
    "import json\n",
    "df.to_json('product_catalog.json', orient=\"records\")\n"
   ]
  },
  {
   "cell_type": "code",
   "execution_count": 98,
   "metadata": {},
   "outputs": [],
   "source": [
    "!cat product_catalog.json | jq -c '.[]' > catalog.json"
   ]
  },
  {
   "cell_type": "code",
   "execution_count": 101,
   "metadata": {},
   "outputs": [
    {
     "name": "stdout",
     "output_type": "stream",
     "text": [
      "Copying file://catalog.json [Content-Type=application/json]...\n",
      "\n",
      "Operation completed over 1 objects/28.8 KiB.                                     \n"
     ]
    }
   ],
   "source": [
    "!gsutil cp catalog.json gs://semi-structure-67625-bucket/ecommerce/catalog.json\n"
   ]
  },
  {
   "cell_type": "markdown",
   "metadata": {},
   "source": []
  },
  {
   "cell_type": "code",
   "execution_count": 103,
   "metadata": {},
   "outputs": [
    {
     "name": "stdout",
     "output_type": "stream",
     "text": [
      "Waiting on bqjob_r113da65bbb25a1b3_0000017af4ba5f82_1 ... (5s) Current status: DONE   \n"
     ]
    }
   ],
   "source": [
    "# !bq show\n",
    "!bq load --replace --source_format=NEWLINE_DELIMITED_JSON ecommerce.product_catalog gs://semi-structure-67625-bucket/ecommerce/catalog.json catalog_schema.json\n",
    "\n"
   ]
  },
  {
   "cell_type": "markdown",
   "metadata": {},
   "source": []
  },
  {
   "cell_type": "markdown",
   "metadata": {},
   "source": [
    "1. dataframe -> json변환 \n",
    "df.to_json([before.json], orient=\"records\")\n",
    "\n",
    "2. json -> newline_delimited_format json 변환\n",
    "!cat [before.json] | jq -c '.[]' > [after.json]\n",
    "\n",
    "3. json을 google storage bucket에 업로드\n",
    "!gsutil cp catalog.json gs://semi-structure-67625-bucket/[ 버킷 디렉토리 ]\n",
    "\n",
    "4. gs bucket에서 빅쿼리로 정의한 스키마 파일과 함께 업로드\n",
    "!bq load --replace --source_format=NEWLINE_DELIMITED_JSON [빅쿼리 테이블] gs://semi-structure-67625-bucket/[ 버킷 디렉토리 ] 스키마.json\n",
    "\n",
    "5. 빅쿼리에서 recommendation ai로 import"
   ]
  },
  {
   "cell_type": "markdown",
   "metadata": {},
   "source": [
    "Required for initial live experiment : add-to-cart, detail-page-view, home-page-view, purchase-complete"
   ]
  },
  {
   "cell_type": "code",
   "execution_count": 14,
   "metadata": {},
   "outputs": [
    {
     "data": {
      "text/html": [
       "<div>\n",
       "<style scoped>\n",
       "    .dataframe tbody tr th:only-of-type {\n",
       "        vertical-align: middle;\n",
       "    }\n",
       "\n",
       "    .dataframe tbody tr th {\n",
       "        vertical-align: top;\n",
       "    }\n",
       "\n",
       "    .dataframe thead th {\n",
       "        text-align: right;\n",
       "    }\n",
       "</style>\n",
       "<table border=\"1\" class=\"dataframe\">\n",
       "  <thead>\n",
       "    <tr style=\"text-align: right;\">\n",
       "      <th></th>\n",
       "      <th>eventType</th>\n",
       "      <th>eventTime</th>\n",
       "      <th>productEventDetail</th>\n",
       "      <th>userInfo</th>\n",
       "    </tr>\n",
       "  </thead>\n",
       "  <tbody>\n",
       "    <tr>\n",
       "      <th>0</th>\n",
       "      <td>detail-page-view</td>\n",
       "      <td>2016-10-21 03:14:40+00</td>\n",
       "      <td>[{'productDetails': [{'id': 'A12345'}]}]</td>\n",
       "      <td>[{'visitorId': '9006029694274259015-3'}]</td>\n",
       "    </tr>\n",
       "    <tr>\n",
       "      <th>1</th>\n",
       "      <td>detail-page-view</td>\n",
       "      <td>2016-10-12 18:19:03+00</td>\n",
       "      <td>[{'productDetails': [{'id': 'GGOEGAAX0031'}]}]</td>\n",
       "      <td>[{'visitorId': '4797728069033938331-1'}]</td>\n",
       "    </tr>\n",
       "    <tr>\n",
       "      <th>2</th>\n",
       "      <td>detail-page-view</td>\n",
       "      <td>2016-10-25 06:39:33+00</td>\n",
       "      <td>[{'productDetails': [{'id': 'GGOEGAAX0031'}]}]</td>\n",
       "      <td>[{'visitorId': '229095768299079389-3'}]</td>\n",
       "    </tr>\n",
       "    <tr>\n",
       "      <th>3</th>\n",
       "      <td>detail-page-view</td>\n",
       "      <td>2016-12-12 04:42:00+00</td>\n",
       "      <td>[{'productDetails': [{'id': 'GGOEGAAX0031'}]}]</td>\n",
       "      <td>[{'visitorId': '1928170213555367320-3'}]</td>\n",
       "    </tr>\n",
       "    <tr>\n",
       "      <th>4</th>\n",
       "      <td>detail-page-view</td>\n",
       "      <td>2016-09-15 23:14:16+00</td>\n",
       "      <td>[{'productDetails': [{'id': 'GGOEGAAX0031'}]}]</td>\n",
       "      <td>[{'visitorId': '6535875617262565784-2'}]</td>\n",
       "    </tr>\n",
       "  </tbody>\n",
       "</table>\n",
       "</div>"
      ],
      "text/plain": [
       "          eventType               eventTime  \\\n",
       "0  detail-page-view  2016-10-21 03:14:40+00   \n",
       "1  detail-page-view  2016-10-12 18:19:03+00   \n",
       "2  detail-page-view  2016-10-25 06:39:33+00   \n",
       "3  detail-page-view  2016-12-12 04:42:00+00   \n",
       "4  detail-page-view  2016-09-15 23:14:16+00   \n",
       "\n",
       "                               productEventDetail  \\\n",
       "0        [{'productDetails': [{'id': 'A12345'}]}]   \n",
       "1  [{'productDetails': [{'id': 'GGOEGAAX0031'}]}]   \n",
       "2  [{'productDetails': [{'id': 'GGOEGAAX0031'}]}]   \n",
       "3  [{'productDetails': [{'id': 'GGOEGAAX0031'}]}]   \n",
       "4  [{'productDetails': [{'id': 'GGOEGAAX0031'}]}]   \n",
       "\n",
       "                                   userInfo  \n",
       "0  [{'visitorId': '9006029694274259015-3'}]  \n",
       "1  [{'visitorId': '4797728069033938331-1'}]  \n",
       "2   [{'visitorId': '229095768299079389-3'}]  \n",
       "3  [{'visitorId': '1928170213555367320-3'}]  \n",
       "4  [{'visitorId': '6535875617262565784-2'}]  "
      ]
     },
     "execution_count": 14,
     "metadata": {},
     "output_type": "execute_result"
    }
   ],
   "source": [
    "from google.cloud import bigquery\n",
    "client = bigquery.Client()\n",
    "query = \"\"\"\n",
    "CREATE OR REPLACE TABLE  `my-semi-structure-recsys-67625.ecommerce.user_events_detail_page_view` AS (\n",
    "  WITH detail_page_view AS (\n",
    "  SELECT \n",
    "      \"detail-page-view\" AS eventType,\n",
    "      STRING(TIMESTAMP_SECONDS(SAFE_CAST(visitStartTime+hits.time/1000 AS INT64)), 'UTC') as eventTime,\n",
    "      productSKU AS id,\n",
    "      CONCAT(fullVisitorID,'-',CAST(visitNumber AS STRING)) AS visitorId      \n",
    "    FROM\n",
    "      `bigquery-public-data.google_analytics_sample.ga_sessions_2016*` t,\n",
    "      UNNEST(hits) AS hits,\n",
    "      UNNEST(hits.product) AS hits_product\n",
    "    WHERE\n",
    "     eCommerceAction.action_type = \"2\" \n",
    "  ),\n",
    "  product_detail AS (\n",
    "    SELECT eventType,\n",
    "      eventTime,\n",
    "      ARRAY_AGG(STRUCT(id)) AS productDetails\n",
    "    FROM detail_page_view\n",
    "    GROUP BY 1,2\n",
    "  ),\n",
    "  product_event_detail AS (\n",
    "    SELECT eventType,\n",
    "      eventTime,\n",
    "      ARRAY_AGG(STRUCT(productDetails)) AS productEventDetail\n",
    "    FROM product_detail\n",
    "    GROUP BY 1,2\n",
    "  ),\n",
    "  user_info AS (\n",
    "    SELECT eventType,\n",
    "      eventTime,\n",
    "      ARRAY_AGG(STRUCT(visitorId)) AS userInfo\n",
    "    FROM detail_page_view \n",
    "    GROUP BY 1,2\n",
    "  )\n",
    "    SELECT detail_page_view.eventType,\n",
    "      detail_page_view.eventTime,\n",
    "      productEventDetail,\n",
    "      userInfo\n",
    "    FROM detail_page_view INNER JOIN product_event_detail ON detail_page_view.eventTime = product_event_detail.eventTime\n",
    "        INNER JOIN user_info ON detail_page_view.eventTime = user_info.eventTime\n",
    "    );\n",
    "SELECT * \n",
    "FROM `my-semi-structure-recsys-67625.ecommerce.user_events_detail_page_view`\n",
    "\"\"\"\n",
    "query_job = client.query(query)\n",
    "df = query_job.result().to_dataframe()\n",
    "\n",
    "df.head()"
   ]
  },
  {
   "cell_type": "code",
   "execution_count": 15,
   "metadata": {},
   "outputs": [],
   "source": [
    "import json\n",
    "df.to_json('detail_page_view.json', orient=\"records\")\n"
   ]
  },
  {
   "cell_type": "code",
   "execution_count": 16,
   "metadata": {},
   "outputs": [],
   "source": [
    "!cat detail_page_view.json | jq -c '.[]' > user_events_detail_page_view.json"
   ]
  },
  {
   "cell_type": "code",
   "execution_count": 98,
   "metadata": {},
   "outputs": [
    {
     "name": "stdout",
     "output_type": "stream",
     "text": [
      "Copying file://user_events_detail_page_view.json [Content-Type=application/json]...\n",
      "\n",
      "Operation completed over 1 objects/30.8 MiB.                                     \n"
     ]
    }
   ],
   "source": [
    "!gsutil cp user_events_detail_page_view.json gs://semi-structure-67625-bucket/ecommerce/detail_page_view.json\n"
   ]
  },
  {
   "cell_type": "code",
   "execution_count": 99,
   "metadata": {},
   "outputs": [
    {
     "name": "stdout",
     "output_type": "stream",
     "text": [
      "Waiting on bqjob_r7afe079adc766521_0000017af6923876_1 ... (17s) Current status: DONE   \n"
     ]
    }
   ],
   "source": [
    "# !bq show\n",
    "!bq load --replace --source_format=NEWLINE_DELIMITED_JSON ecommerce.detail_page_view gs://semi-structure-67625-bucket/ecommerce/detail_page_view.json detail_page_view_schema.json\n",
    "\n"
   ]
  },
  {
   "cell_type": "code",
   "execution_count": 103,
   "metadata": {},
   "outputs": [
    {
     "data": {
      "text/html": [
       "<div>\n",
       "<style scoped>\n",
       "    .dataframe tbody tr th:only-of-type {\n",
       "        vertical-align: middle;\n",
       "    }\n",
       "\n",
       "    .dataframe tbody tr th {\n",
       "        vertical-align: top;\n",
       "    }\n",
       "\n",
       "    .dataframe thead th {\n",
       "        text-align: right;\n",
       "    }\n",
       "</style>\n",
       "<table border=\"1\" class=\"dataframe\">\n",
       "  <thead>\n",
       "    <tr style=\"text-align: right;\">\n",
       "      <th></th>\n",
       "      <th>eventType</th>\n",
       "      <th>eventTime</th>\n",
       "      <th>userInfo</th>\n",
       "      <th>productEventDetail</th>\n",
       "    </tr>\n",
       "  </thead>\n",
       "  <tbody>\n",
       "    <tr>\n",
       "      <th>0</th>\n",
       "      <td>detail-page-view</td>\n",
       "      <td>2021-03-01T07:16:57Z</td>\n",
       "      <td>[{'visitorId': '4283942788674999975-1'}]</td>\n",
       "      <td>[{'productDetails': [{'id': 'GGOEGEDQ023899'}]}]</td>\n",
       "    </tr>\n",
       "    <tr>\n",
       "      <th>1</th>\n",
       "      <td>detail-page-view</td>\n",
       "      <td>2021-03-01T07:19:10Z</td>\n",
       "      <td>[{'visitorId': '4283942788674999975-1'}]</td>\n",
       "      <td>[{'productDetails': [{'id': 'GGOEYDHJ056099'}]}]</td>\n",
       "    </tr>\n",
       "    <tr>\n",
       "      <th>2</th>\n",
       "      <td>detail-page-view</td>\n",
       "      <td>2021-03-01T07:19:11Z</td>\n",
       "      <td>[{'visitorId': '4283942788674999975-1'}]</td>\n",
       "      <td>[{'productDetails': [{'id': 'GGOEYDHJ056099'}]}]</td>\n",
       "    </tr>\n",
       "    <tr>\n",
       "      <th>3</th>\n",
       "      <td>detail-page-view</td>\n",
       "      <td>2021-03-01T07:19:24Z</td>\n",
       "      <td>[{'visitorId': '4283942788674999975-1'}]</td>\n",
       "      <td>[{'productDetails': [{'id': 'GGOEYDHJ019399'}]}]</td>\n",
       "    </tr>\n",
       "    <tr>\n",
       "      <th>4</th>\n",
       "      <td>detail-page-view</td>\n",
       "      <td>2021-03-01T07:19:40Z</td>\n",
       "      <td>[{'visitorId': '4283942788674999975-1'}]</td>\n",
       "      <td>[{'productDetails': [{'id': 'GGOEGDHC017999'}]}]</td>\n",
       "    </tr>\n",
       "  </tbody>\n",
       "</table>\n",
       "</div>"
      ],
      "text/plain": [
       "          eventType             eventTime  \\\n",
       "0  detail-page-view  2021-03-01T07:16:57Z   \n",
       "1  detail-page-view  2021-03-01T07:19:10Z   \n",
       "2  detail-page-view  2021-03-01T07:19:11Z   \n",
       "3  detail-page-view  2021-03-01T07:19:24Z   \n",
       "4  detail-page-view  2021-03-01T07:19:40Z   \n",
       "\n",
       "                                   userInfo  \\\n",
       "0  [{'visitorId': '4283942788674999975-1'}]   \n",
       "1  [{'visitorId': '4283942788674999975-1'}]   \n",
       "2  [{'visitorId': '4283942788674999975-1'}]   \n",
       "3  [{'visitorId': '4283942788674999975-1'}]   \n",
       "4  [{'visitorId': '4283942788674999975-1'}]   \n",
       "\n",
       "                                 productEventDetail  \n",
       "0  [{'productDetails': [{'id': 'GGOEGEDQ023899'}]}]  \n",
       "1  [{'productDetails': [{'id': 'GGOEYDHJ056099'}]}]  \n",
       "2  [{'productDetails': [{'id': 'GGOEYDHJ056099'}]}]  \n",
       "3  [{'productDetails': [{'id': 'GGOEYDHJ019399'}]}]  \n",
       "4  [{'productDetails': [{'id': 'GGOEGDHC017999'}]}]  "
      ]
     },
     "execution_count": 103,
     "metadata": {},
     "output_type": "execute_result"
    }
   ],
   "source": [
    "from google.cloud import bigquery\n",
    "client = bigquery.Client()\n",
    "query = \"\"\"\n",
    "CREATE OR REPLACE TABLE  `my-semi-structure-recsys-67625.ecommerce.detail_page_view_temp` AS (\n",
    "  WITH page_view_time AS (\n",
    "    SELECT DISTINCT \n",
    "      \"detail-page-view\" AS eventType,\n",
    "      DATETIME_ADD(DATETIME(FORMAT_TIMESTAMP(\"%Y-%m-%d %H:%M:%S\", TIMESTAMP_SECONDS(SAFE_CAST(visitStartTime+hits.time/1000 AS INT64)),'UTC')), INTERVAL 4 YEAR) AS eventTime,\n",
    "      productSKU as id,\n",
    "      CONCAT(fullVisitorID,'-',CAST(visitNumber AS STRING)) AS visitorId\n",
    "    FROM\n",
    "      `bigquery-public-data.google_analytics_sample.ga_sessions_2016*` t,\n",
    "      UNNEST(hits) AS hits,\n",
    "      UNNEST(hits.product) AS hits_product\n",
    "    WHERE\n",
    "      eCommerceAction.action_type = \"2\"\n",
    "), details AS (\n",
    "    SELECT eventType, DATETIME_ADD(eventTime, INTERVAL 7 MONTH) AS eventTime, visitorId, ARRAY_AGG(STRUCT(id)) AS productDetails FROM page_view_time\n",
    "    GROUP BY 1,2,3\n",
    "    ORDER BY 1,2,3\n",
    ")\n",
    "   SELECT eventType, CONCAT(EXTRACT(DATE FROM eventTime), 'T', EXTRACT(TIME FROM eventTime), 'Z') AS eventTime, ARRAY_AGG(STRUCT(visitorId)) AS userInfo, ARRAY_AGG(STRUCT(productDetails)) AS productEventDetail FROM details\n",
    "    GROUP BY 1,2\n",
    "    ORDER BY 1,2\n",
    ");\n",
    "SELECT * \n",
    "FROM `my-semi-structure-recsys-67625.ecommerce.detail_page_view_temp`\n",
    "\"\"\"\n",
    "query_job = client.query(query)\n",
    "df = query_job.result().to_dataframe()\n",
    "\n",
    "df.head()"
   ]
  },
  {
   "cell_type": "code",
   "execution_count": 107,
   "metadata": {},
   "outputs": [
    {
     "name": "stdout",
     "output_type": "stream",
     "text": [
      "<class 'pandas.core.frame.DataFrame'>\n",
      "RangeIndex: 175494 entries, 0 to 175493\n",
      "Data columns (total 4 columns):\n",
      " #   Column              Non-Null Count   Dtype \n",
      "---  ------              --------------   ----- \n",
      " 0   eventType           175494 non-null  object\n",
      " 1   eventTime           175494 non-null  object\n",
      " 2   userInfo            175494 non-null  object\n",
      " 3   productEventDetail  175494 non-null  object\n",
      "dtypes: object(4)\n",
      "memory usage: 5.4+ MB\n"
     ]
    }
   ],
   "source": [
    "df.info()"
   ]
  },
  {
   "cell_type": "code",
   "execution_count": 123,
   "metadata": {},
   "outputs": [],
   "source": [
    "import json\n",
    "df.to_json('detail_page_view.json', orient=\"records\")\n"
   ]
  },
  {
   "cell_type": "code",
   "execution_count": 105,
   "metadata": {},
   "outputs": [],
   "source": [
    "!cat detail_page_view.json | jq -c '.[]' > user_events_detail_page_view.json"
   ]
  },
  {
   "cell_type": "code",
   "execution_count": 129,
   "metadata": {},
   "outputs": [
    {
     "data": {
      "text/plain": [
       "32086914"
      ]
     },
     "execution_count": 129,
     "metadata": {},
     "output_type": "execute_result"
    }
   ],
   "source": [
    "with open('user_events_detail_page_view.json', 'r') as file:\n",
    "    data = file.read().replace('userInfo\":[', 'userInfo\":')\n",
    "    data = data.replace('}],', '},')\n",
    "    data = data.replace('productEventDetail\":[', 'productEventDetail\":')\n",
    "    data = data.replace('\"}]}]', ':}]}')\n",
    "file = open('user_events_detail_page_view.json','w')\n",
    "file.write(data)"
   ]
  },
  {
   "cell_type": "code",
   "execution_count": 96,
   "metadata": {},
   "outputs": [
    {
     "name": "stdout",
     "output_type": "stream",
     "text": [
      "Copying file://user_events_detail_page_view.json [Content-Type=application/json]...\n",
      "\n",
      "Operation completed over 1 objects/30.8 MiB.                                     \n"
     ]
    }
   ],
   "source": [
    "!gsutil cp user_events_detail_page_view.json gs://semi-structure-67625-bucket/ecommerce/detail_page_view.json"
   ]
  },
  {
   "cell_type": "code",
   "execution_count": 97,
   "metadata": {},
   "outputs": [
    {
     "name": "stdout",
     "output_type": "stream",
     "text": [
      "Waiting on bqjob_rf1626c690e28be1_0000017af68a81d1_1 ... (17s) Current status: DONE   \n"
     ]
    }
   ],
   "source": [
    "# !bq show\n",
    "!bq load --replace --source_format=NEWLINE_DELIMITED_JSON ecommerce.detail_page_view gs://semi-structure-67625-bucket/ecommerce/detail_page_view.json detail_page_view_schema.json\n",
    "\n"
   ]
  },
  {
   "cell_type": "code",
   "execution_count": null,
   "metadata": {},
   "outputs": [],
   "source": []
  }
 ],
 "metadata": {
  "interpreter": {
   "hash": "0adcc2737ebf6a4a119f135174df96668767fca1ef1112612db5ecadf2b6d608"
  },
  "kernelspec": {
   "display_name": "Python 3.8.11 64-bit",
   "name": "python3"
  },
  "language_info": {
   "codemirror_mode": {
    "name": "ipython",
    "version": 3
   },
   "file_extension": ".py",
   "mimetype": "text/x-python",
   "name": "python",
   "nbconvert_exporter": "python",
   "pygments_lexer": "ipython3",
   "version": "3.8.11"
  },
  "orig_nbformat": 4
 },
 "nbformat": 4,
 "nbformat_minor": 2
}