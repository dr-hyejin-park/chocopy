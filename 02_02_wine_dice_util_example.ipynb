{
 "cells": [
  {
   "cell_type": "markdown",
   "id": "eb94325d",
   "metadata": {},
   "source": [
    "# Setup"
   ]
  },
  {
   "cell_type": "markdown",
   "id": "b7bae27f",
   "metadata": {},
   "source": [
    "* Load modules"
   ]
  },
  {
   "cell_type": "code",
   "execution_count": 1,
   "id": "43f921b0",
   "metadata": {
    "ExecuteTime": {
     "end_time": "2021-07-20T00:33:21.531795Z",
     "start_time": "2021-07-20T00:33:19.306026Z"
    },
    "cell_style": "center",
    "code_folding": [
     0
    ]
   },
   "outputs": [],
   "source": [
    "# Import general pkgs\n",
    "from tabulate import tabulate\n",
    "import warnings\n",
    "import os\n",
    "import math\n",
    "import joblib\n",
    "import pickle\n",
    "import itertools\n",
    "import seaborn as sns\n",
    "import pandas as pd\n",
    "import numpy as np\n",
    "from sklearn.model_selection import train_test_split\n",
    "from sklearn.metrics import mean_squared_log_error\n",
    "from sklearn import preprocessing\n",
    "from sklearn.preprocessing import StandardScaler, PolynomialFeatures\n",
    "from sklearn.model_selection import cross_val_score, cross_val_predict\n",
    "from sklearn.metrics import (confusion_matrix, auc, classification_report, dcg_score, f1_score, precision_recall_curve,\n",
    "                             precision_score, recall_score, roc_auc_score, roc_curve)\n",
    "from scipy.stats import norm\n",
    "import matplotlib.pyplot as plt\n",
    "%matplotlib inline\n",
    "\n",
    "warnings.filterwarnings('ignore')"
   ]
  },
  {
   "cell_type": "code",
   "execution_count": 3,
   "id": "843379ca",
   "metadata": {
    "ExecuteTime": {
     "end_time": "2021-07-20T00:33:32.280160Z",
     "start_time": "2021-07-20T00:33:32.276789Z"
    },
    "code_folding": []
   },
   "outputs": [],
   "source": [
    "# Import custom pkgs\n",
    "import sys\n",
    "sys.path.append(\"../../../utils/\")\n",
    "import utils\n",
    "import dice_util"
   ]
  },
  {
   "cell_type": "code",
   "execution_count": 4,
   "id": "4f1151c0",
   "metadata": {
    "ExecuteTime": {
     "end_time": "2021-07-20T00:33:34.371564Z",
     "start_time": "2021-07-20T00:33:34.235286Z"
    },
    "code_folding": [
     0
    ]
   },
   "outputs": [],
   "source": [
    "# interpretml EBM\n",
    "from interpret.glassbox import ExplainableBoostingClassifier\n",
    "from interpret.glassbox import ExplainableBoostingRegressor, LinearRegression, RegressionTree\n",
    "from interpret.data import Marginal\n",
    "from interpret.perf import RegressionPerf\n",
    "from interpret import show\n",
    "\n",
    "# DiCE\n",
    "import dice_ml\n",
    "from dice_ml import Dice"
   ]
  },
  {
   "cell_type": "code",
   "execution_count": 5,
   "id": "ead5f536",
   "metadata": {
    "ExecuteTime": {
     "end_time": "2021-07-20T00:33:34.729779Z",
     "start_time": "2021-07-20T00:33:34.727602Z"
    }
   },
   "outputs": [],
   "source": [
    "# print(os.listdir('../../../data/wine_quality/raw/'))"
   ]
  },
  {
   "cell_type": "markdown",
   "id": "9ae69469",
   "metadata": {},
   "source": [
    "* Load data"
   ]
  },
  {
   "cell_type": "code",
   "execution_count": 6,
   "id": "1306bd61",
   "metadata": {
    "ExecuteTime": {
     "end_time": "2021-07-20T00:33:42.164619Z",
     "start_time": "2021-07-20T00:33:42.154359Z"
    }
   },
   "outputs": [],
   "source": [
    "path ='../../../data/wine_quality/'\n",
    "df_train = joblib.load(path+'processed/wine_quality_renamed.csv')\n",
    "# col_name = joblib.load(path+'raw/column_eng_kor.pickle')\n",
    "seed=777"
   ]
  },
  {
   "cell_type": "markdown",
   "id": "39754c05",
   "metadata": {},
   "source": [
    "# Train model"
   ]
  },
  {
   "cell_type": "code",
   "execution_count": 7,
   "id": "6601ee68",
   "metadata": {
    "ExecuteTime": {
     "end_time": "2021-07-20T00:33:46.961588Z",
     "start_time": "2021-07-20T00:33:46.957374Z"
    }
   },
   "outputs": [],
   "source": [
    "# X, y for modeling\n",
    "X = df_train.drop(['quality'], axis=1)\n",
    "y = df_train['quality']"
   ]
  },
  {
   "cell_type": "code",
   "execution_count": 8,
   "id": "8b94d6fe",
   "metadata": {
    "ExecuteTime": {
     "end_time": "2021-07-20T00:33:50.067598Z",
     "start_time": "2021-07-20T00:33:47.327301Z"
    }
   },
   "outputs": [
    {
     "data": {
      "text/plain": [
       "ExplainableBoostingRegressor(feature_names=['fixed_acidity', 'volatile_acidity',\n",
       "                                            'citric_acid', 'residual_sugar',\n",
       "                                            'chlorides', 'free_sulfur_dioxide',\n",
       "                                            'total_sulfur_dioxide', 'density',\n",
       "                                            'ph', 'sulphates', 'alcohol'],\n",
       "                             feature_types=['continuous', 'continuous',\n",
       "                                            'continuous', 'continuous',\n",
       "                                            'continuous', 'continuous',\n",
       "                                            'continuous', 'continuous',\n",
       "                                            'continuous', 'continuous',\n",
       "                                            'continuous'],\n",
       "                             interactions=0, random_state=777)"
      ]
     },
     "execution_count": 8,
     "metadata": {},
     "output_type": "execute_result"
    }
   ],
   "source": [
    "ebm = ExplainableBoostingRegressor(interactions=0, random_state=seed) # no interaction terms\n",
    "ebm.fit(X, y)"
   ]
  },
  {
   "cell_type": "markdown",
   "id": "3fd78863",
   "metadata": {},
   "source": [
    "# DiCE explainer"
   ]
  },
  {
   "cell_type": "code",
   "execution_count": 10,
   "id": "faf22cdf",
   "metadata": {
    "ExecuteTime": {
     "end_time": "2021-07-20T00:33:58.958421Z",
     "start_time": "2021-07-20T00:33:58.939077Z"
    }
   },
   "outputs": [],
   "source": [
    "## random\n",
    "# Dataset for training an ML model\n",
    "d = dice_ml.Data(dataframe=df_train,\n",
    "                 continuous_features= df_train.drop('quality', axis=1).columns.tolist(), \n",
    "                 outcome_name='quality')\n",
    "# Pre-trained ML model\n",
    "m = dice_ml.Model(model=ebm, backend='sklearn', model_type='regressor')\n",
    "# DiCE explanation instance\n",
    "exp_random = dice_ml.Dice(d,m, method='random')"
   ]
  },
  {
   "cell_type": "code",
   "execution_count": null,
   "id": "e1562f4c",
   "metadata": {},
   "outputs": [],
   "source": []
  },
  {
   "cell_type": "markdown",
   "id": "d3162efa",
   "metadata": {},
   "source": [
    "# Generate Counterfactuals"
   ]
  },
  {
   "cell_type": "code",
   "execution_count": 11,
   "id": "7de74eaa",
   "metadata": {
    "ExecuteTime": {
     "end_time": "2021-07-20T00:34:07.581710Z",
     "start_time": "2021-07-20T00:34:07.443180Z"
    }
   },
   "outputs": [
    {
     "name": "stderr",
     "output_type": "stream",
     "text": [
      "100%|██████████| 1/1 [00:00<00:00,  7.59it/s]\n"
     ]
    }
   ],
   "source": [
    "# DiCE의 Generate Counterfactuals 메서드의 세부 튜닝이 필요하면 함수 사용하지 않고 아래 코드 사용\n",
    "idx_X = 0\n",
    "total_cfs = 5\n",
    "desired_score = 6\n",
    "# desired_score = ebm.predict(X.iloc[[idx_X]])[0] + 1\n",
    "\n",
    "df_org = X.iloc[[idx_X]]\n",
    "e_random = exp_random.generate_counterfactuals(\n",
    "    query_instances=df_org,\n",
    "    total_CFs=total_cfs,\n",
    "    desired_range=[desired_score, desired_score + 1],\n",
    "    random_seed=seed)\n",
    "\n",
    "df_cfs = e_random.cf_examples_list[0].final_cfs_df"
   ]
  },
  {
   "cell_type": "markdown",
   "id": "18adaf61",
   "metadata": {},
   "source": [
    "## tabularize_org_cfs"
   ]
  },
  {
   "cell_type": "code",
   "execution_count": 12,
   "id": "825dedaa",
   "metadata": {
    "ExecuteTime": {
     "end_time": "2021-07-20T00:34:16.737599Z",
     "start_time": "2021-07-20T00:34:16.602241Z"
    }
   },
   "outputs": [
    {
     "name": "stderr",
     "output_type": "stream",
     "text": [
      "100%|██████████| 1/1 [00:00<00:00,  7.79it/s]\n"
     ]
    }
   ],
   "source": [
    "# set parameters\n",
    "idx_X = 0 # 관측하고싶은 샘플의 Index\n",
    "df_X = X\n",
    "model = ebm\n",
    "dice_explainer = exp_random\n",
    "desired_score = ebm.predict(X.iloc[[idx_X]])[0] + 1\n",
    "total_cfs=3\n",
    "\n",
    "df_org, df_cfs = dice_util.tabularize_org_cfs(df_X, idx_X, model, dice_explainer, desired_score, total_cfs, )"
   ]
  },
  {
   "cell_type": "code",
   "execution_count": 13,
   "id": "da2417d4",
   "metadata": {
    "ExecuteTime": {
     "end_time": "2021-07-20T00:34:18.076582Z",
     "start_time": "2021-07-20T00:34:18.051474Z"
    }
   },
   "outputs": [
    {
     "data": {
      "text/html": [
       "<div>\n",
       "<style scoped>\n",
       "    .dataframe tbody tr th:only-of-type {\n",
       "        vertical-align: middle;\n",
       "    }\n",
       "\n",
       "    .dataframe tbody tr th {\n",
       "        vertical-align: top;\n",
       "    }\n",
       "\n",
       "    .dataframe thead th {\n",
       "        text-align: right;\n",
       "    }\n",
       "</style>\n",
       "<table border=\"1\" class=\"dataframe\">\n",
       "  <thead>\n",
       "    <tr style=\"text-align: right;\">\n",
       "      <th></th>\n",
       "      <th>fixed_acidity</th>\n",
       "      <th>volatile_acidity</th>\n",
       "      <th>citric_acid</th>\n",
       "      <th>residual_sugar</th>\n",
       "      <th>chlorides</th>\n",
       "      <th>free_sulfur_dioxide</th>\n",
       "      <th>total_sulfur_dioxide</th>\n",
       "      <th>density</th>\n",
       "      <th>ph</th>\n",
       "      <th>sulphates</th>\n",
       "      <th>alcohol</th>\n",
       "    </tr>\n",
       "  </thead>\n",
       "  <tbody>\n",
       "    <tr>\n",
       "      <th>0</th>\n",
       "      <td>7.4</td>\n",
       "      <td>0.7</td>\n",
       "      <td>0.0</td>\n",
       "      <td>1.9</td>\n",
       "      <td>0.076</td>\n",
       "      <td>11.0</td>\n",
       "      <td>34.0</td>\n",
       "      <td>0.9978</td>\n",
       "      <td>3.51</td>\n",
       "      <td>0.56</td>\n",
       "      <td>9.4</td>\n",
       "    </tr>\n",
       "  </tbody>\n",
       "</table>\n",
       "</div>"
      ],
      "text/plain": [
       "   fixed_acidity  volatile_acidity  citric_acid  residual_sugar  chlorides  \\\n",
       "0            7.4               0.7          0.0             1.9      0.076   \n",
       "\n",
       "   free_sulfur_dioxide  total_sulfur_dioxide  density    ph  sulphates  \\\n",
       "0                 11.0                  34.0   0.9978  3.51       0.56   \n",
       "\n",
       "   alcohol  \n",
       "0      9.4  "
      ]
     },
     "execution_count": 13,
     "metadata": {},
     "output_type": "execute_result"
    }
   ],
   "source": [
    "df_org"
   ]
  },
  {
   "cell_type": "code",
   "execution_count": 14,
   "id": "696a1fc7",
   "metadata": {
    "ExecuteTime": {
     "end_time": "2021-07-20T00:34:19.669529Z",
     "start_time": "2021-07-20T00:34:19.650106Z"
    }
   },
   "outputs": [
    {
     "data": {
      "text/html": [
       "<div>\n",
       "<style scoped>\n",
       "    .dataframe tbody tr th:only-of-type {\n",
       "        vertical-align: middle;\n",
       "    }\n",
       "\n",
       "    .dataframe tbody tr th {\n",
       "        vertical-align: top;\n",
       "    }\n",
       "\n",
       "    .dataframe thead th {\n",
       "        text-align: right;\n",
       "    }\n",
       "</style>\n",
       "<table border=\"1\" class=\"dataframe\">\n",
       "  <thead>\n",
       "    <tr style=\"text-align: right;\">\n",
       "      <th></th>\n",
       "      <th>fixed_acidity</th>\n",
       "      <th>volatile_acidity</th>\n",
       "      <th>citric_acid</th>\n",
       "      <th>residual_sugar</th>\n",
       "      <th>chlorides</th>\n",
       "      <th>free_sulfur_dioxide</th>\n",
       "      <th>total_sulfur_dioxide</th>\n",
       "      <th>density</th>\n",
       "      <th>ph</th>\n",
       "      <th>sulphates</th>\n",
       "      <th>alcohol</th>\n",
       "      <th>quality</th>\n",
       "    </tr>\n",
       "  </thead>\n",
       "  <tbody>\n",
       "    <tr>\n",
       "      <th>0</th>\n",
       "      <td>7.4</td>\n",
       "      <td>0.7</td>\n",
       "      <td>0.0</td>\n",
       "      <td>1.9</td>\n",
       "      <td>0.076</td>\n",
       "      <td>11.0</td>\n",
       "      <td>34.0</td>\n",
       "      <td>0.9978</td>\n",
       "      <td>3.51</td>\n",
       "      <td>2.10</td>\n",
       "      <td>14.8</td>\n",
       "      <td>6.0</td>\n",
       "    </tr>\n",
       "    <tr>\n",
       "      <th>1</th>\n",
       "      <td>7.4</td>\n",
       "      <td>0.7</td>\n",
       "      <td>0.0</td>\n",
       "      <td>1.9</td>\n",
       "      <td>0.076</td>\n",
       "      <td>52.5</td>\n",
       "      <td>34.0</td>\n",
       "      <td>0.9978</td>\n",
       "      <td>3.51</td>\n",
       "      <td>0.56</td>\n",
       "      <td>13.2</td>\n",
       "      <td>6.0</td>\n",
       "    </tr>\n",
       "    <tr>\n",
       "      <th>2</th>\n",
       "      <td>7.4</td>\n",
       "      <td>0.7</td>\n",
       "      <td>0.0</td>\n",
       "      <td>1.9</td>\n",
       "      <td>0.076</td>\n",
       "      <td>11.0</td>\n",
       "      <td>34.0</td>\n",
       "      <td>0.9978</td>\n",
       "      <td>3.51</td>\n",
       "      <td>2.10</td>\n",
       "      <td>15.0</td>\n",
       "      <td>6.0</td>\n",
       "    </tr>\n",
       "  </tbody>\n",
       "</table>\n",
       "</div>"
      ],
      "text/plain": [
       "   fixed_acidity  volatile_acidity  citric_acid  residual_sugar  chlorides  \\\n",
       "0            7.4               0.7          0.0             1.9      0.076   \n",
       "1            7.4               0.7          0.0             1.9      0.076   \n",
       "2            7.4               0.7          0.0             1.9      0.076   \n",
       "\n",
       "   free_sulfur_dioxide  total_sulfur_dioxide  density    ph  sulphates  \\\n",
       "0                 11.0                  34.0   0.9978  3.51       2.10   \n",
       "1                 52.5                  34.0   0.9978  3.51       0.56   \n",
       "2                 11.0                  34.0   0.9978  3.51       2.10   \n",
       "\n",
       "   alcohol  quality  \n",
       "0     14.8      6.0  \n",
       "1     13.2      6.0  \n",
       "2     15.0      6.0  "
      ]
     },
     "execution_count": 14,
     "metadata": {},
     "output_type": "execute_result"
    }
   ],
   "source": [
    "df_cfs"
   ]
  },
  {
   "cell_type": "markdown",
   "id": "a4c173b8",
   "metadata": {},
   "source": [
    "## tabularize_value_gap"
   ]
  },
  {
   "cell_type": "code",
   "execution_count": 15,
   "id": "175b5426",
   "metadata": {
    "ExecuteTime": {
     "end_time": "2021-07-20T00:34:22.958686Z",
     "start_time": "2021-07-20T00:34:22.902838Z"
    }
   },
   "outputs": [
    {
     "data": {
      "text/html": [
       "<div>\n",
       "<style scoped>\n",
       "    .dataframe tbody tr th:only-of-type {\n",
       "        vertical-align: middle;\n",
       "    }\n",
       "\n",
       "    .dataframe tbody tr th {\n",
       "        vertical-align: top;\n",
       "    }\n",
       "\n",
       "    .dataframe thead th {\n",
       "        text-align: right;\n",
       "    }\n",
       "</style>\n",
       "<table border=\"1\" class=\"dataframe\">\n",
       "  <thead>\n",
       "    <tr style=\"text-align: right;\">\n",
       "      <th></th>\n",
       "      <th>cf_no</th>\n",
       "      <th>feature</th>\n",
       "      <th>value_org</th>\n",
       "      <th>value_cf</th>\n",
       "      <th>gap</th>\n",
       "    </tr>\n",
       "  </thead>\n",
       "  <tbody>\n",
       "    <tr>\n",
       "      <th>0</th>\n",
       "      <td>0</td>\n",
       "      <td>alcohol</td>\n",
       "      <td>9.40</td>\n",
       "      <td>14.8</td>\n",
       "      <td>5.4</td>\n",
       "    </tr>\n",
       "    <tr>\n",
       "      <th>1</th>\n",
       "      <td>0</td>\n",
       "      <td>sulphates</td>\n",
       "      <td>0.56</td>\n",
       "      <td>2.1</td>\n",
       "      <td>1.5</td>\n",
       "    </tr>\n",
       "    <tr>\n",
       "      <th>2</th>\n",
       "      <td>1</td>\n",
       "      <td>free_sulfur_dioxide</td>\n",
       "      <td>11.00</td>\n",
       "      <td>52.5</td>\n",
       "      <td>41.5</td>\n",
       "    </tr>\n",
       "    <tr>\n",
       "      <th>3</th>\n",
       "      <td>1</td>\n",
       "      <td>alcohol</td>\n",
       "      <td>9.40</td>\n",
       "      <td>13.2</td>\n",
       "      <td>3.8</td>\n",
       "    </tr>\n",
       "    <tr>\n",
       "      <th>4</th>\n",
       "      <td>2</td>\n",
       "      <td>alcohol</td>\n",
       "      <td>9.40</td>\n",
       "      <td>15.0</td>\n",
       "      <td>5.6</td>\n",
       "    </tr>\n",
       "    <tr>\n",
       "      <th>5</th>\n",
       "      <td>2</td>\n",
       "      <td>sulphates</td>\n",
       "      <td>0.56</td>\n",
       "      <td>2.1</td>\n",
       "      <td>1.5</td>\n",
       "    </tr>\n",
       "  </tbody>\n",
       "</table>\n",
       "</div>"
      ],
      "text/plain": [
       "   cf_no              feature  value_org  value_cf   gap\n",
       "0      0              alcohol       9.40      14.8   5.4\n",
       "1      0            sulphates       0.56       2.1   1.5\n",
       "2      1  free_sulfur_dioxide      11.00      52.5  41.5\n",
       "3      1              alcohol       9.40      13.2   3.8\n",
       "4      2              alcohol       9.40      15.0   5.6\n",
       "5      2            sulphates       0.56       2.1   1.5"
      ]
     },
     "execution_count": 15,
     "metadata": {},
     "output_type": "execute_result"
    }
   ],
   "source": [
    "dice_util.tabularize_value_gap(df_org, df_cfs)"
   ]
  },
  {
   "cell_type": "markdown",
   "id": "a9c815f5",
   "metadata": {},
   "source": [
    "## tabularize_dice_pred_result"
   ]
  },
  {
   "cell_type": "code",
   "execution_count": 13,
   "id": "ffa4ea89",
   "metadata": {
    "ExecuteTime": {
     "end_time": "2021-07-16T05:44:22.047362Z",
     "start_time": "2021-07-16T05:44:22.037808Z"
    },
    "scrolled": true
   },
   "outputs": [
    {
     "data": {
      "text/html": [
       "<div>\n",
       "<style scoped>\n",
       "    .dataframe tbody tr th:only-of-type {\n",
       "        vertical-align: middle;\n",
       "    }\n",
       "\n",
       "    .dataframe tbody tr th {\n",
       "        vertical-align: top;\n",
       "    }\n",
       "\n",
       "    .dataframe thead th {\n",
       "        text-align: right;\n",
       "    }\n",
       "</style>\n",
       "<table border=\"1\" class=\"dataframe\">\n",
       "  <thead>\n",
       "    <tr style=\"text-align: right;\">\n",
       "      <th></th>\n",
       "      <th>sort</th>\n",
       "      <th>pred_score</th>\n",
       "    </tr>\n",
       "  </thead>\n",
       "  <tbody>\n",
       "    <tr>\n",
       "      <th>0</th>\n",
       "      <td>current</td>\n",
       "      <td>5.0</td>\n",
       "    </tr>\n",
       "    <tr>\n",
       "      <th>1</th>\n",
       "      <td>0</td>\n",
       "      <td>6.0</td>\n",
       "    </tr>\n",
       "    <tr>\n",
       "      <th>2</th>\n",
       "      <td>1</td>\n",
       "      <td>6.2</td>\n",
       "    </tr>\n",
       "    <tr>\n",
       "      <th>3</th>\n",
       "      <td>2</td>\n",
       "      <td>6.0</td>\n",
       "    </tr>\n",
       "  </tbody>\n",
       "</table>\n",
       "</div>"
      ],
      "text/plain": [
       "      sort  pred_score\n",
       "0  current         5.0\n",
       "1        0         6.0\n",
       "2        1         6.2\n",
       "3        2         6.0"
      ]
     },
     "execution_count": 13,
     "metadata": {},
     "output_type": "execute_result"
    }
   ],
   "source": [
    "dice_util.tabularize_dice_pred_result(df_org,df_cfs,ebm)"
   ]
  },
  {
   "cell_type": "markdown",
   "id": "01cae439",
   "metadata": {},
   "source": [
    "## calculate_max_score"
   ]
  },
  {
   "cell_type": "code",
   "execution_count": 20,
   "id": "467eb8b9",
   "metadata": {
    "ExecuteTime": {
     "end_time": "2021-07-20T00:34:56.868255Z",
     "start_time": "2021-07-20T00:34:54.896264Z"
    }
   },
   "outputs": [
    {
     "name": "stderr",
     "output_type": "stream",
     "text": [
      "100%|██████████| 1/1 [00:00<00:00,  8.46it/s]\n",
      "100%|██████████| 1/1 [00:00<00:00,  9.51it/s]\n",
      "100%|██████████| 1/1 [00:00<00:00,  9.38it/s]\n",
      "100%|██████████| 1/1 [00:00<00:00,  9.60it/s]\n",
      "100%|██████████| 1/1 [00:00<00:00,  9.14it/s]\n",
      "100%|██████████| 1/1 [00:00<00:00,  9.02it/s]\n",
      "100%|██████████| 1/1 [00:00<00:00,  9.10it/s]\n",
      "100%|██████████| 1/1 [00:00<00:00,  8.85it/s]\n",
      "100%|██████████| 1/1 [00:00<00:00,  9.07it/s]\n",
      "100%|██████████| 1/1 [00:00<00:00,  9.43it/s]\n",
      "100%|██████████| 1/1 [00:00<00:00,  9.77it/s]\n",
      "100%|██████████| 1/1 [00:00<00:00,  9.31it/s]\n",
      "100%|██████████| 1/1 [00:00<00:00,  8.17it/s]\n",
      "100%|██████████| 1/1 [00:00<00:00,  7.34it/s]\n",
      "100%|██████████| 1/1 [00:00<00:00,  6.24it/s]\n",
      "100%|██████████| 1/1 [00:00<00:00,  4.52it/s]"
     ]
    },
    {
     "name": "stdout",
     "output_type": "stream",
     "text": [
      "No Counterfactuals found for the given configuration, perhaps try with different parameters... ; total time taken: 00 min 00 sec\n",
      "6.6 is max score which is changable.\n"
     ]
    },
    {
     "name": "stderr",
     "output_type": "stream",
     "text": [
      "\n"
     ]
    }
   ],
   "source": [
    "max_score = dice_util.calculate_max_score(X, 0, ebm, exp_random)"
   ]
  },
  {
   "cell_type": "markdown",
   "id": "6798d2bf",
   "metadata": {},
   "source": [
    "## tabularize_spase_cfs (Charting을 위해 필요한 데이터프레임 형태임)"
   ]
  },
  {
   "cell_type": "code",
   "execution_count": 22,
   "id": "aa10b031",
   "metadata": {
    "ExecuteTime": {
     "end_time": "2021-07-20T00:35:03.839416Z",
     "start_time": "2021-07-20T00:35:03.805482Z"
    }
   },
   "outputs": [
    {
     "data": {
      "text/html": [
       "<div>\n",
       "<style scoped>\n",
       "    .dataframe tbody tr th:only-of-type {\n",
       "        vertical-align: middle;\n",
       "    }\n",
       "\n",
       "    .dataframe tbody tr th {\n",
       "        vertical-align: top;\n",
       "    }\n",
       "\n",
       "    .dataframe thead th {\n",
       "        text-align: right;\n",
       "    }\n",
       "</style>\n",
       "<table border=\"1\" class=\"dataframe\">\n",
       "  <thead>\n",
       "    <tr style=\"text-align: right;\">\n",
       "      <th></th>\n",
       "      <th>cf_no</th>\n",
       "      <th>feature</th>\n",
       "      <th>value_org</th>\n",
       "      <th>value_cf</th>\n",
       "      <th>value_cf_plus</th>\n",
       "      <th>value_cf_minus</th>\n",
       "      <th>endpoint_for_minus</th>\n",
       "    </tr>\n",
       "  </thead>\n",
       "  <tbody>\n",
       "    <tr>\n",
       "      <th>0</th>\n",
       "      <td>0</td>\n",
       "      <td>fixed_acidity</td>\n",
       "      <td>7.4000</td>\n",
       "      <td>0.0</td>\n",
       "      <td>NaN</td>\n",
       "      <td>NaN</td>\n",
       "      <td>NaN</td>\n",
       "    </tr>\n",
       "    <tr>\n",
       "      <th>1</th>\n",
       "      <td>0</td>\n",
       "      <td>volatile_acidity</td>\n",
       "      <td>0.7000</td>\n",
       "      <td>0.0</td>\n",
       "      <td>NaN</td>\n",
       "      <td>NaN</td>\n",
       "      <td>NaN</td>\n",
       "    </tr>\n",
       "    <tr>\n",
       "      <th>2</th>\n",
       "      <td>0</td>\n",
       "      <td>citric_acid</td>\n",
       "      <td>0.0000</td>\n",
       "      <td>0.0</td>\n",
       "      <td>NaN</td>\n",
       "      <td>NaN</td>\n",
       "      <td>NaN</td>\n",
       "    </tr>\n",
       "    <tr>\n",
       "      <th>3</th>\n",
       "      <td>0</td>\n",
       "      <td>residual_sugar</td>\n",
       "      <td>1.9000</td>\n",
       "      <td>0.0</td>\n",
       "      <td>NaN</td>\n",
       "      <td>NaN</td>\n",
       "      <td>NaN</td>\n",
       "    </tr>\n",
       "    <tr>\n",
       "      <th>4</th>\n",
       "      <td>0</td>\n",
       "      <td>chlorides</td>\n",
       "      <td>0.0760</td>\n",
       "      <td>0.0</td>\n",
       "      <td>NaN</td>\n",
       "      <td>NaN</td>\n",
       "      <td>NaN</td>\n",
       "    </tr>\n",
       "    <tr>\n",
       "      <th>5</th>\n",
       "      <td>0</td>\n",
       "      <td>free_sulfur_dioxide</td>\n",
       "      <td>11.0000</td>\n",
       "      <td>0.0</td>\n",
       "      <td>NaN</td>\n",
       "      <td>NaN</td>\n",
       "      <td>NaN</td>\n",
       "    </tr>\n",
       "    <tr>\n",
       "      <th>6</th>\n",
       "      <td>0</td>\n",
       "      <td>total_sulfur_dioxide</td>\n",
       "      <td>34.0000</td>\n",
       "      <td>0.0</td>\n",
       "      <td>NaN</td>\n",
       "      <td>NaN</td>\n",
       "      <td>NaN</td>\n",
       "    </tr>\n",
       "    <tr>\n",
       "      <th>7</th>\n",
       "      <td>0</td>\n",
       "      <td>density</td>\n",
       "      <td>0.9978</td>\n",
       "      <td>0.0</td>\n",
       "      <td>NaN</td>\n",
       "      <td>NaN</td>\n",
       "      <td>NaN</td>\n",
       "    </tr>\n",
       "    <tr>\n",
       "      <th>8</th>\n",
       "      <td>0</td>\n",
       "      <td>ph</td>\n",
       "      <td>3.5100</td>\n",
       "      <td>0.0</td>\n",
       "      <td>NaN</td>\n",
       "      <td>NaN</td>\n",
       "      <td>NaN</td>\n",
       "    </tr>\n",
       "    <tr>\n",
       "      <th>9</th>\n",
       "      <td>0</td>\n",
       "      <td>sulphates</td>\n",
       "      <td>0.5600</td>\n",
       "      <td>2.1</td>\n",
       "      <td>2.1</td>\n",
       "      <td>NaN</td>\n",
       "      <td>NaN</td>\n",
       "    </tr>\n",
       "    <tr>\n",
       "      <th>10</th>\n",
       "      <td>0</td>\n",
       "      <td>alcohol</td>\n",
       "      <td>9.4000</td>\n",
       "      <td>14.8</td>\n",
       "      <td>14.8</td>\n",
       "      <td>NaN</td>\n",
       "      <td>NaN</td>\n",
       "    </tr>\n",
       "    <tr>\n",
       "      <th>11</th>\n",
       "      <td>1</td>\n",
       "      <td>fixed_acidity</td>\n",
       "      <td>7.4000</td>\n",
       "      <td>0.0</td>\n",
       "      <td>NaN</td>\n",
       "      <td>NaN</td>\n",
       "      <td>NaN</td>\n",
       "    </tr>\n",
       "    <tr>\n",
       "      <th>12</th>\n",
       "      <td>1</td>\n",
       "      <td>volatile_acidity</td>\n",
       "      <td>0.7000</td>\n",
       "      <td>0.0</td>\n",
       "      <td>NaN</td>\n",
       "      <td>NaN</td>\n",
       "      <td>NaN</td>\n",
       "    </tr>\n",
       "    <tr>\n",
       "      <th>13</th>\n",
       "      <td>1</td>\n",
       "      <td>citric_acid</td>\n",
       "      <td>0.0000</td>\n",
       "      <td>0.0</td>\n",
       "      <td>NaN</td>\n",
       "      <td>NaN</td>\n",
       "      <td>NaN</td>\n",
       "    </tr>\n",
       "    <tr>\n",
       "      <th>14</th>\n",
       "      <td>1</td>\n",
       "      <td>residual_sugar</td>\n",
       "      <td>1.9000</td>\n",
       "      <td>0.0</td>\n",
       "      <td>NaN</td>\n",
       "      <td>NaN</td>\n",
       "      <td>NaN</td>\n",
       "    </tr>\n",
       "    <tr>\n",
       "      <th>15</th>\n",
       "      <td>1</td>\n",
       "      <td>chlorides</td>\n",
       "      <td>0.0760</td>\n",
       "      <td>0.0</td>\n",
       "      <td>NaN</td>\n",
       "      <td>NaN</td>\n",
       "      <td>NaN</td>\n",
       "    </tr>\n",
       "    <tr>\n",
       "      <th>16</th>\n",
       "      <td>1</td>\n",
       "      <td>free_sulfur_dioxide</td>\n",
       "      <td>11.0000</td>\n",
       "      <td>52.5</td>\n",
       "      <td>52.5</td>\n",
       "      <td>NaN</td>\n",
       "      <td>NaN</td>\n",
       "    </tr>\n",
       "    <tr>\n",
       "      <th>17</th>\n",
       "      <td>1</td>\n",
       "      <td>total_sulfur_dioxide</td>\n",
       "      <td>34.0000</td>\n",
       "      <td>0.0</td>\n",
       "      <td>NaN</td>\n",
       "      <td>NaN</td>\n",
       "      <td>NaN</td>\n",
       "    </tr>\n",
       "    <tr>\n",
       "      <th>18</th>\n",
       "      <td>1</td>\n",
       "      <td>density</td>\n",
       "      <td>0.9978</td>\n",
       "      <td>0.0</td>\n",
       "      <td>NaN</td>\n",
       "      <td>NaN</td>\n",
       "      <td>NaN</td>\n",
       "    </tr>\n",
       "    <tr>\n",
       "      <th>19</th>\n",
       "      <td>1</td>\n",
       "      <td>ph</td>\n",
       "      <td>3.5100</td>\n",
       "      <td>0.0</td>\n",
       "      <td>NaN</td>\n",
       "      <td>NaN</td>\n",
       "      <td>NaN</td>\n",
       "    </tr>\n",
       "    <tr>\n",
       "      <th>20</th>\n",
       "      <td>1</td>\n",
       "      <td>sulphates</td>\n",
       "      <td>0.5600</td>\n",
       "      <td>0.0</td>\n",
       "      <td>NaN</td>\n",
       "      <td>NaN</td>\n",
       "      <td>NaN</td>\n",
       "    </tr>\n",
       "    <tr>\n",
       "      <th>21</th>\n",
       "      <td>1</td>\n",
       "      <td>alcohol</td>\n",
       "      <td>9.4000</td>\n",
       "      <td>13.2</td>\n",
       "      <td>13.2</td>\n",
       "      <td>NaN</td>\n",
       "      <td>NaN</td>\n",
       "    </tr>\n",
       "    <tr>\n",
       "      <th>22</th>\n",
       "      <td>2</td>\n",
       "      <td>fixed_acidity</td>\n",
       "      <td>7.4000</td>\n",
       "      <td>0.0</td>\n",
       "      <td>NaN</td>\n",
       "      <td>NaN</td>\n",
       "      <td>NaN</td>\n",
       "    </tr>\n",
       "    <tr>\n",
       "      <th>23</th>\n",
       "      <td>2</td>\n",
       "      <td>volatile_acidity</td>\n",
       "      <td>0.7000</td>\n",
       "      <td>0.0</td>\n",
       "      <td>NaN</td>\n",
       "      <td>NaN</td>\n",
       "      <td>NaN</td>\n",
       "    </tr>\n",
       "    <tr>\n",
       "      <th>24</th>\n",
       "      <td>2</td>\n",
       "      <td>citric_acid</td>\n",
       "      <td>0.0000</td>\n",
       "      <td>0.0</td>\n",
       "      <td>NaN</td>\n",
       "      <td>NaN</td>\n",
       "      <td>NaN</td>\n",
       "    </tr>\n",
       "    <tr>\n",
       "      <th>25</th>\n",
       "      <td>2</td>\n",
       "      <td>residual_sugar</td>\n",
       "      <td>1.9000</td>\n",
       "      <td>0.0</td>\n",
       "      <td>NaN</td>\n",
       "      <td>NaN</td>\n",
       "      <td>NaN</td>\n",
       "    </tr>\n",
       "    <tr>\n",
       "      <th>26</th>\n",
       "      <td>2</td>\n",
       "      <td>chlorides</td>\n",
       "      <td>0.0760</td>\n",
       "      <td>0.0</td>\n",
       "      <td>NaN</td>\n",
       "      <td>NaN</td>\n",
       "      <td>NaN</td>\n",
       "    </tr>\n",
       "    <tr>\n",
       "      <th>27</th>\n",
       "      <td>2</td>\n",
       "      <td>free_sulfur_dioxide</td>\n",
       "      <td>11.0000</td>\n",
       "      <td>0.0</td>\n",
       "      <td>NaN</td>\n",
       "      <td>NaN</td>\n",
       "      <td>NaN</td>\n",
       "    </tr>\n",
       "    <tr>\n",
       "      <th>28</th>\n",
       "      <td>2</td>\n",
       "      <td>total_sulfur_dioxide</td>\n",
       "      <td>34.0000</td>\n",
       "      <td>0.0</td>\n",
       "      <td>NaN</td>\n",
       "      <td>NaN</td>\n",
       "      <td>NaN</td>\n",
       "    </tr>\n",
       "    <tr>\n",
       "      <th>29</th>\n",
       "      <td>2</td>\n",
       "      <td>density</td>\n",
       "      <td>0.9978</td>\n",
       "      <td>0.0</td>\n",
       "      <td>NaN</td>\n",
       "      <td>NaN</td>\n",
       "      <td>NaN</td>\n",
       "    </tr>\n",
       "    <tr>\n",
       "      <th>30</th>\n",
       "      <td>2</td>\n",
       "      <td>ph</td>\n",
       "      <td>3.5100</td>\n",
       "      <td>0.0</td>\n",
       "      <td>NaN</td>\n",
       "      <td>NaN</td>\n",
       "      <td>NaN</td>\n",
       "    </tr>\n",
       "    <tr>\n",
       "      <th>31</th>\n",
       "      <td>2</td>\n",
       "      <td>sulphates</td>\n",
       "      <td>0.5600</td>\n",
       "      <td>2.1</td>\n",
       "      <td>2.1</td>\n",
       "      <td>NaN</td>\n",
       "      <td>NaN</td>\n",
       "    </tr>\n",
       "    <tr>\n",
       "      <th>32</th>\n",
       "      <td>2</td>\n",
       "      <td>alcohol</td>\n",
       "      <td>9.4000</td>\n",
       "      <td>15.0</td>\n",
       "      <td>15.0</td>\n",
       "      <td>NaN</td>\n",
       "      <td>NaN</td>\n",
       "    </tr>\n",
       "  </tbody>\n",
       "</table>\n",
       "</div>"
      ],
      "text/plain": [
       "    cf_no               feature  value_org  value_cf  value_cf_plus  \\\n",
       "0       0         fixed_acidity     7.4000       0.0            NaN   \n",
       "1       0      volatile_acidity     0.7000       0.0            NaN   \n",
       "2       0           citric_acid     0.0000       0.0            NaN   \n",
       "3       0        residual_sugar     1.9000       0.0            NaN   \n",
       "4       0             chlorides     0.0760       0.0            NaN   \n",
       "5       0   free_sulfur_dioxide    11.0000       0.0            NaN   \n",
       "6       0  total_sulfur_dioxide    34.0000       0.0            NaN   \n",
       "7       0               density     0.9978       0.0            NaN   \n",
       "8       0                    ph     3.5100       0.0            NaN   \n",
       "9       0             sulphates     0.5600       2.1            2.1   \n",
       "10      0               alcohol     9.4000      14.8           14.8   \n",
       "11      1         fixed_acidity     7.4000       0.0            NaN   \n",
       "12      1      volatile_acidity     0.7000       0.0            NaN   \n",
       "13      1           citric_acid     0.0000       0.0            NaN   \n",
       "14      1        residual_sugar     1.9000       0.0            NaN   \n",
       "15      1             chlorides     0.0760       0.0            NaN   \n",
       "16      1   free_sulfur_dioxide    11.0000      52.5           52.5   \n",
       "17      1  total_sulfur_dioxide    34.0000       0.0            NaN   \n",
       "18      1               density     0.9978       0.0            NaN   \n",
       "19      1                    ph     3.5100       0.0            NaN   \n",
       "20      1             sulphates     0.5600       0.0            NaN   \n",
       "21      1               alcohol     9.4000      13.2           13.2   \n",
       "22      2         fixed_acidity     7.4000       0.0            NaN   \n",
       "23      2      volatile_acidity     0.7000       0.0            NaN   \n",
       "24      2           citric_acid     0.0000       0.0            NaN   \n",
       "25      2        residual_sugar     1.9000       0.0            NaN   \n",
       "26      2             chlorides     0.0760       0.0            NaN   \n",
       "27      2   free_sulfur_dioxide    11.0000       0.0            NaN   \n",
       "28      2  total_sulfur_dioxide    34.0000       0.0            NaN   \n",
       "29      2               density     0.9978       0.0            NaN   \n",
       "30      2                    ph     3.5100       0.0            NaN   \n",
       "31      2             sulphates     0.5600       2.1            2.1   \n",
       "32      2               alcohol     9.4000      15.0           15.0   \n",
       "\n",
       "    value_cf_minus  endpoint_for_minus  \n",
       "0              NaN                 NaN  \n",
       "1              NaN                 NaN  \n",
       "2              NaN                 NaN  \n",
       "3              NaN                 NaN  \n",
       "4              NaN                 NaN  \n",
       "5              NaN                 NaN  \n",
       "6              NaN                 NaN  \n",
       "7              NaN                 NaN  \n",
       "8              NaN                 NaN  \n",
       "9              NaN                 NaN  \n",
       "10             NaN                 NaN  \n",
       "11             NaN                 NaN  \n",
       "12             NaN                 NaN  \n",
       "13             NaN                 NaN  \n",
       "14             NaN                 NaN  \n",
       "15             NaN                 NaN  \n",
       "16             NaN                 NaN  \n",
       "17             NaN                 NaN  \n",
       "18             NaN                 NaN  \n",
       "19             NaN                 NaN  \n",
       "20             NaN                 NaN  \n",
       "21             NaN                 NaN  \n",
       "22             NaN                 NaN  \n",
       "23             NaN                 NaN  \n",
       "24             NaN                 NaN  \n",
       "25             NaN                 NaN  \n",
       "26             NaN                 NaN  \n",
       "27             NaN                 NaN  \n",
       "28             NaN                 NaN  \n",
       "29             NaN                 NaN  \n",
       "30             NaN                 NaN  \n",
       "31             NaN                 NaN  \n",
       "32             NaN                 NaN  "
      ]
     },
     "execution_count": 22,
     "metadata": {},
     "output_type": "execute_result"
    }
   ],
   "source": [
    "dice_util.tabularize_sparse_cfs(df_org, df_cfs)"
   ]
  },
  {
   "cell_type": "code",
   "execution_count": null,
   "id": "c6fde59e",
   "metadata": {},
   "outputs": [],
   "source": []
  }
 ],
 "metadata": {
  "hide_input": false,
  "kernelspec": {
   "display_name": "Python 3",
   "language": "python",
   "name": "python3"
  },
  "language_info": {
   "codemirror_mode": {
    "name": "ipython",
    "version": 3
   },
   "file_extension": ".py",
   "mimetype": "text/x-python",
   "name": "python",
   "nbconvert_exporter": "python",
   "pygments_lexer": "ipython3",
   "version": "3.8.8"
  },
  "toc": {
   "base_numbering": 1,
   "nav_menu": {},
   "number_sections": true,
   "sideBar": true,
   "skip_h1_title": false,
   "title_cell": "Table of Contents",
   "title_sidebar": "Contents",
   "toc_cell": false,
   "toc_position": {
    "height": "656px",
    "left": "129px",
    "top": "88px",
    "width": "336px"
   },
   "toc_section_display": true,
   "toc_window_display": true
  },
  "varInspector": {
   "cols": {
    "lenName": 16,
    "lenType": 16,
    "lenVar": 40
   },
   "kernels_config": {
    "python": {
     "delete_cmd_postfix": "",
     "delete_cmd_prefix": "del ",
     "library": "var_list.py",
     "varRefreshCmd": "print(var_dic_list())"
    },
    "r": {
     "delete_cmd_postfix": ") ",
     "delete_cmd_prefix": "rm(",
     "library": "var_list.r",
     "varRefreshCmd": "cat(var_dic_list()) "
    }
   },
   "types_to_exclude": [
    "module",
    "function",
    "builtin_function_or_method",
    "instance",
    "_Feature"
   ],
   "window_display": false
  }
 },
 "nbformat": 4,
 "nbformat_minor": 5
}
