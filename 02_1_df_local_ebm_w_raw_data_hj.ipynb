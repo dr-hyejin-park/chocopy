{
 "cells": [
  {
   "cell_type": "code",
   "execution_count": 2,
   "metadata": {
    "ExecuteTime": {
     "end_time": "2021-06-26T13:37:12.271479Z",
     "start_time": "2021-06-26T13:37:12.267710Z"
    }
   },
   "outputs": [],
   "source": [
    "import pandas as pd\n",
    "import numpy as np\n",
    "from tqdm import tqdm\n",
    "import pickle\n",
    "import joblib\n",
    "from sklearn.preprocessing import StandardScaler\n",
    "from sklearn.model_selection import train_test_split\n",
    "from interpret.glassbox import ExplainableBoostingClassifier\n",
    "from interpret import show\n",
    "from interpret.perf import ROC\n",
    "from interpret.data import ClassHistogram\n",
    "from sklearn.metrics import confusion_matrix,roc_curve, auc"
   ]
  },
  {
   "cell_type": "code",
   "execution_count": 3,
   "metadata": {
    "ExecuteTime": {
     "end_time": "2021-06-26T13:37:17.835749Z",
     "start_time": "2021-06-26T13:37:12.522456Z"
    }
   },
   "outputs": [
    {
     "data": {
      "text/plain": [
       "(200000, 202)"
      ]
     },
     "metadata": {},
     "output_type": "display_data"
    }
   ],
   "source": [
    "df_train_csv = '../../../data/santander/raw/train.csv'\n",
    "df_train = pd.read_csv(df_train_csv)\n",
    "\n",
    "display(df_train.shape)\n",
    "# display(df_train.head())"
   ]
  },
  {
   "cell_type": "code",
   "execution_count": 4,
   "metadata": {
    "ExecuteTime": {
     "end_time": "2021-06-26T13:37:21.043502Z",
     "start_time": "2021-06-26T13:37:20.072496Z"
    }
   },
   "outputs": [
    {
     "name": "stdout",
     "output_type": "stream",
     "text": [
      "Size of dataset: Train (134000, 200) Validation (66000, 200) \n"
     ]
    }
   ],
   "source": [
    "X = df_train.iloc[:, 2:]\n",
    "y = df_train.target\n",
    "\n",
    "x_train, x_valid, y_train, y_valid = train_test_split(X, y, test_size=0.33, random_state=42, stratify=y)\n",
    "\n",
    "print(\"Size of dataset: Train {} Validation {} \".format(x_train.shape, x_valid.shape))"
   ]
  },
  {
   "cell_type": "code",
   "execution_count": 5,
   "metadata": {
    "ExecuteTime": {
     "end_time": "2021-06-26T13:37:22.182334Z",
     "start_time": "2021-06-26T13:37:22.135286Z"
    }
   },
   "outputs": [],
   "source": [
    "# load ebm result\n",
    "ebm = joblib.load('01_5_model_ebm_raw_hj.pickle')"
   ]
  },
  {
   "cell_type": "code",
   "execution_count": 6,
   "metadata": {
    "ExecuteTime": {
     "end_time": "2021-06-26T13:37:23.073353Z",
     "start_time": "2021-06-26T13:37:23.068405Z"
    }
   },
   "outputs": [
    {
     "data": {
      "text/plain": [
       "189938    0\n",
       "159231    1\n",
       "137837    0\n",
       "21401     1\n",
       "105303    0\n",
       "Name: target, dtype: int64"
      ]
     },
     "execution_count": 6,
     "metadata": {},
     "output_type": "execute_result"
    }
   ],
   "source": [
    "y_valid.head()"
   ]
  },
  {
   "cell_type": "code",
   "execution_count": 7,
   "metadata": {
    "ExecuteTime": {
     "end_time": "2021-06-26T13:37:24.703927Z",
     "start_time": "2021-06-26T13:37:24.035651Z"
    }
   },
   "outputs": [
    {
     "data": {
      "text/html": [
       "<!-- http://127.0.0.1:7001/140514554642544/ -->\n",
       "<iframe src=\"http://127.0.0.1:7001/140514554642544/\" width=100% height=800 frameBorder=\"0\"></iframe>"
      ]
     },
     "metadata": {},
     "output_type": "display_data"
    }
   ],
   "source": [
    "ebm_global = ebm.explain_global()\n",
    "show(ebm_global)"
   ]
  },
  {
   "cell_type": "code",
   "execution_count": 8,
   "metadata": {
    "ExecuteTime": {
<<<<<<< HEAD
     "end_time": "2021-06-23T00:46:55.130183Z",
     "start_time": "2021-06-23T00:46:54.852199Z"
    }
=======
     "end_time": "2021-06-26T13:37:25.833783Z",
     "start_time": "2021-06-26T13:37:25.777770Z"
    },
    "scrolled": false
>>>>>>> e9e14c4acbdd2d2f0fc2465ed0a721896ce37f58
   },
   "outputs": [
    {
     "data": {
      "text/html": [
       "<!-- http://127.0.0.1:7001/140514763020992/ -->\n",
       "<iframe src=\"http://127.0.0.1:7001/140514763020992/\" width=100% height=800 frameBorder=\"0\"></iframe>"
      ]
     },
     "metadata": {},
     "output_type": "display_data"
    }
   ],
   "source": [
    "ebm_local = ebm.explain_local(x_valid[:5], y_valid[:5], name='EBM')\n",
    "# ebm_local = ebm.explain_local(X, y, name='EBM')\n",
    "show(ebm_local)"
   ]
  },
  {
   "cell_type": "code",
   "execution_count": 9,
   "metadata": {
    "ExecuteTime": {
     "end_time": "2021-06-26T13:37:27.214189Z",
     "start_time": "2021-06-26T13:37:27.210888Z"
    }
   },
   "outputs": [],
   "source": [
    "l = ebm_local._internal_obj"
   ]
  },
  {
   "cell_type": "code",
   "execution_count": 10,
   "metadata": {
    "ExecuteTime": {
     "end_time": "2021-06-26T13:37:32.604912Z",
     "start_time": "2021-06-26T13:37:32.601054Z"
    }
   },
   "outputs": [
    {
     "data": {
      "text/plain": [
       "dict_keys(['overall', 'specific', 'mli'])"
      ]
     },
     "metadata": {},
     "output_type": "display_data"
    }
   ],
   "source": [
    "display(l.keys())"
   ]
  },
  {
   "cell_type": "code",
   "execution_count": 11,
   "metadata": {
    "ExecuteTime": {
     "end_time": "2021-06-26T13:37:38.162093Z",
     "start_time": "2021-06-26T13:37:38.158343Z"
    }
   },
   "outputs": [
    {
     "data": {
      "text/plain": [
       "dict_keys(['type', 'names', 'scores', 'values', 'extra', 'meta', 'perf'])"
      ]
     },
     "execution_count": 11,
     "metadata": {},
     "output_type": "execute_result"
    }
   ],
   "source": [
    "l['specific'][1].keys()"
   ]
  },
  {
   "cell_type": "code",
   "execution_count": 12,
   "metadata": {
    "ExecuteTime": {
     "end_time": "2021-06-26T13:37:42.897176Z",
     "start_time": "2021-06-26T13:37:42.893778Z"
    }
   },
   "outputs": [
    {
     "data": {
      "text/plain": [
       "'univariate'"
      ]
     },
     "execution_count": 12,
     "metadata": {},
     "output_type": "execute_result"
    }
   ],
   "source": [
    "l['specific'][1]['type']"
   ]
  },
  {
   "cell_type": "code",
   "execution_count": 13,
   "metadata": {
    "ExecuteTime": {
     "end_time": "2021-06-26T13:37:47.813420Z",
     "start_time": "2021-06-26T13:37:47.805129Z"
    }
   },
   "outputs": [
    {
     "data": {
      "text/plain": [
       "210"
      ]
     },
     "execution_count": 13,
     "metadata": {},
     "output_type": "execute_result"
    }
   ],
   "source": [
    "len(l['specific'][0]['names'])"
   ]
  },
  {
   "cell_type": "code",
   "execution_count": 14,
   "metadata": {
    "ExecuteTime": {
     "end_time": "2021-06-26T13:37:52.853138Z",
     "start_time": "2021-06-26T13:37:52.849547Z"
    }
   },
   "outputs": [
    {
     "data": {
      "text/plain": [
       "['var_0', 'var_1', 'var_2', 'var_3', 'var_4']"
      ]
     },
     "execution_count": 14,
     "metadata": {},
     "output_type": "execute_result"
    }
   ],
   "source": [
    "l['specific'][0]['names'][0:5]"
   ]
  },
  {
   "cell_type": "code",
   "execution_count": 15,
   "metadata": {
    "ExecuteTime": {
     "end_time": "2021-06-26T13:38:02.039363Z",
     "start_time": "2021-06-26T13:38:02.034079Z"
    }
   },
   "outputs": [
    {
     "data": {
      "text/plain": [
       "['var_109 x var_171',\n",
       " 'var_53 x var_76',\n",
       " 'var_66 x var_139',\n",
       " 'var_81 x var_164',\n",
       " 'var_26 x var_53',\n",
       " 'var_22 x var_107',\n",
       " 'var_81 x var_184',\n",
       " 'var_109 x var_173',\n",
       " 'var_12 x var_175',\n",
       " 'var_5 x var_198']"
      ]
     },
     "execution_count": 15,
     "metadata": {},
     "output_type": "execute_result"
    }
   ],
   "source": [
    "l['specific'][0]['names'][200:210]"
   ]
  },
  {
   "cell_type": "code",
   "execution_count": 16,
   "metadata": {
    "ExecuteTime": {
     "end_time": "2021-06-26T13:38:07.527790Z",
     "start_time": "2021-06-26T13:38:07.524526Z"
    }
   },
   "outputs": [
    {
     "data": {
      "text/plain": [
       "210"
      ]
     },
     "execution_count": 16,
     "metadata": {},
     "output_type": "execute_result"
    }
   ],
   "source": [
    "len(l['specific'][0]['scores'])"
   ]
  },
  {
   "cell_type": "code",
   "execution_count": 17,
   "metadata": {
    "ExecuteTime": {
     "end_time": "2021-06-26T13:38:12.875938Z",
     "start_time": "2021-06-26T13:38:12.871684Z"
    }
   },
   "outputs": [
    {
     "data": {
      "text/plain": [
       "[0.2638370450783221,\n",
       " 0.018050125755528265,\n",
       " 0.38655072395381396,\n",
       " 0.003971498908853833,\n",
       " -0.02014973575424158]"
      ]
     },
     "execution_count": 17,
     "metadata": {},
     "output_type": "execute_result"
    }
   ],
   "source": [
    "l['specific'][1]['scores'][0:5]"
   ]
  },
  {
   "cell_type": "code",
   "execution_count": 18,
   "metadata": {
    "ExecuteTime": {
     "end_time": "2021-06-26T13:38:17.991598Z",
     "start_time": "2021-06-26T13:38:17.987390Z"
    }
   },
   "outputs": [
    {
     "data": {
      "text/plain": [
       "[0.0018922757952713554,\n",
       " -0.01312359954503335,\n",
       " -0.007151570572929389,\n",
       " 0.004943135958175197,\n",
       " -0.009412238200013445,\n",
       " -0.02166365772974355,\n",
       " -0.013084331396928458,\n",
       " 0.005317554097488714,\n",
       " -0.007593293197737971,\n",
       " -0.012950516478660145]"
      ]
     },
     "execution_count": 18,
     "metadata": {},
     "output_type": "execute_result"
    }
   ],
   "source": [
    "l['specific'][1]['scores'][200:210]"
   ]
  },
  {
   "cell_type": "code",
   "execution_count": 19,
   "metadata": {
    "ExecuteTime": {
     "end_time": "2021-06-26T13:38:22.256552Z",
     "start_time": "2021-06-26T13:38:22.251343Z"
    }
   },
   "outputs": [
    {
     "data": {
      "text/plain": [
       "210"
      ]
     },
     "execution_count": 19,
     "metadata": {},
     "output_type": "execute_result"
    }
   ],
   "source": [
    "len(l['specific'][1]['values'])"
   ]
  },
  {
   "cell_type": "code",
   "execution_count": 20,
   "metadata": {
    "ExecuteTime": {
     "end_time": "2021-06-26T13:38:27.331081Z",
     "start_time": "2021-06-26T13:38:27.325182Z"
    }
   },
   "outputs": [
    {
     "data": {
      "text/plain": [
       "[15.1905, -1.8579, 15.9885, 7.7764, 10.025]"
      ]
     },
     "execution_count": 20,
     "metadata": {},
     "output_type": "execute_result"
    }
   ],
   "source": [
    "l['specific'][1]['values'][0:5]"
   ]
  },
  {
   "cell_type": "code",
   "execution_count": 21,
   "metadata": {
    "ExecuteTime": {
     "end_time": "2021-06-26T13:38:32.091116Z",
     "start_time": "2021-06-26T13:38:32.087474Z"
    }
   },
   "outputs": [
    {
     "data": {
      "text/plain": [
       "['', '', '', '', '', '', '', '', '', '']"
      ]
     },
     "execution_count": 21,
     "metadata": {},
     "output_type": "execute_result"
    }
   ],
   "source": [
    "l['specific'][1]['values'][200:210]"
   ]
  },
  {
   "cell_type": "code",
   "execution_count": 22,
   "metadata": {
    "ExecuteTime": {
     "end_time": "2021-06-26T13:38:37.452323Z",
     "start_time": "2021-06-26T13:38:37.447955Z"
    }
   },
   "outputs": [
    {
     "data": {
      "text/plain": [
       "{'names': ['Intercept'], 'scores': [-3.189393983845777], 'values': [1]}"
      ]
     },
     "execution_count": 22,
     "metadata": {},
     "output_type": "execute_result"
    }
   ],
   "source": [
    "l['specific'][1]['extra']"
   ]
  },
  {
   "cell_type": "code",
   "execution_count": 23,
   "metadata": {
    "ExecuteTime": {
     "end_time": "2021-06-26T13:38:42.419780Z",
     "start_time": "2021-06-26T13:38:42.415961Z"
    }
   },
   "outputs": [
    {
     "data": {
      "text/plain": [
       "{'label_names': [0, 1]}"
      ]
     },
     "execution_count": 23,
     "metadata": {},
     "output_type": "execute_result"
    }
   ],
   "source": [
    "l['specific'][1]['meta']"
   ]
  },
  {
   "cell_type": "code",
   "execution_count": 24,
   "metadata": {
    "ExecuteTime": {
     "end_time": "2021-06-26T13:38:48.065777Z",
     "start_time": "2021-06-26T13:38:48.062380Z"
    }
   },
   "outputs": [
    {
     "data": {
      "text/plain": [
       "{'is_classification': True,\n",
       " 'actual': 1,\n",
       " 'predicted': 0,\n",
       " 'actual_score': 0.47338449875433675,\n",
       " 'predicted_score': 0.5266155012456633}"
      ]
     },
     "execution_count": 24,
     "metadata": {},
     "output_type": "execute_result"
    }
   ],
   "source": [
    "l['specific'][1]['perf']"
   ]
  },
  {
   "cell_type": "code",
   "execution_count": 25,
   "metadata": {
    "ExecuteTime": {
     "end_time": "2021-06-26T13:38:53.061350Z",
     "start_time": "2021-06-26T13:38:53.058044Z"
    }
   },
   "outputs": [
    {
     "data": {
      "text/plain": [
       "range(0, 5)"
      ]
     },
     "execution_count": 25,
     "metadata": {},
     "output_type": "execute_result"
    }
   ],
   "source": [
    "# range(len(X))\n",
    "range(len(x_valid[:5]))"
   ]
  },
  {
   "cell_type": "code",
   "execution_count": null,
   "metadata": {
    "ExecuteTime": {
     "end_time": "2021-06-26T13:38:55.982686Z",
     "start_time": "2021-06-26T13:37:24.172Z"
    }
   },
   "outputs": [],
   "source": [
    "df_ebm_local = pd.DataFrame()\n",
    "for i in range(len(x_valid[:5])):\n",
    "    scores = pd.DataFrame(l['specific'][i]['scores'][:200])\n",
    "    values = pd.DataFrame(l['specific'][i]['values'][:200])\n",
    "    df_merge = pd.concat([scores.transpose(), values.transpose()], axis=1)\n",
    "    df_ebm_local = pd.concat([df_ebm_local, df_merge], axis=0, ignore_index=True)\n",
    "    #df\n",
    "# df_ebm_local = pd.DataFrame(pd.concat())\n",
    "# df_ebm_local.columns = ['scores','values']"
   ]
  },
  {
   "cell_type": "code",
   "execution_count": null,
   "metadata": {
    "ExecuteTime": {
     "end_time": "2021-06-26T13:38:56.001016Z",
     "start_time": "2021-06-26T13:37:24.326Z"
    }
   },
   "outputs": [],
   "source": [
    "display(df_ebm_local.shape)\n",
    "display(df_ebm_local.head(5))"
   ]
  },
  {
   "cell_type": "code",
   "execution_count": null,
   "metadata": {
    "ExecuteTime": {
     "end_time": "2021-06-26T13:38:56.023247Z",
     "start_time": "2021-06-26T13:37:24.594Z"
    }
   },
   "outputs": [],
   "source": [
    "df_ebm_local.scores"
   ]
  },
  {
   "cell_type": "code",
   "execution_count": null,
   "metadata": {
    "ExecuteTime": {
     "end_time": "2021-06-26T13:38:56.046993Z",
     "start_time": "2021-06-26T13:37:24.765Z"
    }
   },
   "outputs": [],
   "source": [
    "display(sum(l['specific'][1]['scores'])+l['specific'][1]['extra']['scores'])"
   ]
  },
  {
   "cell_type": "code",
   "execution_count": null,
   "metadata": {},
   "outputs": [],
   "source": []
  },
  {
   "cell_type": "code",
   "execution_count": null,
   "metadata": {},
   "outputs": [],
   "source": []
  }
 ],
 "metadata": {
  "hide_input": false,
  "kernelspec": {
   "display_name": "Python 3",
   "language": "python",
   "name": "python3"
  },
<<<<<<< HEAD
  "language_info": {
   "codemirror_mode": {
    "name": "ipython",
    "version": 3
   },
   "file_extension": ".py",
   "mimetype": "text/x-python",
   "name": "python",
   "nbconvert_exporter": "python",
   "pygments_lexer": "ipython3",
   "version": "3.8.8"
  },
=======
>>>>>>> e9e14c4acbdd2d2f0fc2465ed0a721896ce37f58
  "varInspector": {
   "cols": {
    "lenName": 16,
    "lenType": 16,
    "lenVar": 40
   },
   "kernels_config": {
    "python": {
     "delete_cmd_postfix": "",
     "delete_cmd_prefix": "del ",
     "library": "var_list.py",
     "varRefreshCmd": "print(var_dic_list())"
    },
    "r": {
     "delete_cmd_postfix": ") ",
     "delete_cmd_prefix": "rm(",
     "library": "var_list.r",
     "varRefreshCmd": "cat(var_dic_list()) "
    }
   },
   "oldHeight": 758.555,
   "position": {
    "height": "781.055px",
    "left": "1235.89px",
    "right": "20px",
    "top": "36.9883px",
    "width": "707.422px"
   },
   "types_to_exclude": [
    "module",
    "function",
    "builtin_function_or_method",
    "instance",
    "_Feature"
   ],
   "varInspector_section_display": "block",
   "window_display": false
  }
 },
 "nbformat": 4,
 "nbformat_minor": 4
}
