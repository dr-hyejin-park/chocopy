{
 "cells": [
  {
   "cell_type": "code",
   "execution_count": 1,
   "metadata": {
    "ExecuteTime": {
     "end_time": "2021-06-01T09:18:07.402955Z",
     "start_time": "2021-06-01T09:18:02.268493Z"
    }
   },
   "outputs": [
    {
     "name": "stderr",
     "output_type": "stream",
     "text": [
      "Info (NVML): NVML Shared Library Not Found. GPU usage metrics may not be reported. For more information, see https://docs-legacy.neptune.ai/logging-and-managing-experiment-results/logging-experiment-data.html#hardware-consumption \n"
     ]
    },
    {
     "name": "stdout",
     "output_type": "stream",
     "text": [
      "https://app.neptune.ai/jinny-park/SafeDriver/e/SAF-23\n"
     ]
    }
   ],
   "source": [
    "import neptune.new as neptune\n",
    "\n",
    "NEPTUNE_API_TOKEN=\"eyJhcGlfYWRkcmVzcyI6Imh0dHBzOi8vYXBwLm5lcHR1bmUuYWkiLCJhcGlfdXJsIjoiaHR0cHM6Ly9hcHAubmVwdHVuZS5haSIsImFwaV9rZXkiOiIwMjNmNTUwYy0zOTA0LTQyZDctYTNmOC03YmQwMGVhZjhkYmYifQ==\"\n",
    "# # 새로 실험 아이디 얻기\n",
    "# run = neptune.init(project='jinny-park/SafeDriver', tags=['prediction','interpretml'], api_token=NEPTUNE_API_TOKEN)\n",
    "\n",
    "# # rerun\n",
    "run = neptune.init(project='jinny-park/SafeDriver', run='SAF-23')\n",
    "# # , api_token=NEPTUNE_API_TOKEN"
   ]
  },
  {
   "cell_type": "code",
   "execution_count": 2,
   "metadata": {
    "ExecuteTime": {
     "end_time": "2021-06-01T09:18:07.456618Z",
     "start_time": "2021-06-01T09:18:07.447026Z"
    }
   },
   "outputs": [],
   "source": [
    "run['run name'] = 'base model' # your exp name\n",
    "run['source'] = 'jupyter'\n",
    "run['version'] = ''\n",
    "\n",
    "\n",
    "run['mae'] = 0.0\n",
    "run['mse'] = 0.0\n",
    "run['rmse'] = 0.0\n",
    "run['r2'] = 0.0\n",
    "run['rmsle'] = 0.0\n",
    "run['mape'] = 0.0\n",
    "run['algorithm'] = ''"
   ]
  },
  {
   "cell_type": "code",
   "execution_count": 4,
   "metadata": {
    "ExecuteTime": {
     "end_time": "2021-06-01T09:18:16.474513Z",
     "start_time": "2021-06-01T09:18:08.535303Z"
    }
   },
   "outputs": [],
   "source": [
    "from os import path\n",
    "import pandas as pd\n",
    "import numpy as np\n",
    "\n",
    "np.random.seed(0)\n",
    "train = pd.read_csv('data/safe_driver/train.csv')\n",
    "test = pd.read_csv('data/safe_driver/test.csv')"
   ]
  },
  {
   "cell_type": "code",
   "execution_count": null,
   "metadata": {},
   "outputs": [],
   "source": []
  }
 ],
 "metadata": {
  "hide_input": false,
  "kernelspec": {
   "display_name": "Python 3",
   "language": "python",
   "name": "python3"
  },
  "language_info": {
   "codemirror_mode": {
    "name": "ipython",
    "version": 3
   },
   "file_extension": ".py",
   "mimetype": "text/x-python",
   "name": "python",
   "nbconvert_exporter": "python",
   "pygments_lexer": "ipython3",
   "version": "3.8.5"
  },
  "varInspector": {
   "cols": {
    "lenName": 16,
    "lenType": 16,
    "lenVar": 40
   },
   "kernels_config": {
    "python": {
     "delete_cmd_postfix": "",
     "delete_cmd_prefix": "del ",
     "library": "var_list.py",
     "varRefreshCmd": "print(var_dic_list())"
    },
    "r": {
     "delete_cmd_postfix": ") ",
     "delete_cmd_prefix": "rm(",
     "library": "var_list.r",
     "varRefreshCmd": "cat(var_dic_list()) "
    }
   },
   "types_to_exclude": [
    "module",
    "function",
    "builtin_function_or_method",
    "instance",
    "_Feature"
   ],
   "window_display": false
  }
 },
 "nbformat": 4,
 "nbformat_minor": 4
}
