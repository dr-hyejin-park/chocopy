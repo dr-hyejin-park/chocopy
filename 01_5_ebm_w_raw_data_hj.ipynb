{
 "cells": [
  {
   "cell_type": "code",
   "execution_count": 2,
   "metadata": {
    "ExecuteTime": {
     "end_time": "2021-06-26T13:15:21.161064Z",
     "start_time": "2021-06-26T13:15:19.186452Z"
    }
   },
   "outputs": [],
   "source": [
    "import pandas as pd\n",
    "import numpy as np\n",
    "from tqdm import tqdm\n",
    "import pickle\n",
    "from sklearn.preprocessing import StandardScaler\n",
    "from sklearn.model_selection import train_test_split\n",
    "from interpret.glassbox import ExplainableBoostingClassifier\n",
    "from interpret import show\n",
    "from interpret.perf import ROC\n",
    "from interpret.data import ClassHistogram\n",
    "from sklearn.metrics import confusion_matrix,roc_curve, auc"
   ]
  },
  {
   "cell_type": "code",
   "execution_count": 5,
   "metadata": {
    "ExecuteTime": {
     "end_time": "2021-06-26T13:15:41.421607Z",
     "start_time": "2021-06-26T13:15:36.201848Z"
    },
    "scrolled": true
   },
   "outputs": [
    {
     "data": {
      "text/plain": [
       "(200000, 202)"
      ]
     },
     "metadata": {},
     "output_type": "display_data"
    },
    {
     "data": {
      "text/html": [
       "<div>\n",
       "<style scoped>\n",
       "    .dataframe tbody tr th:only-of-type {\n",
       "        vertical-align: middle;\n",
       "    }\n",
       "\n",
       "    .dataframe tbody tr th {\n",
       "        vertical-align: top;\n",
       "    }\n",
       "\n",
       "    .dataframe thead th {\n",
       "        text-align: right;\n",
       "    }\n",
       "</style>\n",
       "<table border=\"1\" class=\"dataframe\">\n",
       "  <thead>\n",
       "    <tr style=\"text-align: right;\">\n",
       "      <th></th>\n",
       "      <th>ID_code</th>\n",
       "      <th>target</th>\n",
       "      <th>var_0</th>\n",
       "      <th>var_1</th>\n",
       "      <th>var_2</th>\n",
       "      <th>var_3</th>\n",
       "      <th>var_4</th>\n",
       "      <th>var_5</th>\n",
       "      <th>var_6</th>\n",
       "      <th>var_7</th>\n",
       "      <th>...</th>\n",
       "      <th>var_190</th>\n",
       "      <th>var_191</th>\n",
       "      <th>var_192</th>\n",
       "      <th>var_193</th>\n",
       "      <th>var_194</th>\n",
       "      <th>var_195</th>\n",
       "      <th>var_196</th>\n",
       "      <th>var_197</th>\n",
       "      <th>var_198</th>\n",
       "      <th>var_199</th>\n",
       "    </tr>\n",
       "  </thead>\n",
       "  <tbody>\n",
       "    <tr>\n",
       "      <th>0</th>\n",
       "      <td>train_0</td>\n",
       "      <td>0</td>\n",
       "      <td>8.9255</td>\n",
       "      <td>-6.7863</td>\n",
       "      <td>11.9081</td>\n",
       "      <td>5.0930</td>\n",
       "      <td>11.4607</td>\n",
       "      <td>-9.2834</td>\n",
       "      <td>5.1187</td>\n",
       "      <td>18.6266</td>\n",
       "      <td>...</td>\n",
       "      <td>4.4354</td>\n",
       "      <td>3.9642</td>\n",
       "      <td>3.1364</td>\n",
       "      <td>1.6910</td>\n",
       "      <td>18.5227</td>\n",
       "      <td>-2.3978</td>\n",
       "      <td>7.8784</td>\n",
       "      <td>8.5635</td>\n",
       "      <td>12.7803</td>\n",
       "      <td>-1.0914</td>\n",
       "    </tr>\n",
       "    <tr>\n",
       "      <th>1</th>\n",
       "      <td>train_1</td>\n",
       "      <td>0</td>\n",
       "      <td>11.5006</td>\n",
       "      <td>-4.1473</td>\n",
       "      <td>13.8588</td>\n",
       "      <td>5.3890</td>\n",
       "      <td>12.3622</td>\n",
       "      <td>7.0433</td>\n",
       "      <td>5.6208</td>\n",
       "      <td>16.5338</td>\n",
       "      <td>...</td>\n",
       "      <td>7.6421</td>\n",
       "      <td>7.7214</td>\n",
       "      <td>2.5837</td>\n",
       "      <td>10.9516</td>\n",
       "      <td>15.4305</td>\n",
       "      <td>2.0339</td>\n",
       "      <td>8.1267</td>\n",
       "      <td>8.7889</td>\n",
       "      <td>18.3560</td>\n",
       "      <td>1.9518</td>\n",
       "    </tr>\n",
       "    <tr>\n",
       "      <th>2</th>\n",
       "      <td>train_2</td>\n",
       "      <td>0</td>\n",
       "      <td>8.6093</td>\n",
       "      <td>-2.7457</td>\n",
       "      <td>12.0805</td>\n",
       "      <td>7.8928</td>\n",
       "      <td>10.5825</td>\n",
       "      <td>-9.0837</td>\n",
       "      <td>6.9427</td>\n",
       "      <td>14.6155</td>\n",
       "      <td>...</td>\n",
       "      <td>2.9057</td>\n",
       "      <td>9.7905</td>\n",
       "      <td>1.6704</td>\n",
       "      <td>1.6858</td>\n",
       "      <td>21.6042</td>\n",
       "      <td>3.1417</td>\n",
       "      <td>-6.5213</td>\n",
       "      <td>8.2675</td>\n",
       "      <td>14.7222</td>\n",
       "      <td>0.3965</td>\n",
       "    </tr>\n",
       "    <tr>\n",
       "      <th>3</th>\n",
       "      <td>train_3</td>\n",
       "      <td>0</td>\n",
       "      <td>11.0604</td>\n",
       "      <td>-2.1518</td>\n",
       "      <td>8.9522</td>\n",
       "      <td>7.1957</td>\n",
       "      <td>12.5846</td>\n",
       "      <td>-1.8361</td>\n",
       "      <td>5.8428</td>\n",
       "      <td>14.9250</td>\n",
       "      <td>...</td>\n",
       "      <td>4.4666</td>\n",
       "      <td>4.7433</td>\n",
       "      <td>0.7178</td>\n",
       "      <td>1.4214</td>\n",
       "      <td>23.0347</td>\n",
       "      <td>-1.2706</td>\n",
       "      <td>-2.9275</td>\n",
       "      <td>10.2922</td>\n",
       "      <td>17.9697</td>\n",
       "      <td>-8.9996</td>\n",
       "    </tr>\n",
       "    <tr>\n",
       "      <th>4</th>\n",
       "      <td>train_4</td>\n",
       "      <td>0</td>\n",
       "      <td>9.8369</td>\n",
       "      <td>-1.4834</td>\n",
       "      <td>12.8746</td>\n",
       "      <td>6.6375</td>\n",
       "      <td>12.2772</td>\n",
       "      <td>2.4486</td>\n",
       "      <td>5.9405</td>\n",
       "      <td>19.2514</td>\n",
       "      <td>...</td>\n",
       "      <td>-1.4905</td>\n",
       "      <td>9.5214</td>\n",
       "      <td>-0.1508</td>\n",
       "      <td>9.1942</td>\n",
       "      <td>13.2876</td>\n",
       "      <td>-1.5121</td>\n",
       "      <td>3.9267</td>\n",
       "      <td>9.5031</td>\n",
       "      <td>17.9974</td>\n",
       "      <td>-8.8104</td>\n",
       "    </tr>\n",
       "  </tbody>\n",
       "</table>\n",
       "<p>5 rows × 202 columns</p>\n",
       "</div>"
      ],
      "text/plain": [
       "   ID_code  target    var_0   var_1    var_2   var_3    var_4   var_5   var_6  \\\n",
       "0  train_0       0   8.9255 -6.7863  11.9081  5.0930  11.4607 -9.2834  5.1187   \n",
       "1  train_1       0  11.5006 -4.1473  13.8588  5.3890  12.3622  7.0433  5.6208   \n",
       "2  train_2       0   8.6093 -2.7457  12.0805  7.8928  10.5825 -9.0837  6.9427   \n",
       "3  train_3       0  11.0604 -2.1518   8.9522  7.1957  12.5846 -1.8361  5.8428   \n",
       "4  train_4       0   9.8369 -1.4834  12.8746  6.6375  12.2772  2.4486  5.9405   \n",
       "\n",
       "     var_7  ...  var_190  var_191  var_192  var_193  var_194  var_195  \\\n",
       "0  18.6266  ...   4.4354   3.9642   3.1364   1.6910  18.5227  -2.3978   \n",
       "1  16.5338  ...   7.6421   7.7214   2.5837  10.9516  15.4305   2.0339   \n",
       "2  14.6155  ...   2.9057   9.7905   1.6704   1.6858  21.6042   3.1417   \n",
       "3  14.9250  ...   4.4666   4.7433   0.7178   1.4214  23.0347  -1.2706   \n",
       "4  19.2514  ...  -1.4905   9.5214  -0.1508   9.1942  13.2876  -1.5121   \n",
       "\n",
       "   var_196  var_197  var_198  var_199  \n",
       "0   7.8784   8.5635  12.7803  -1.0914  \n",
       "1   8.1267   8.7889  18.3560   1.9518  \n",
       "2  -6.5213   8.2675  14.7222   0.3965  \n",
       "3  -2.9275  10.2922  17.9697  -8.9996  \n",
       "4   3.9267   9.5031  17.9974  -8.8104  \n",
       "\n",
       "[5 rows x 202 columns]"
      ]
     },
     "metadata": {},
     "output_type": "display_data"
    }
   ],
   "source": [
    "df_train_csv = '../../../data/santander/raw/train.csv'\n",
    "df_train = pd.read_csv(df_train_csv)\n",
    "\n",
    "display(df_train.shape)\n",
    "display(df_train.head())"
   ]
  },
  {
   "cell_type": "code",
   "execution_count": 6,
   "metadata": {
    "ExecuteTime": {
     "end_time": "2021-06-26T13:15:42.521774Z",
     "start_time": "2021-06-26T13:15:41.797558Z"
    }
   },
   "outputs": [
    {
     "name": "stdout",
     "output_type": "stream",
     "text": [
      "Size of dataset: Train (134000, 200) Validation (66000, 200) \n"
     ]
    }
   ],
   "source": [
    "X = df_train.iloc[:, 2:]\n",
    "y = df_train.target\n",
    "\n",
    "x_train, x_valid, y_train, y_valid = train_test_split(X, y, test_size=0.33, random_state=42, stratify=y)\n",
    "\n",
    "print(\"Size of dataset: Train {} Validation {} \".format(x_train.shape, x_valid.shape))"
   ]
  },
  {
   "cell_type": "code",
   "execution_count": 7,
   "metadata": {
    "ExecuteTime": {
     "end_time": "2021-06-26T13:21:38.806844Z",
     "start_time": "2021-06-26T13:15:43.114186Z"
    }
   },
   "outputs": [
    {
     "data": {
      "text/plain": [
       "ExplainableBoostingClassifier(feature_names=['var_0', 'var_1', 'var_2', 'var_3',\n",
       "                                             'var_4', 'var_5', 'var_6', 'var_7',\n",
       "                                             'var_8', 'var_9', 'var_10',\n",
       "                                             'var_11', 'var_12', 'var_13',\n",
       "                                             'var_14', 'var_15', 'var_16',\n",
       "                                             'var_17', 'var_18', 'var_19',\n",
       "                                             'var_20', 'var_21', 'var_22',\n",
       "                                             'var_23', 'var_24', 'var_25',\n",
       "                                             'var_26', 'var_27', 'var_28',\n",
       "                                             'var_29', ...],\n",
       "                              feature_types=['continuous', 'continuous',\n",
       "                                             'continuous', 'continuous',\n",
       "                                             'continuous', 'continuous',\n",
       "                                             'continuous', 'continuous',\n",
       "                                             'continuous', 'continuous',\n",
       "                                             'continuous', 'continuous',\n",
       "                                             'continuous', 'continuous',\n",
       "                                             'continuous', 'continuous',\n",
       "                                             'continuous', 'continuous',\n",
       "                                             'continuous', 'continuous',\n",
       "                                             'continuous', 'continuous',\n",
       "                                             'continuous', 'continuous',\n",
       "                                             'continuous', 'continuous',\n",
       "                                             'continuous', 'continuous',\n",
       "                                             'continuous', 'continuous', ...])"
      ]
     },
     "execution_count": 7,
     "metadata": {},
     "output_type": "execute_result"
    }
   ],
   "source": [
    "# ebm\n",
    "ebm = ExplainableBoostingClassifier(random_state=42)\n",
    "ebm.fit(x_train, y_train) "
   ]
  },
  {
   "cell_type": "code",
   "execution_count": 8,
   "metadata": {
    "ExecuteTime": {
     "end_time": "2021-06-26T13:21:41.338114Z",
     "start_time": "2021-06-26T13:21:39.350941Z"
    }
   },
   "outputs": [
    {
     "data": {
      "text/html": [
       "<!-- http://127.0.0.1:7509/140249838979200/ -->\n",
       "<iframe src=\"http://127.0.0.1:7509/140249838979200/\" width=100% height=800 frameBorder=\"0\"></iframe>"
      ]
     },
     "metadata": {},
     "output_type": "display_data"
    }
   ],
   "source": [
    "ebm_perf = ROC(ebm.predict_proba).explain_perf(x_valid, y_valid, name='EBM')\n",
    "show(ebm_perf)"
   ]
  },
  {
   "cell_type": "code",
   "execution_count": 9,
   "metadata": {
    "ExecuteTime": {
     "end_time": "2021-06-26T13:21:42.163242Z",
     "start_time": "2021-06-26T13:21:41.956775Z"
    }
   },
   "outputs": [
    {
     "data": {
      "text/html": [
       "<!-- http://127.0.0.1:7509/140248890448768/ -->\n",
       "<iframe src=\"http://127.0.0.1:7509/140248890448768/\" width=100% height=800 frameBorder=\"0\"></iframe>"
      ]
     },
     "metadata": {},
     "output_type": "display_data"
    }
   ],
   "source": [
    "ebm_global = ebm.explain_global(name='EBM')\n",
    "show(ebm_global)"
   ]
  },
  {
   "cell_type": "code",
   "execution_count": 10,
   "metadata": {
    "ExecuteTime": {
     "end_time": "2021-06-26T13:21:44.339465Z",
     "start_time": "2021-06-26T13:21:42.819851Z"
    }
   },
   "outputs": [],
   "source": [
    "y_pred_prob_valid = pd.DataFrame(ebm.predict_proba(x_valid))\n",
    "y_pred_labels_valid = pd.DataFrame(ebm.predict(x_valid))"
   ]
  },
  {
   "cell_type": "code",
   "execution_count": 11,
   "metadata": {
    "ExecuteTime": {
     "end_time": "2021-06-26T13:21:45.135402Z",
     "start_time": "2021-06-26T13:21:45.126309Z"
    }
   },
   "outputs": [
    {
     "data": {
      "text/html": [
       "<div>\n",
       "<style scoped>\n",
       "    .dataframe tbody tr th:only-of-type {\n",
       "        vertical-align: middle;\n",
       "    }\n",
       "\n",
       "    .dataframe tbody tr th {\n",
       "        vertical-align: top;\n",
       "    }\n",
       "\n",
       "    .dataframe thead th {\n",
       "        text-align: right;\n",
       "    }\n",
       "</style>\n",
       "<table border=\"1\" class=\"dataframe\">\n",
       "  <thead>\n",
       "    <tr style=\"text-align: right;\">\n",
       "      <th></th>\n",
       "      <th>0</th>\n",
       "      <th>1</th>\n",
       "    </tr>\n",
       "  </thead>\n",
       "  <tbody>\n",
       "    <tr>\n",
       "      <th>0</th>\n",
       "      <td>0.923276</td>\n",
       "      <td>0.076724</td>\n",
       "    </tr>\n",
       "    <tr>\n",
       "      <th>1</th>\n",
       "      <td>0.526616</td>\n",
       "      <td>0.473384</td>\n",
       "    </tr>\n",
       "    <tr>\n",
       "      <th>2</th>\n",
       "      <td>0.720436</td>\n",
       "      <td>0.279564</td>\n",
       "    </tr>\n",
       "    <tr>\n",
       "      <th>3</th>\n",
       "      <td>0.762979</td>\n",
       "      <td>0.237021</td>\n",
       "    </tr>\n",
       "    <tr>\n",
       "      <th>4</th>\n",
       "      <td>0.997693</td>\n",
       "      <td>0.002307</td>\n",
       "    </tr>\n",
       "  </tbody>\n",
       "</table>\n",
       "</div>"
      ],
      "text/plain": [
       "          0         1\n",
       "0  0.923276  0.076724\n",
       "1  0.526616  0.473384\n",
       "2  0.720436  0.279564\n",
       "3  0.762979  0.237021\n",
       "4  0.997693  0.002307"
      ]
     },
     "execution_count": 11,
     "metadata": {},
     "output_type": "execute_result"
    }
   ],
   "source": [
    "y_pred_prob_valid.head()"
   ]
  },
  {
   "cell_type": "code",
   "execution_count": 12,
   "metadata": {
    "ExecuteTime": {
     "end_time": "2021-06-26T13:21:45.613214Z",
     "start_time": "2021-06-26T13:21:45.608345Z"
    }
   },
   "outputs": [
    {
     "data": {
      "text/plain": [
       "189938    0\n",
       "159231    1\n",
       "137837    0\n",
       "21401     1\n",
       "105303    0\n",
       "Name: target, dtype: int64"
      ]
     },
     "execution_count": 12,
     "metadata": {},
     "output_type": "execute_result"
    }
   ],
   "source": [
    "y_valid.head()"
   ]
  },
  {
   "cell_type": "code",
   "execution_count": 13,
   "metadata": {
    "ExecuteTime": {
     "end_time": "2021-06-26T13:21:46.217270Z",
     "start_time": "2021-06-26T13:21:46.182266Z"
    }
   },
   "outputs": [
    {
     "data": {
      "text/html": [
       "<!-- http://127.0.0.1:7509/140248920697440/ -->\n",
       "<iframe src=\"http://127.0.0.1:7509/140248920697440/\" width=100% height=800 frameBorder=\"0\"></iframe>"
      ]
     },
     "metadata": {},
     "output_type": "display_data"
    }
   ],
   "source": [
    "ebm_local = ebm.explain_local(x_valid[:5], y_valid[:5], name='EBM')\n",
    "show(ebm_local)"
   ]
  },
  {
   "cell_type": "code",
   "execution_count": 14,
   "metadata": {
    "ExecuteTime": {
     "end_time": "2021-06-26T13:22:11.180157Z",
     "start_time": "2021-06-26T13:21:46.650769Z"
    }
   },
   "outputs": [
    {
     "data": {
      "text/html": [
       "<!-- http://127.0.0.1:7509/140248924658496/ -->\n",
       "<a href=\"http://127.0.0.1:7509/140248924658496/\" target=\"_new\">Open in new window</a><iframe src=\"http://127.0.0.1:7509/140248924658496/\" width=100% height=800 frameBorder=\"0\"></iframe>"
      ]
     },
     "metadata": {},
     "output_type": "display_data"
    }
   ],
   "source": [
    "hist = ClassHistogram().explain_data(x_train, y_train, name = 'train_data')\n",
    "show([hist, ebm_global, ebm_perf, ebm_local], share_tables=True)"
   ]
  },
  {
   "cell_type": "code",
   "execution_count": 15,
   "metadata": {
    "ExecuteTime": {
     "end_time": "2021-06-26T13:22:25.213807Z",
     "start_time": "2021-06-26T13:22:11.909827Z"
    }
   },
   "outputs": [],
   "source": [
    "ebm_local_tot = ebm.explain_local(x_valid, y_valid, name='EBM')\n",
    "\n",
    "# show(ebm_local_tot)"
   ]
  },
  {
   "cell_type": "code",
   "execution_count": 16,
   "metadata": {
    "ExecuteTime": {
     "end_time": "2021-06-26T13:22:30.696818Z",
     "start_time": "2021-06-26T13:22:25.777867Z"
    }
   },
   "outputs": [
    {
     "data": {
      "text/plain": [
       "(200000, 2)"
      ]
     },
     "metadata": {},
     "output_type": "display_data"
    },
    {
     "data": {
      "text/plain": [
       "0    190541\n",
       "1      9459\n",
       "dtype: int64"
      ]
     },
     "metadata": {},
     "output_type": "display_data"
    },
    {
     "data": {
      "text/plain": [
       "array([[178056,   1846],\n",
       "       [ 12485,   7613]])"
      ]
     },
     "metadata": {},
     "output_type": "display_data"
    }
   ],
   "source": [
    "\n",
    "y_pred_prob = pd.DataFrame(ebm.predict_proba(X))\n",
    "display(y_pred_prob.shape)\n",
    "\n",
    "y_pred_labels = pd.DataFrame(ebm.predict(X))\n",
    "display(y_pred_labels.value_counts())\n",
    "\n",
    "display(confusion_matrix(y, y_pred_labels))"
   ]
  },
  {
   "cell_type": "code",
   "execution_count": 17,
   "metadata": {
    "ExecuteTime": {
     "end_time": "2021-06-26T13:22:31.326786Z",
     "start_time": "2021-06-26T13:22:31.308399Z"
    }
   },
   "outputs": [],
   "source": [
    "model_pickle = '01_5_model_ebm_raw_hj.pickle'\n",
    "with open(model_pickle, 'wb') as handle:\n",
    "    pickle.dump(ebm, handle, protocol=pickle.HIGHEST_PROTOCOL)"
   ]
  },
  {
   "cell_type": "code",
   "execution_count": 18,
   "metadata": {
    "ExecuteTime": {
     "end_time": "2021-06-26T13:22:32.070166Z",
     "start_time": "2021-06-26T13:22:31.843874Z"
    }
   },
   "outputs": [
    {
     "data": {
      "text/html": [
       "<div>\n",
       "<style scoped>\n",
       "    .dataframe tbody tr th:only-of-type {\n",
       "        vertical-align: middle;\n",
       "    }\n",
       "\n",
       "    .dataframe tbody tr th {\n",
       "        vertical-align: top;\n",
       "    }\n",
       "\n",
       "    .dataframe thead th {\n",
       "        text-align: right;\n",
       "    }\n",
       "</style>\n",
       "<table border=\"1\" class=\"dataframe\">\n",
       "  <thead>\n",
       "    <tr style=\"text-align: right;\">\n",
       "      <th></th>\n",
       "      <th>target</th>\n",
       "      <th>var_0</th>\n",
       "      <th>var_1</th>\n",
       "      <th>var_2</th>\n",
       "      <th>var_3</th>\n",
       "      <th>var_4</th>\n",
       "      <th>var_5</th>\n",
       "      <th>var_6</th>\n",
       "      <th>var_7</th>\n",
       "      <th>var_8</th>\n",
       "      <th>...</th>\n",
       "      <th>var_190</th>\n",
       "      <th>var_191</th>\n",
       "      <th>var_192</th>\n",
       "      <th>var_193</th>\n",
       "      <th>var_194</th>\n",
       "      <th>var_195</th>\n",
       "      <th>var_196</th>\n",
       "      <th>var_197</th>\n",
       "      <th>var_198</th>\n",
       "      <th>var_199</th>\n",
       "    </tr>\n",
       "  </thead>\n",
       "  <tbody>\n",
       "    <tr>\n",
       "      <th>0</th>\n",
       "      <td>0</td>\n",
       "      <td>8.9255</td>\n",
       "      <td>-6.7863</td>\n",
       "      <td>11.9081</td>\n",
       "      <td>5.0930</td>\n",
       "      <td>11.4607</td>\n",
       "      <td>-9.2834</td>\n",
       "      <td>5.1187</td>\n",
       "      <td>18.6266</td>\n",
       "      <td>-4.9200</td>\n",
       "      <td>...</td>\n",
       "      <td>4.4354</td>\n",
       "      <td>3.9642</td>\n",
       "      <td>3.1364</td>\n",
       "      <td>1.6910</td>\n",
       "      <td>18.5227</td>\n",
       "      <td>-2.3978</td>\n",
       "      <td>7.8784</td>\n",
       "      <td>8.5635</td>\n",
       "      <td>12.7803</td>\n",
       "      <td>-1.0914</td>\n",
       "    </tr>\n",
       "    <tr>\n",
       "      <th>1</th>\n",
       "      <td>0</td>\n",
       "      <td>11.5006</td>\n",
       "      <td>-4.1473</td>\n",
       "      <td>13.8588</td>\n",
       "      <td>5.3890</td>\n",
       "      <td>12.3622</td>\n",
       "      <td>7.0433</td>\n",
       "      <td>5.6208</td>\n",
       "      <td>16.5338</td>\n",
       "      <td>3.1468</td>\n",
       "      <td>...</td>\n",
       "      <td>7.6421</td>\n",
       "      <td>7.7214</td>\n",
       "      <td>2.5837</td>\n",
       "      <td>10.9516</td>\n",
       "      <td>15.4305</td>\n",
       "      <td>2.0339</td>\n",
       "      <td>8.1267</td>\n",
       "      <td>8.7889</td>\n",
       "      <td>18.3560</td>\n",
       "      <td>1.9518</td>\n",
       "    </tr>\n",
       "    <tr>\n",
       "      <th>2</th>\n",
       "      <td>0</td>\n",
       "      <td>8.6093</td>\n",
       "      <td>-2.7457</td>\n",
       "      <td>12.0805</td>\n",
       "      <td>7.8928</td>\n",
       "      <td>10.5825</td>\n",
       "      <td>-9.0837</td>\n",
       "      <td>6.9427</td>\n",
       "      <td>14.6155</td>\n",
       "      <td>-4.9193</td>\n",
       "      <td>...</td>\n",
       "      <td>2.9057</td>\n",
       "      <td>9.7905</td>\n",
       "      <td>1.6704</td>\n",
       "      <td>1.6858</td>\n",
       "      <td>21.6042</td>\n",
       "      <td>3.1417</td>\n",
       "      <td>-6.5213</td>\n",
       "      <td>8.2675</td>\n",
       "      <td>14.7222</td>\n",
       "      <td>0.3965</td>\n",
       "    </tr>\n",
       "    <tr>\n",
       "      <th>3</th>\n",
       "      <td>0</td>\n",
       "      <td>11.0604</td>\n",
       "      <td>-2.1518</td>\n",
       "      <td>8.9522</td>\n",
       "      <td>7.1957</td>\n",
       "      <td>12.5846</td>\n",
       "      <td>-1.8361</td>\n",
       "      <td>5.8428</td>\n",
       "      <td>14.9250</td>\n",
       "      <td>-5.8609</td>\n",
       "      <td>...</td>\n",
       "      <td>4.4666</td>\n",
       "      <td>4.7433</td>\n",
       "      <td>0.7178</td>\n",
       "      <td>1.4214</td>\n",
       "      <td>23.0347</td>\n",
       "      <td>-1.2706</td>\n",
       "      <td>-2.9275</td>\n",
       "      <td>10.2922</td>\n",
       "      <td>17.9697</td>\n",
       "      <td>-8.9996</td>\n",
       "    </tr>\n",
       "    <tr>\n",
       "      <th>4</th>\n",
       "      <td>0</td>\n",
       "      <td>9.8369</td>\n",
       "      <td>-1.4834</td>\n",
       "      <td>12.8746</td>\n",
       "      <td>6.6375</td>\n",
       "      <td>12.2772</td>\n",
       "      <td>2.4486</td>\n",
       "      <td>5.9405</td>\n",
       "      <td>19.2514</td>\n",
       "      <td>6.2654</td>\n",
       "      <td>...</td>\n",
       "      <td>-1.4905</td>\n",
       "      <td>9.5214</td>\n",
       "      <td>-0.1508</td>\n",
       "      <td>9.1942</td>\n",
       "      <td>13.2876</td>\n",
       "      <td>-1.5121</td>\n",
       "      <td>3.9267</td>\n",
       "      <td>9.5031</td>\n",
       "      <td>17.9974</td>\n",
       "      <td>-8.8104</td>\n",
       "    </tr>\n",
       "  </tbody>\n",
       "</table>\n",
       "<p>5 rows × 201 columns</p>\n",
       "</div>"
      ],
      "text/plain": [
       "   target    var_0   var_1    var_2   var_3    var_4   var_5   var_6    var_7  \\\n",
       "0       0   8.9255 -6.7863  11.9081  5.0930  11.4607 -9.2834  5.1187  18.6266   \n",
       "1       0  11.5006 -4.1473  13.8588  5.3890  12.3622  7.0433  5.6208  16.5338   \n",
       "2       0   8.6093 -2.7457  12.0805  7.8928  10.5825 -9.0837  6.9427  14.6155   \n",
       "3       0  11.0604 -2.1518   8.9522  7.1957  12.5846 -1.8361  5.8428  14.9250   \n",
       "4       0   9.8369 -1.4834  12.8746  6.6375  12.2772  2.4486  5.9405  19.2514   \n",
       "\n",
       "    var_8  ...  var_190  var_191  var_192  var_193  var_194  var_195  var_196  \\\n",
       "0 -4.9200  ...   4.4354   3.9642   3.1364   1.6910  18.5227  -2.3978   7.8784   \n",
       "1  3.1468  ...   7.6421   7.7214   2.5837  10.9516  15.4305   2.0339   8.1267   \n",
       "2 -4.9193  ...   2.9057   9.7905   1.6704   1.6858  21.6042   3.1417  -6.5213   \n",
       "3 -5.8609  ...   4.4666   4.7433   0.7178   1.4214  23.0347  -1.2706  -2.9275   \n",
       "4  6.2654  ...  -1.4905   9.5214  -0.1508   9.1942  13.2876  -1.5121   3.9267   \n",
       "\n",
       "   var_197  var_198  var_199  \n",
       "0   8.5635  12.7803  -1.0914  \n",
       "1   8.7889  18.3560   1.9518  \n",
       "2   8.2675  14.7222   0.3965  \n",
       "3  10.2922  17.9697  -8.9996  \n",
       "4   9.5031  17.9974  -8.8104  \n",
       "\n",
       "[5 rows x 201 columns]"
      ]
     },
     "execution_count": 18,
     "metadata": {},
     "output_type": "execute_result"
    }
   ],
   "source": [
    "df_train.iloc[:,1:].head()"
   ]
  },
  {
   "cell_type": "code",
   "execution_count": 19,
   "metadata": {
    "ExecuteTime": {
     "end_time": "2021-06-26T13:22:33.856744Z",
     "start_time": "2021-06-26T13:22:32.670598Z"
    }
   },
   "outputs": [
    {
     "data": {
      "text/plain": [
       "(200000, 203)"
      ]
     },
     "metadata": {},
     "output_type": "display_data"
    },
    {
     "data": {
      "text/html": [
       "<div>\n",
       "<style scoped>\n",
       "    .dataframe tbody tr th:only-of-type {\n",
       "        vertical-align: middle;\n",
       "    }\n",
       "\n",
       "    .dataframe tbody tr th {\n",
       "        vertical-align: top;\n",
       "    }\n",
       "\n",
       "    .dataframe thead th {\n",
       "        text-align: right;\n",
       "    }\n",
       "</style>\n",
       "<table border=\"1\" class=\"dataframe\">\n",
       "  <thead>\n",
       "    <tr style=\"text-align: right;\">\n",
       "      <th></th>\n",
       "      <th>target</th>\n",
       "      <th>pred_label</th>\n",
       "      <th>pred_prob</th>\n",
       "      <th>var_0</th>\n",
       "      <th>var_1</th>\n",
       "      <th>var_2</th>\n",
       "      <th>var_3</th>\n",
       "      <th>var_4</th>\n",
       "      <th>var_5</th>\n",
       "      <th>var_6</th>\n",
       "      <th>...</th>\n",
       "      <th>var_190</th>\n",
       "      <th>var_191</th>\n",
       "      <th>var_192</th>\n",
       "      <th>var_193</th>\n",
       "      <th>var_194</th>\n",
       "      <th>var_195</th>\n",
       "      <th>var_196</th>\n",
       "      <th>var_197</th>\n",
       "      <th>var_198</th>\n",
       "      <th>var_199</th>\n",
       "    </tr>\n",
       "  </thead>\n",
       "  <tbody>\n",
       "    <tr>\n",
       "      <th>0</th>\n",
       "      <td>0.0</td>\n",
       "      <td>0.0</td>\n",
       "      <td>0.014744</td>\n",
       "      <td>8.9255</td>\n",
       "      <td>-6.7863</td>\n",
       "      <td>11.9081</td>\n",
       "      <td>5.0930</td>\n",
       "      <td>11.4607</td>\n",
       "      <td>-9.2834</td>\n",
       "      <td>5.1187</td>\n",
       "      <td>...</td>\n",
       "      <td>4.4354</td>\n",
       "      <td>3.9642</td>\n",
       "      <td>3.1364</td>\n",
       "      <td>1.6910</td>\n",
       "      <td>18.5227</td>\n",
       "      <td>-2.3978</td>\n",
       "      <td>7.8784</td>\n",
       "      <td>8.5635</td>\n",
       "      <td>12.7803</td>\n",
       "      <td>-1.0914</td>\n",
       "    </tr>\n",
       "    <tr>\n",
       "      <th>1</th>\n",
       "      <td>0.0</td>\n",
       "      <td>0.0</td>\n",
       "      <td>0.255257</td>\n",
       "      <td>11.5006</td>\n",
       "      <td>-4.1473</td>\n",
       "      <td>13.8588</td>\n",
       "      <td>5.3890</td>\n",
       "      <td>12.3622</td>\n",
       "      <td>7.0433</td>\n",
       "      <td>5.6208</td>\n",
       "      <td>...</td>\n",
       "      <td>7.6421</td>\n",
       "      <td>7.7214</td>\n",
       "      <td>2.5837</td>\n",
       "      <td>10.9516</td>\n",
       "      <td>15.4305</td>\n",
       "      <td>2.0339</td>\n",
       "      <td>8.1267</td>\n",
       "      <td>8.7889</td>\n",
       "      <td>18.3560</td>\n",
       "      <td>1.9518</td>\n",
       "    </tr>\n",
       "    <tr>\n",
       "      <th>2</th>\n",
       "      <td>0.0</td>\n",
       "      <td>0.0</td>\n",
       "      <td>0.006072</td>\n",
       "      <td>8.6093</td>\n",
       "      <td>-2.7457</td>\n",
       "      <td>12.0805</td>\n",
       "      <td>7.8928</td>\n",
       "      <td>10.5825</td>\n",
       "      <td>-9.0837</td>\n",
       "      <td>6.9427</td>\n",
       "      <td>...</td>\n",
       "      <td>2.9057</td>\n",
       "      <td>9.7905</td>\n",
       "      <td>1.6704</td>\n",
       "      <td>1.6858</td>\n",
       "      <td>21.6042</td>\n",
       "      <td>3.1417</td>\n",
       "      <td>-6.5213</td>\n",
       "      <td>8.2675</td>\n",
       "      <td>14.7222</td>\n",
       "      <td>0.3965</td>\n",
       "    </tr>\n",
       "  </tbody>\n",
       "</table>\n",
       "<p>3 rows × 203 columns</p>\n",
       "</div>"
      ],
      "text/plain": [
       "   target  pred_label  pred_prob    var_0   var_1    var_2   var_3    var_4  \\\n",
       "0     0.0         0.0   0.014744   8.9255 -6.7863  11.9081  5.0930  11.4607   \n",
       "1     0.0         0.0   0.255257  11.5006 -4.1473  13.8588  5.3890  12.3622   \n",
       "2     0.0         0.0   0.006072   8.6093 -2.7457  12.0805  7.8928  10.5825   \n",
       "\n",
       "    var_5   var_6  ...  var_190  var_191  var_192  var_193  var_194  var_195  \\\n",
       "0 -9.2834  5.1187  ...   4.4354   3.9642   3.1364   1.6910  18.5227  -2.3978   \n",
       "1  7.0433  5.6208  ...   7.6421   7.7214   2.5837  10.9516  15.4305   2.0339   \n",
       "2 -9.0837  6.9427  ...   2.9057   9.7905   1.6704   1.6858  21.6042   3.1417   \n",
       "\n",
       "   var_196  var_197  var_198  var_199  \n",
       "0   7.8784   8.5635  12.7803  -1.0914  \n",
       "1   8.1267   8.7889  18.3560   1.9518  \n",
       "2  -6.5213   8.2675  14.7222   0.3965  \n",
       "\n",
       "[3 rows x 203 columns]"
      ]
     },
     "metadata": {},
     "output_type": "display_data"
    }
   ],
   "source": [
    "cols = ['target','pred_label','pred_prob'] + X.columns.tolist()\n",
    "df_result = pd.DataFrame(pd.concat([df_train.target, y_pred_labels, y_pred_prob[1], X],axis=1,ignore_index=True).to_numpy(), columns = cols)\n",
    "\n",
    "display(df_result.shape)\n",
    "display(df_result.head(3))"
   ]
  },
  {
   "cell_type": "code",
   "execution_count": 20,
   "metadata": {
    "ExecuteTime": {
     "end_time": "2021-06-26T13:22:34.685320Z",
     "start_time": "2021-06-26T13:22:34.628475Z"
    }
   },
   "outputs": [],
   "source": [
    "conditionlist = [\n",
    "    (df_result['pred_label']==1) & (df_result['target']==0),\n",
    "    (df_result['pred_label']==0) & (df_result['target']==1),\n",
    "    (df_result['pred_label']==1) & (df_result['target']==1),\n",
    "    (df_result['pred_label']==0) & (df_result['target']==0)]\n",
    "choicelist = ['FP', 'FN', 'TP', 'TN']\n",
    "df_result['cf'] = np.select(conditionlist, choicelist)\n"
   ]
  },
  {
   "cell_type": "code",
   "execution_count": 21,
   "metadata": {
    "ExecuteTime": {
     "end_time": "2021-06-26T13:22:36.083213Z",
     "start_time": "2021-06-26T13:22:35.611860Z"
    }
   },
   "outputs": [],
   "source": [
    "df_st = df_result.groupby(\"cf\").sample(n=25, random_state=42)"
   ]
  },
  {
   "cell_type": "code",
   "execution_count": 22,
   "metadata": {
    "ExecuteTime": {
     "end_time": "2021-06-26T13:22:37.026380Z",
     "start_time": "2021-06-26T13:22:36.999265Z"
    }
   },
   "outputs": [
    {
     "data": {
      "text/html": [
       "<div>\n",
       "<style scoped>\n",
       "    .dataframe tbody tr th:only-of-type {\n",
       "        vertical-align: middle;\n",
       "    }\n",
       "\n",
       "    .dataframe tbody tr th {\n",
       "        vertical-align: top;\n",
       "    }\n",
       "\n",
       "    .dataframe thead th {\n",
       "        text-align: right;\n",
       "    }\n",
       "</style>\n",
       "<table border=\"1\" class=\"dataframe\">\n",
       "  <thead>\n",
       "    <tr style=\"text-align: right;\">\n",
       "      <th></th>\n",
       "      <th>target</th>\n",
       "      <th>pred_label</th>\n",
       "      <th>pred_prob</th>\n",
       "      <th>var_0</th>\n",
       "      <th>var_1</th>\n",
       "      <th>var_2</th>\n",
       "      <th>var_3</th>\n",
       "      <th>var_4</th>\n",
       "      <th>var_5</th>\n",
       "      <th>var_6</th>\n",
       "      <th>...</th>\n",
       "      <th>var_191</th>\n",
       "      <th>var_192</th>\n",
       "      <th>var_193</th>\n",
       "      <th>var_194</th>\n",
       "      <th>var_195</th>\n",
       "      <th>var_196</th>\n",
       "      <th>var_197</th>\n",
       "      <th>var_198</th>\n",
       "      <th>var_199</th>\n",
       "      <th>cf</th>\n",
       "    </tr>\n",
       "  </thead>\n",
       "  <tbody>\n",
       "    <tr>\n",
       "      <th>46516</th>\n",
       "      <td>1.0</td>\n",
       "      <td>0.0</td>\n",
       "      <td>0.213779</td>\n",
       "      <td>11.6045</td>\n",
       "      <td>0.4550</td>\n",
       "      <td>8.6219</td>\n",
       "      <td>9.7706</td>\n",
       "      <td>14.3848</td>\n",
       "      <td>-15.7498</td>\n",
       "      <td>5.2326</td>\n",
       "      <td>...</td>\n",
       "      <td>7.5604</td>\n",
       "      <td>1.4849</td>\n",
       "      <td>6.6708</td>\n",
       "      <td>19.8896</td>\n",
       "      <td>1.2857</td>\n",
       "      <td>1.3911</td>\n",
       "      <td>11.2240</td>\n",
       "      <td>18.3293</td>\n",
       "      <td>1.7871</td>\n",
       "      <td>FN</td>\n",
       "    </tr>\n",
       "    <tr>\n",
       "      <th>111929</th>\n",
       "      <td>1.0</td>\n",
       "      <td>0.0</td>\n",
       "      <td>0.099202</td>\n",
       "      <td>14.3272</td>\n",
       "      <td>-4.0296</td>\n",
       "      <td>15.0844</td>\n",
       "      <td>5.8801</td>\n",
       "      <td>9.9290</td>\n",
       "      <td>-10.2422</td>\n",
       "      <td>5.4827</td>\n",
       "      <td>...</td>\n",
       "      <td>5.2738</td>\n",
       "      <td>0.9733</td>\n",
       "      <td>9.3648</td>\n",
       "      <td>22.7920</td>\n",
       "      <td>-1.1140</td>\n",
       "      <td>2.7243</td>\n",
       "      <td>8.3986</td>\n",
       "      <td>17.4930</td>\n",
       "      <td>7.4513</td>\n",
       "      <td>FN</td>\n",
       "    </tr>\n",
       "    <tr>\n",
       "      <th>46284</th>\n",
       "      <td>1.0</td>\n",
       "      <td>0.0</td>\n",
       "      <td>0.060618</td>\n",
       "      <td>14.7952</td>\n",
       "      <td>-6.5220</td>\n",
       "      <td>7.9667</td>\n",
       "      <td>4.7216</td>\n",
       "      <td>11.8385</td>\n",
       "      <td>-9.4202</td>\n",
       "      <td>5.8161</td>\n",
       "      <td>...</td>\n",
       "      <td>3.5441</td>\n",
       "      <td>2.7836</td>\n",
       "      <td>0.6533</td>\n",
       "      <td>12.0741</td>\n",
       "      <td>-2.2748</td>\n",
       "      <td>7.0844</td>\n",
       "      <td>8.3978</td>\n",
       "      <td>19.4978</td>\n",
       "      <td>-11.1396</td>\n",
       "      <td>FN</td>\n",
       "    </tr>\n",
       "    <tr>\n",
       "      <th>65229</th>\n",
       "      <td>1.0</td>\n",
       "      <td>0.0</td>\n",
       "      <td>0.017597</td>\n",
       "      <td>6.1361</td>\n",
       "      <td>-0.0756</td>\n",
       "      <td>7.6543</td>\n",
       "      <td>9.2350</td>\n",
       "      <td>11.8113</td>\n",
       "      <td>-2.9500</td>\n",
       "      <td>7.0188</td>\n",
       "      <td>...</td>\n",
       "      <td>8.8490</td>\n",
       "      <td>1.3460</td>\n",
       "      <td>9.0151</td>\n",
       "      <td>16.3695</td>\n",
       "      <td>0.8877</td>\n",
       "      <td>-8.5804</td>\n",
       "      <td>8.0888</td>\n",
       "      <td>15.3640</td>\n",
       "      <td>-14.3228</td>\n",
       "      <td>FN</td>\n",
       "    </tr>\n",
       "    <tr>\n",
       "      <th>45492</th>\n",
       "      <td>1.0</td>\n",
       "      <td>0.0</td>\n",
       "      <td>0.104694</td>\n",
       "      <td>9.9396</td>\n",
       "      <td>-0.1923</td>\n",
       "      <td>12.2804</td>\n",
       "      <td>9.4472</td>\n",
       "      <td>10.5410</td>\n",
       "      <td>-0.0477</td>\n",
       "      <td>3.7386</td>\n",
       "      <td>...</td>\n",
       "      <td>10.8826</td>\n",
       "      <td>3.8029</td>\n",
       "      <td>8.9503</td>\n",
       "      <td>14.8593</td>\n",
       "      <td>-0.1883</td>\n",
       "      <td>-4.3883</td>\n",
       "      <td>8.8802</td>\n",
       "      <td>16.7774</td>\n",
       "      <td>10.1113</td>\n",
       "      <td>FN</td>\n",
       "    </tr>\n",
       "  </tbody>\n",
       "</table>\n",
       "<p>5 rows × 204 columns</p>\n",
       "</div>"
      ],
      "text/plain": [
       "        target  pred_label  pred_prob    var_0   var_1    var_2   var_3  \\\n",
       "46516      1.0         0.0   0.213779  11.6045  0.4550   8.6219  9.7706   \n",
       "111929     1.0         0.0   0.099202  14.3272 -4.0296  15.0844  5.8801   \n",
       "46284      1.0         0.0   0.060618  14.7952 -6.5220   7.9667  4.7216   \n",
       "65229      1.0         0.0   0.017597   6.1361 -0.0756   7.6543  9.2350   \n",
       "45492      1.0         0.0   0.104694   9.9396 -0.1923  12.2804  9.4472   \n",
       "\n",
       "          var_4    var_5   var_6  ...  var_191  var_192  var_193  var_194  \\\n",
       "46516   14.3848 -15.7498  5.2326  ...   7.5604   1.4849   6.6708  19.8896   \n",
       "111929   9.9290 -10.2422  5.4827  ...   5.2738   0.9733   9.3648  22.7920   \n",
       "46284   11.8385  -9.4202  5.8161  ...   3.5441   2.7836   0.6533  12.0741   \n",
       "65229   11.8113  -2.9500  7.0188  ...   8.8490   1.3460   9.0151  16.3695   \n",
       "45492   10.5410  -0.0477  3.7386  ...  10.8826   3.8029   8.9503  14.8593   \n",
       "\n",
       "        var_195  var_196  var_197  var_198  var_199  cf  \n",
       "46516    1.2857   1.3911  11.2240  18.3293   1.7871  FN  \n",
       "111929  -1.1140   2.7243   8.3986  17.4930   7.4513  FN  \n",
       "46284   -2.2748   7.0844   8.3978  19.4978 -11.1396  FN  \n",
       "65229    0.8877  -8.5804   8.0888  15.3640 -14.3228  FN  \n",
       "45492   -0.1883  -4.3883   8.8802  16.7774  10.1113  FN  \n",
       "\n",
       "[5 rows x 204 columns]"
      ]
     },
     "execution_count": 22,
     "metadata": {},
     "output_type": "execute_result"
    }
   ],
   "source": [
    "df_st.head()"
   ]
  },
  {
   "cell_type": "code",
   "execution_count": 23,
   "metadata": {
    "ExecuteTime": {
     "end_time": "2021-06-26T13:22:38.015720Z",
     "start_time": "2021-06-26T13:22:37.805335Z"
    }
   },
   "outputs": [],
   "source": [
    "result_pickle = '01_5_result_ebm_raw_hj.pickle'\n",
    "st_pickle = '01_5_result_ebm_raw_streamlit_hj.pickle'\n",
    "with open(result_pickle, 'wb') as handle:\n",
    "    pickle.dump(df_result, handle, protocol=pickle.HIGHEST_PROTOCOL)\n",
    "with open(st_pickle, 'wb') as handle:\n",
    "    pickle.dump(df_st, handle, protocol=pickle.HIGHEST_PROTOCOL)"
   ]
  },
  {
   "cell_type": "code",
   "execution_count": 24,
   "metadata": {
    "ExecuteTime": {
     "end_time": "2021-06-26T13:22:38.929296Z",
     "start_time": "2021-06-26T13:22:38.886687Z"
    }
   },
   "outputs": [
    {
     "data": {
      "text/html": [
       "<div>\n",
       "<style scoped>\n",
       "    .dataframe tbody tr th:only-of-type {\n",
       "        vertical-align: middle;\n",
       "    }\n",
       "\n",
       "    .dataframe tbody tr th {\n",
       "        vertical-align: top;\n",
       "    }\n",
       "\n",
       "    .dataframe thead th {\n",
       "        text-align: right;\n",
       "    }\n",
       "</style>\n",
       "<table border=\"1\" class=\"dataframe\">\n",
       "  <thead>\n",
       "    <tr style=\"text-align: right;\">\n",
       "      <th></th>\n",
       "      <th>target</th>\n",
       "      <th>pred_label</th>\n",
       "      <th>pred_prob</th>\n",
       "      <th>var_0</th>\n",
       "      <th>var_1</th>\n",
       "      <th>var_2</th>\n",
       "      <th>var_3</th>\n",
       "      <th>var_4</th>\n",
       "      <th>var_5</th>\n",
       "      <th>var_6</th>\n",
       "      <th>...</th>\n",
       "      <th>var_191</th>\n",
       "      <th>var_192</th>\n",
       "      <th>var_193</th>\n",
       "      <th>var_194</th>\n",
       "      <th>var_195</th>\n",
       "      <th>var_196</th>\n",
       "      <th>var_197</th>\n",
       "      <th>var_198</th>\n",
       "      <th>var_199</th>\n",
       "      <th>cf</th>\n",
       "    </tr>\n",
       "  </thead>\n",
       "  <tbody>\n",
       "    <tr>\n",
       "      <th>46516</th>\n",
       "      <td>1.0</td>\n",
       "      <td>0.0</td>\n",
       "      <td>0.213779</td>\n",
       "      <td>11.6045</td>\n",
       "      <td>0.4550</td>\n",
       "      <td>8.6219</td>\n",
       "      <td>9.7706</td>\n",
       "      <td>14.3848</td>\n",
       "      <td>-15.7498</td>\n",
       "      <td>5.2326</td>\n",
       "      <td>...</td>\n",
       "      <td>7.5604</td>\n",
       "      <td>1.4849</td>\n",
       "      <td>6.6708</td>\n",
       "      <td>19.8896</td>\n",
       "      <td>1.2857</td>\n",
       "      <td>1.3911</td>\n",
       "      <td>11.2240</td>\n",
       "      <td>18.3293</td>\n",
       "      <td>1.7871</td>\n",
       "      <td>FN</td>\n",
       "    </tr>\n",
       "    <tr>\n",
       "      <th>111929</th>\n",
       "      <td>1.0</td>\n",
       "      <td>0.0</td>\n",
       "      <td>0.099202</td>\n",
       "      <td>14.3272</td>\n",
       "      <td>-4.0296</td>\n",
       "      <td>15.0844</td>\n",
       "      <td>5.8801</td>\n",
       "      <td>9.9290</td>\n",
       "      <td>-10.2422</td>\n",
       "      <td>5.4827</td>\n",
       "      <td>...</td>\n",
       "      <td>5.2738</td>\n",
       "      <td>0.9733</td>\n",
       "      <td>9.3648</td>\n",
       "      <td>22.7920</td>\n",
       "      <td>-1.1140</td>\n",
       "      <td>2.7243</td>\n",
       "      <td>8.3986</td>\n",
       "      <td>17.4930</td>\n",
       "      <td>7.4513</td>\n",
       "      <td>FN</td>\n",
       "    </tr>\n",
       "    <tr>\n",
       "      <th>46284</th>\n",
       "      <td>1.0</td>\n",
       "      <td>0.0</td>\n",
       "      <td>0.060618</td>\n",
       "      <td>14.7952</td>\n",
       "      <td>-6.5220</td>\n",
       "      <td>7.9667</td>\n",
       "      <td>4.7216</td>\n",
       "      <td>11.8385</td>\n",
       "      <td>-9.4202</td>\n",
       "      <td>5.8161</td>\n",
       "      <td>...</td>\n",
       "      <td>3.5441</td>\n",
       "      <td>2.7836</td>\n",
       "      <td>0.6533</td>\n",
       "      <td>12.0741</td>\n",
       "      <td>-2.2748</td>\n",
       "      <td>7.0844</td>\n",
       "      <td>8.3978</td>\n",
       "      <td>19.4978</td>\n",
       "      <td>-11.1396</td>\n",
       "      <td>FN</td>\n",
       "    </tr>\n",
       "    <tr>\n",
       "      <th>65229</th>\n",
       "      <td>1.0</td>\n",
       "      <td>0.0</td>\n",
       "      <td>0.017597</td>\n",
       "      <td>6.1361</td>\n",
       "      <td>-0.0756</td>\n",
       "      <td>7.6543</td>\n",
       "      <td>9.2350</td>\n",
       "      <td>11.8113</td>\n",
       "      <td>-2.9500</td>\n",
       "      <td>7.0188</td>\n",
       "      <td>...</td>\n",
       "      <td>8.8490</td>\n",
       "      <td>1.3460</td>\n",
       "      <td>9.0151</td>\n",
       "      <td>16.3695</td>\n",
       "      <td>0.8877</td>\n",
       "      <td>-8.5804</td>\n",
       "      <td>8.0888</td>\n",
       "      <td>15.3640</td>\n",
       "      <td>-14.3228</td>\n",
       "      <td>FN</td>\n",
       "    </tr>\n",
       "    <tr>\n",
       "      <th>45492</th>\n",
       "      <td>1.0</td>\n",
       "      <td>0.0</td>\n",
       "      <td>0.104694</td>\n",
       "      <td>9.9396</td>\n",
       "      <td>-0.1923</td>\n",
       "      <td>12.2804</td>\n",
       "      <td>9.4472</td>\n",
       "      <td>10.5410</td>\n",
       "      <td>-0.0477</td>\n",
       "      <td>3.7386</td>\n",
       "      <td>...</td>\n",
       "      <td>10.8826</td>\n",
       "      <td>3.8029</td>\n",
       "      <td>8.9503</td>\n",
       "      <td>14.8593</td>\n",
       "      <td>-0.1883</td>\n",
       "      <td>-4.3883</td>\n",
       "      <td>8.8802</td>\n",
       "      <td>16.7774</td>\n",
       "      <td>10.1113</td>\n",
       "      <td>FN</td>\n",
       "    </tr>\n",
       "    <tr>\n",
       "      <th>...</th>\n",
       "      <td>...</td>\n",
       "      <td>...</td>\n",
       "      <td>...</td>\n",
       "      <td>...</td>\n",
       "      <td>...</td>\n",
       "      <td>...</td>\n",
       "      <td>...</td>\n",
       "      <td>...</td>\n",
       "      <td>...</td>\n",
       "      <td>...</td>\n",
       "      <td>...</td>\n",
       "      <td>...</td>\n",
       "      <td>...</td>\n",
       "      <td>...</td>\n",
       "      <td>...</td>\n",
       "      <td>...</td>\n",
       "      <td>...</td>\n",
       "      <td>...</td>\n",
       "      <td>...</td>\n",
       "      <td>...</td>\n",
       "      <td>...</td>\n",
       "    </tr>\n",
       "    <tr>\n",
       "      <th>77302</th>\n",
       "      <td>1.0</td>\n",
       "      <td>1.0</td>\n",
       "      <td>0.967293</td>\n",
       "      <td>13.0081</td>\n",
       "      <td>1.5112</td>\n",
       "      <td>11.5367</td>\n",
       "      <td>9.0771</td>\n",
       "      <td>12.7793</td>\n",
       "      <td>-0.2997</td>\n",
       "      <td>5.9284</td>\n",
       "      <td>...</td>\n",
       "      <td>4.2910</td>\n",
       "      <td>0.6074</td>\n",
       "      <td>3.0147</td>\n",
       "      <td>22.0884</td>\n",
       "      <td>-2.9752</td>\n",
       "      <td>1.2473</td>\n",
       "      <td>9.2082</td>\n",
       "      <td>8.3517</td>\n",
       "      <td>12.8794</td>\n",
       "      <td>TP</td>\n",
       "    </tr>\n",
       "    <tr>\n",
       "      <th>156669</th>\n",
       "      <td>1.0</td>\n",
       "      <td>1.0</td>\n",
       "      <td>0.788143</td>\n",
       "      <td>10.4643</td>\n",
       "      <td>-5.0815</td>\n",
       "      <td>12.0416</td>\n",
       "      <td>7.7107</td>\n",
       "      <td>13.4536</td>\n",
       "      <td>0.5676</td>\n",
       "      <td>6.5808</td>\n",
       "      <td>...</td>\n",
       "      <td>9.6826</td>\n",
       "      <td>2.0727</td>\n",
       "      <td>-4.0449</td>\n",
       "      <td>13.1311</td>\n",
       "      <td>1.1691</td>\n",
       "      <td>9.1670</td>\n",
       "      <td>9.4978</td>\n",
       "      <td>10.0347</td>\n",
       "      <td>-4.3915</td>\n",
       "      <td>TP</td>\n",
       "    </tr>\n",
       "    <tr>\n",
       "      <th>164376</th>\n",
       "      <td>1.0</td>\n",
       "      <td>1.0</td>\n",
       "      <td>0.960573</td>\n",
       "      <td>16.1955</td>\n",
       "      <td>-1.0311</td>\n",
       "      <td>7.7649</td>\n",
       "      <td>7.2124</td>\n",
       "      <td>12.7211</td>\n",
       "      <td>-13.1849</td>\n",
       "      <td>7.4634</td>\n",
       "      <td>...</td>\n",
       "      <td>12.6262</td>\n",
       "      <td>1.1209</td>\n",
       "      <td>-1.0359</td>\n",
       "      <td>15.2306</td>\n",
       "      <td>-0.0194</td>\n",
       "      <td>0.6302</td>\n",
       "      <td>8.3338</td>\n",
       "      <td>16.6414</td>\n",
       "      <td>2.3697</td>\n",
       "      <td>TP</td>\n",
       "    </tr>\n",
       "    <tr>\n",
       "      <th>32750</th>\n",
       "      <td>1.0</td>\n",
       "      <td>1.0</td>\n",
       "      <td>0.621511</td>\n",
       "      <td>7.0743</td>\n",
       "      <td>8.5664</td>\n",
       "      <td>12.8659</td>\n",
       "      <td>5.7046</td>\n",
       "      <td>11.0383</td>\n",
       "      <td>-9.8413</td>\n",
       "      <td>5.3319</td>\n",
       "      <td>...</td>\n",
       "      <td>5.6017</td>\n",
       "      <td>-0.3301</td>\n",
       "      <td>0.3854</td>\n",
       "      <td>13.6557</td>\n",
       "      <td>0.8761</td>\n",
       "      <td>4.9894</td>\n",
       "      <td>9.2158</td>\n",
       "      <td>9.4817</td>\n",
       "      <td>-0.3554</td>\n",
       "      <td>TP</td>\n",
       "    </tr>\n",
       "    <tr>\n",
       "      <th>15141</th>\n",
       "      <td>1.0</td>\n",
       "      <td>1.0</td>\n",
       "      <td>0.824995</td>\n",
       "      <td>15.0986</td>\n",
       "      <td>6.1757</td>\n",
       "      <td>9.7452</td>\n",
       "      <td>4.6970</td>\n",
       "      <td>13.2145</td>\n",
       "      <td>-9.5177</td>\n",
       "      <td>5.2159</td>\n",
       "      <td>...</td>\n",
       "      <td>13.9819</td>\n",
       "      <td>0.3991</td>\n",
       "      <td>-2.4364</td>\n",
       "      <td>14.7449</td>\n",
       "      <td>0.1306</td>\n",
       "      <td>-3.8829</td>\n",
       "      <td>7.7317</td>\n",
       "      <td>12.4347</td>\n",
       "      <td>4.4500</td>\n",
       "      <td>TP</td>\n",
       "    </tr>\n",
       "  </tbody>\n",
       "</table>\n",
       "<p>100 rows × 204 columns</p>\n",
       "</div>"
      ],
      "text/plain": [
       "        target  pred_label  pred_prob    var_0   var_1    var_2   var_3  \\\n",
       "46516      1.0         0.0   0.213779  11.6045  0.4550   8.6219  9.7706   \n",
       "111929     1.0         0.0   0.099202  14.3272 -4.0296  15.0844  5.8801   \n",
       "46284      1.0         0.0   0.060618  14.7952 -6.5220   7.9667  4.7216   \n",
       "65229      1.0         0.0   0.017597   6.1361 -0.0756   7.6543  9.2350   \n",
       "45492      1.0         0.0   0.104694   9.9396 -0.1923  12.2804  9.4472   \n",
       "...        ...         ...        ...      ...     ...      ...     ...   \n",
       "77302      1.0         1.0   0.967293  13.0081  1.5112  11.5367  9.0771   \n",
       "156669     1.0         1.0   0.788143  10.4643 -5.0815  12.0416  7.7107   \n",
       "164376     1.0         1.0   0.960573  16.1955 -1.0311   7.7649  7.2124   \n",
       "32750      1.0         1.0   0.621511   7.0743  8.5664  12.8659  5.7046   \n",
       "15141      1.0         1.0   0.824995  15.0986  6.1757   9.7452  4.6970   \n",
       "\n",
       "          var_4    var_5   var_6  ...  var_191  var_192  var_193  var_194  \\\n",
       "46516   14.3848 -15.7498  5.2326  ...   7.5604   1.4849   6.6708  19.8896   \n",
       "111929   9.9290 -10.2422  5.4827  ...   5.2738   0.9733   9.3648  22.7920   \n",
       "46284   11.8385  -9.4202  5.8161  ...   3.5441   2.7836   0.6533  12.0741   \n",
       "65229   11.8113  -2.9500  7.0188  ...   8.8490   1.3460   9.0151  16.3695   \n",
       "45492   10.5410  -0.0477  3.7386  ...  10.8826   3.8029   8.9503  14.8593   \n",
       "...         ...      ...     ...  ...      ...      ...      ...      ...   \n",
       "77302   12.7793  -0.2997  5.9284  ...   4.2910   0.6074   3.0147  22.0884   \n",
       "156669  13.4536   0.5676  6.5808  ...   9.6826   2.0727  -4.0449  13.1311   \n",
       "164376  12.7211 -13.1849  7.4634  ...  12.6262   1.1209  -1.0359  15.2306   \n",
       "32750   11.0383  -9.8413  5.3319  ...   5.6017  -0.3301   0.3854  13.6557   \n",
       "15141   13.2145  -9.5177  5.2159  ...  13.9819   0.3991  -2.4364  14.7449   \n",
       "\n",
       "        var_195  var_196  var_197  var_198  var_199  cf  \n",
       "46516    1.2857   1.3911  11.2240  18.3293   1.7871  FN  \n",
       "111929  -1.1140   2.7243   8.3986  17.4930   7.4513  FN  \n",
       "46284   -2.2748   7.0844   8.3978  19.4978 -11.1396  FN  \n",
       "65229    0.8877  -8.5804   8.0888  15.3640 -14.3228  FN  \n",
       "45492   -0.1883  -4.3883   8.8802  16.7774  10.1113  FN  \n",
       "...         ...      ...      ...      ...      ...  ..  \n",
       "77302   -2.9752   1.2473   9.2082   8.3517  12.8794  TP  \n",
       "156669   1.1691   9.1670   9.4978  10.0347  -4.3915  TP  \n",
       "164376  -0.0194   0.6302   8.3338  16.6414   2.3697  TP  \n",
       "32750    0.8761   4.9894   9.2158   9.4817  -0.3554  TP  \n",
       "15141    0.1306  -3.8829   7.7317  12.4347   4.4500  TP  \n",
       "\n",
       "[100 rows x 204 columns]"
      ]
     },
     "execution_count": 24,
     "metadata": {},
     "output_type": "execute_result"
    }
   ],
   "source": [
    "df_st"
   ]
  },
  {
   "cell_type": "code",
   "execution_count": 25,
   "metadata": {
    "ExecuteTime": {
     "end_time": "2021-06-26T13:22:39.852934Z",
     "start_time": "2021-06-26T13:22:39.849767Z"
    }
   },
   "outputs": [],
   "source": [
    "l = ebm_local._internal_obj"
   ]
  },
  {
   "cell_type": "code",
   "execution_count": 51,
   "metadata": {
    "ExecuteTime": {
     "end_time": "2021-06-22T08:39:53.349394Z",
     "start_time": "2021-06-22T08:39:53.345262Z"
    }
   },
   "outputs": [
    {
     "data": {
      "text/plain": [
       "dict_keys(['overall', 'specific', 'mli'])"
      ]
     },
     "metadata": {},
     "output_type": "display_data"
    }
   ],
   "source": [
    "display(l.keys())"
   ]
  },
  {
   "cell_type": "code",
   "execution_count": 79,
   "metadata": {
    "ExecuteTime": {
     "end_time": "2021-06-22T08:44:35.241906Z",
     "start_time": "2021-06-22T08:44:35.235639Z"
    }
   },
   "outputs": [
    {
     "data": {
      "text/plain": [
       "dict_keys(['type', 'names', 'scores', 'values', 'extra', 'meta', 'perf'])"
      ]
     },
     "execution_count": 79,
     "metadata": {},
     "output_type": "execute_result"
    }
   ],
   "source": [
    "l['specific'][1].keys()"
   ]
  },
  {
   "cell_type": "code",
   "execution_count": 78,
   "metadata": {
    "ExecuteTime": {
     "end_time": "2021-06-22T08:44:31.081621Z",
     "start_time": "2021-06-22T08:44:31.078455Z"
    }
   },
   "outputs": [
    {
     "data": {
      "text/plain": [
       "'univariate'"
      ]
     },
     "execution_count": 78,
     "metadata": {},
     "output_type": "execute_result"
    }
   ],
   "source": [
    "l['specific'][1]['type']"
   ]
  },
  {
   "cell_type": "code",
   "execution_count": 80,
   "metadata": {
    "ExecuteTime": {
     "end_time": "2021-06-22T08:45:53.844671Z",
     "start_time": "2021-06-22T08:45:53.840765Z"
    }
   },
   "outputs": [
    {
     "data": {
      "text/plain": [
       "210"
      ]
     },
     "execution_count": 80,
     "metadata": {},
     "output_type": "execute_result"
    }
   ],
   "source": [
    "len(l['specific'][0]['names'])"
   ]
  },
  {
   "cell_type": "code",
   "execution_count": 72,
   "metadata": {
    "ExecuteTime": {
     "end_time": "2021-06-22T08:43:48.178371Z",
     "start_time": "2021-06-22T08:43:48.174153Z"
    }
   },
   "outputs": [
    {
     "data": {
      "text/plain": [
       "['var_0', 'var_1', 'var_2', 'var_3', 'var_4']"
      ]
     },
     "execution_count": 72,
     "metadata": {},
     "output_type": "execute_result"
    }
   ],
   "source": [
    "l['specific'][0]['names'][0:5]"
   ]
  },
  {
   "cell_type": "code",
   "execution_count": 83,
   "metadata": {
    "ExecuteTime": {
     "end_time": "2021-06-22T08:48:19.445638Z",
     "start_time": "2021-06-22T08:48:19.441583Z"
    }
   },
   "outputs": [
    {
     "data": {
      "text/plain": [
       "['var_109 x var_171',\n",
       " 'var_81 x var_164',\n",
       " 'var_53 x var_76',\n",
       " 'var_66 x var_139',\n",
       " 'var_22 x var_107',\n",
       " 'var_109 x var_173',\n",
       " 'var_26 x var_53',\n",
       " 'var_0 x var_12',\n",
       " 'var_34 x var_118',\n",
       " 'var_81 x var_184']"
      ]
     },
     "execution_count": 83,
     "metadata": {},
     "output_type": "execute_result"
    }
   ],
   "source": [
    "l['specific'][0]['names'][200:210]"
   ]
  },
  {
   "cell_type": "code",
   "execution_count": 84,
   "metadata": {
    "ExecuteTime": {
     "end_time": "2021-06-22T08:48:55.452448Z",
     "start_time": "2021-06-22T08:48:55.448497Z"
    }
   },
   "outputs": [
    {
     "data": {
      "text/plain": [
       "210"
      ]
     },
     "execution_count": 84,
     "metadata": {},
     "output_type": "execute_result"
    }
   ],
   "source": [
    "len(l['specific'][0]['scores'])"
   ]
  },
  {
   "cell_type": "code",
   "execution_count": 73,
   "metadata": {
    "ExecuteTime": {
     "end_time": "2021-06-22T08:44:22.440539Z",
     "start_time": "2021-06-22T08:44:22.436246Z"
    }
   },
   "outputs": [
    {
     "data": {
      "text/plain": [
       "[0.28687437718936126,\n",
       " 0.017321100919479207,\n",
       " 0.4160339739057263,\n",
       " 0.0023474073997953003,\n",
       " -0.020296432707943356]"
      ]
     },
     "execution_count": 73,
     "metadata": {},
     "output_type": "execute_result"
    }
   ],
   "source": [
    "l['specific'][1]['scores'][0:5]"
   ]
  },
  {
   "cell_type": "code",
   "execution_count": 85,
   "metadata": {
    "ExecuteTime": {
     "end_time": "2021-06-22T08:49:07.985265Z",
     "start_time": "2021-06-22T08:49:07.980934Z"
    }
   },
   "outputs": [
    {
     "data": {
      "text/plain": [
       "[0.0033340899760628895,\n",
       " 0.007324794351638202,\n",
       " -0.009083837097018812,\n",
       " -0.008460798659350252,\n",
       " -0.01875443204025186,\n",
       " 0.006844843034695767,\n",
       " -0.007571852102485991,\n",
       " 0.0018634010599832761,\n",
       " 0.032679809443992236,\n",
       " -0.0019439606778471862]"
      ]
     },
     "execution_count": 85,
     "metadata": {},
     "output_type": "execute_result"
    }
   ],
   "source": [
    "l['specific'][1]['scores'][200:210]"
   ]
  },
  {
   "cell_type": "code",
   "execution_count": 86,
   "metadata": {
    "ExecuteTime": {
     "end_time": "2021-06-22T08:49:20.406288Z",
     "start_time": "2021-06-22T08:49:20.402243Z"
    }
   },
   "outputs": [
    {
     "data": {
      "text/plain": [
       "210"
      ]
     },
     "execution_count": 86,
     "metadata": {},
     "output_type": "execute_result"
    }
   ],
   "source": [
    "len(l['specific'][1]['values'])"
   ]
  },
  {
   "cell_type": "code",
   "execution_count": 74,
   "metadata": {
    "ExecuteTime": {
     "end_time": "2021-06-22T08:44:24.232248Z",
     "start_time": "2021-06-22T08:44:24.228990Z"
    }
   },
   "outputs": [
    {
     "data": {
      "text/plain": [
       "[15.19, -1.857, 15.99, 7.777, 10.02]"
      ]
     },
     "execution_count": 74,
     "metadata": {},
     "output_type": "execute_result"
    }
   ],
   "source": [
    "l['specific'][1]['values'][0:5]"
   ]
  },
  {
   "cell_type": "code",
   "execution_count": 87,
   "metadata": {
    "ExecuteTime": {
     "end_time": "2021-06-22T08:49:29.114128Z",
     "start_time": "2021-06-22T08:49:29.109813Z"
    }
   },
   "outputs": [
    {
     "data": {
      "text/plain": [
       "['', '', '', '', '', '', '', '', '', '']"
      ]
     },
     "execution_count": 87,
     "metadata": {},
     "output_type": "execute_result"
    }
   ],
   "source": [
    "l['specific'][1]['values'][200:210]"
   ]
  },
  {
   "cell_type": "code",
   "execution_count": 75,
   "metadata": {
    "ExecuteTime": {
     "end_time": "2021-06-22T08:44:25.882385Z",
     "start_time": "2021-06-22T08:44:25.879239Z"
    }
   },
   "outputs": [
    {
     "data": {
      "text/plain": [
       "{'names': ['Intercept'], 'scores': [-3.1939642307216656], 'values': [1]}"
      ]
     },
     "execution_count": 75,
     "metadata": {},
     "output_type": "execute_result"
    }
   ],
   "source": [
    "l['specific'][1]['extra']"
   ]
  },
  {
   "cell_type": "code",
   "execution_count": 76,
   "metadata": {
    "ExecuteTime": {
     "end_time": "2021-06-22T08:44:27.599310Z",
     "start_time": "2021-06-22T08:44:27.595413Z"
    }
   },
   "outputs": [
    {
     "data": {
      "text/plain": [
       "{'label_names': [0, 1]}"
      ]
     },
     "execution_count": 76,
     "metadata": {},
     "output_type": "execute_result"
    }
   ],
   "source": [
    "l['specific'][1]['meta']"
   ]
  },
  {
   "cell_type": "code",
   "execution_count": 77,
   "metadata": {
    "ExecuteTime": {
     "end_time": "2021-06-22T08:44:29.314930Z",
     "start_time": "2021-06-22T08:44:29.311134Z"
    }
   },
   "outputs": [
    {
     "data": {
      "text/plain": [
       "{'is_classification': True,\n",
       " 'actual': 1,\n",
       " 'predicted': 0,\n",
       " 'actual_score': 0.4863536431111178,\n",
       " 'predicted_score': 0.5136463568888823}"
      ]
     },
     "execution_count": 77,
     "metadata": {},
     "output_type": "execute_result"
    }
   ],
   "source": [
    "l['specific'][1]['perf']"
   ]
  },
  {
   "cell_type": "code",
   "execution_count": 99,
   "metadata": {
    "ExecuteTime": {
     "end_time": "2021-06-22T09:06:44.882223Z",
     "start_time": "2021-06-22T09:06:44.878799Z"
    }
   },
   "outputs": [
    {
     "data": {
      "text/plain": [
       "range(0, 200000)"
      ]
     },
     "execution_count": 99,
     "metadata": {},
     "output_type": "execute_result"
    }
   ],
   "source": [
    "range(len(X))"
   ]
  },
  {
   "cell_type": "code",
   "execution_count": 96,
   "metadata": {
    "ExecuteTime": {
     "end_time": "2021-06-22T09:01:22.341811Z",
     "start_time": "2021-06-22T09:00:41.646023Z"
    }
   },
   "outputs": [],
   "source": []
  },
  {
   "cell_type": "code",
   "execution_count": null,
   "metadata": {
    "ExecuteTime": {
     "start_time": "2021-06-22T11:06:41.464Z"
    }
   },
   "outputs": [],
   "source": [
    "df_ebm_local = pd.DataFrame()\n",
    "for i in range(len(X)):\n",
    "    i+=1\n",
    "    scores = pd.Series(l['specific'][i]['scores'])\n",
    "    values = pd.Series(l['specific'][i]['values'])\n",
    "    df_ebm_local = pd.concat([df_ebm_local, pd.DataFrame([scores, values]).T], axis=0)\n",
    "    #df\n",
    "# df_ebm_local = pd.DataFrame(pd.concat())\n",
    "# df_ebm_local.columns = ['scores','values']"
   ]
  },
  {
   "cell_type": "code",
   "execution_count": null,
   "metadata": {},
   "outputs": [],
   "source": [
    "pd.concat([df_train.target, y_pred_labels, y_pred_prob[1], X],axis=1,ignore_index=True).to_numpy()\n",
    "\n",
    "display(df_result.shape)\n",
    "display(df_result.head(3))"
   ]
  }
 ],
 "metadata": {
  "hide_input": false,
  "kernelspec": {
   "display_name": "Python 3",
   "language": "python",
   "name": "python3"
  },
  "language_info": {
   "codemirror_mode": {
    "name": "ipython",
    "version": 3
   },
   "file_extension": ".py",
   "mimetype": "text/x-python",
   "name": "python",
   "nbconvert_exporter": "python",
   "pygments_lexer": "ipython3",
   "version": "3.8.8"
  },
  "varInspector": {
   "cols": {
    "lenName": 16,
    "lenType": 16,
    "lenVar": 40
   },
   "kernels_config": {
    "python": {
     "delete_cmd_postfix": "",
     "delete_cmd_prefix": "del ",
     "library": "var_list.py",
     "varRefreshCmd": "print(var_dic_list())"
    },
    "r": {
     "delete_cmd_postfix": ") ",
     "delete_cmd_prefix": "rm(",
     "library": "var_list.r",
     "varRefreshCmd": "cat(var_dic_list()) "
    }
   },
   "oldHeight": 758.5623400000001,
   "position": {
    "height": "781.055px",
    "left": "1229.89px",
    "right": "20px",
    "top": "48.9883px",
    "width": "707.422px"
   },
   "types_to_exclude": [
    "module",
    "function",
    "builtin_function_or_method",
    "instance",
    "_Feature"
   ],
   "varInspector_section_display": "block",
   "window_display": false
  }
 },
 "nbformat": 4,
 "nbformat_minor": 4
}
