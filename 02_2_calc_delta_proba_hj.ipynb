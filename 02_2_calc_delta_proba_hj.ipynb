{
 "cells": [
  {
   "cell_type": "code",
   "execution_count": 1,
   "metadata": {
    "ExecuteTime": {
     "end_time": "2021-06-24T09:41:31.955853Z",
     "start_time": "2021-06-24T09:41:29.813423Z"
    }
   },
   "outputs": [],
   "source": [
    "import pandas as pd\n",
    "import numpy as np\n",
    "from tqdm import tqdm\n",
    "import pickle\n",
    "import joblib\n",
    "from sklearn.preprocessing import StandardScaler\n",
    "from sklearn.model_selection import train_test_split\n",
    "from interpret.glassbox import ExplainableBoostingClassifier\n",
    "from interpret import show\n",
    "from interpret.perf import ROC\n",
    "from interpret.data import ClassHistogram\n",
    "from sklearn.metrics import confusion_matrix,roc_curve, auc\n",
    "from sklearn.inspection import plot_partial_dependence\n",
    "import matplotlib.pyplot as plt"
   ]
  },
  {
   "cell_type": "code",
   "execution_count": 3,
   "metadata": {
    "ExecuteTime": {
     "end_time": "2021-06-24T09:41:40.950225Z",
     "start_time": "2021-06-24T09:41:39.760330Z"
    }
   },
   "outputs": [
    {
     "data": {
      "text/plain": [
       "(200000, 202)"
      ]
     },
     "metadata": {},
     "output_type": "display_data"
    },
    {
     "name": "stdout",
     "output_type": "stream",
     "text": [
      "Size of dataset: Train (134000, 200) Validation (66000, 200) \n"
     ]
    }
   ],
   "source": [
    "df_train_csv = '../../../data/santander/raw/train.csv'\n",
    "df_train = pd.read_csv(df_train_csv)\n",
    "\n",
    "display(df_train.shape)\n",
    "# display(df_train.head())\n",
    "\n",
    "X = df_train.iloc[:, 2:]\n",
    "y = df_train.target\n",
    "\n",
    "x_train, x_valid, y_train, y_valid = train_test_split(X, y, test_size=0.33, random_state=42, stratify=y)\n",
    "\n",
    "print(\"Size of dataset: Train {} Validation {} \".format(x_train.shape, x_valid.shape))"
   ]
  },
  {
   "cell_type": "code",
   "execution_count": 2,
   "metadata": {
    "ExecuteTime": {
     "end_time": "2021-06-24T09:41:33.585763Z",
     "start_time": "2021-06-24T09:41:33.528108Z"
    }
   },
   "outputs": [],
   "source": [
    "# load ebm result\n",
    "ebm = joblib.load('01_5_model_ebm_raw_hj.pickle')"
   ]
  },
  {
   "cell_type": "code",
   "execution_count": 7,
   "metadata": {
    "ExecuteTime": {
     "end_time": "2021-06-23T05:34:21.281352Z",
     "start_time": "2021-06-23T05:34:21.275440Z"
    }
   },
   "outputs": [
    {
     "data": {
      "text/plain": [
       "1"
      ]
     },
     "execution_count": 7,
     "metadata": {},
     "output_type": "execute_result"
    }
   ],
   "source": [
    "y_valid[159231]"
   ]
  },
  {
   "cell_type": "code",
   "execution_count": 5,
   "metadata": {
    "ExecuteTime": {
<<<<<<< HEAD
     "end_time": "2021-06-23T04:57:45.170643Z",
     "start_time": "2021-06-23T04:57:44.127974Z"
    },
    "collapsed": true,
    "jupyter": {
     "outputs_hidden": true
=======
     "end_time": "2021-06-24T09:41:49.509043Z",
     "start_time": "2021-06-24T09:41:49.354946Z"
>>>>>>> e9e14c4acbdd2d2f0fc2465ed0a721896ce37f58
    }
   },
   "outputs": [
    {
     "data": {
      "text/html": [
       "<!-- http://127.0.0.1:7001/140273437676640/ -->\n",
       "<iframe src=\"http://127.0.0.1:7001/140273437676640/\" width=100% height=800 frameBorder=\"0\"></iframe>"
      ]
     },
     "metadata": {},
     "output_type": "display_data"
    }
   ],
   "source": [
    "ebm_global = ebm.explain_global(name='EBM')\n",
    "show(ebm_global)"
   ]
  },
  {
   "cell_type": "code",
   "execution_count": 4,
   "metadata": {
    "ExecuteTime": {
<<<<<<< HEAD
     "end_time": "2021-06-23T06:53:53.527688Z",
     "start_time": "2021-06-23T06:53:53.484823Z"
    },
    "collapsed": true,
    "jupyter": {
     "outputs_hidden": true
=======
     "end_time": "2021-06-24T09:41:42.717697Z",
     "start_time": "2021-06-24T09:41:41.950389Z"
>>>>>>> e9e14c4acbdd2d2f0fc2465ed0a721896ce37f58
    }
   },
   "outputs": [
    {
     "data": {
      "text/html": [
       "<!-- http://127.0.0.1:7001/140273731133104/ -->\n",
       "<iframe src=\"http://127.0.0.1:7001/140273731133104/\" width=100% height=800 frameBorder=\"0\"></iframe>"
      ]
     },
     "metadata": {},
     "output_type": "display_data"
    }
   ],
   "source": [
    "ebm_local = ebm.explain_local(x_valid[:5], y_valid[:5], name='EBM')\n",
    "# ebm_local = ebm.explain_local(X, y, name='EBM')\n",
    "show(ebm_local)"
   ]
  },
  {
   "cell_type": "code",
   "execution_count": 32,
   "metadata": {
    "ExecuteTime": {
     "end_time": "2021-06-23T06:54:04.688965Z",
     "start_time": "2021-06-23T06:54:04.686223Z"
    }
   },
   "outputs": [],
   "source": [
    "l = ebm_local._internal_obj"
   ]
  },
  {
   "cell_type": "code",
   "execution_count": 10,
   "metadata": {
    "ExecuteTime": {
     "end_time": "2021-06-23T00:47:51.770724Z",
     "start_time": "2021-06-23T00:47:51.767048Z"
    }
   },
   "outputs": [
    {
     "data": {
      "text/plain": [
       "dict_keys(['overall', 'specific', 'mli'])"
      ]
     },
     "metadata": {},
     "output_type": "display_data"
    }
   ],
   "source": [
    "display(l.keys())"
   ]
  },
  {
   "cell_type": "code",
   "execution_count": 64,
   "metadata": {
    "ExecuteTime": {
     "end_time": "2021-06-23T08:11:20.183624Z",
     "start_time": "2021-06-23T08:11:20.179534Z"
    }
   },
   "outputs": [
    {
     "name": "stdout",
     "output_type": "stream",
     "text": [
      "210 ['var_0', 'var_1', 'var_2', 'var_3', 'var_4']\n"
     ]
    }
   ],
   "source": [
    "print(len(l['specific'][0]['names']),l['specific'][0]['names'][0:5])"
   ]
  },
  {
   "cell_type": "code",
   "execution_count": 15,
   "metadata": {
    "ExecuteTime": {
     "end_time": "2021-06-23T00:48:00.185561Z",
     "start_time": "2021-06-23T00:48:00.181667Z"
    },
    "scrolled": true
   },
   "outputs": [
    {
     "data": {
      "text/plain": [
       "['var_109 x var_171',\n",
       " 'var_81 x var_164',\n",
       " 'var_53 x var_76',\n",
       " 'var_66 x var_139',\n",
       " 'var_22 x var_107',\n",
       " 'var_109 x var_173',\n",
       " 'var_26 x var_53',\n",
       " 'var_0 x var_12',\n",
       " 'var_34 x var_118',\n",
       " 'var_81 x var_184']"
      ]
     },
     "execution_count": 15,
     "metadata": {},
     "output_type": "execute_result"
    }
   ],
   "source": [
    "l['specific'][0]['names'][200:210]"
   ]
  },
  {
   "cell_type": "code",
   "execution_count": 65,
   "metadata": {
    "ExecuteTime": {
     "end_time": "2021-06-23T08:11:39.339018Z",
     "start_time": "2021-06-23T08:11:39.335206Z"
    }
   },
   "outputs": [
    {
     "name": "stdout",
     "output_type": "stream",
     "text": [
      "210 [0.28687437718936126, 0.017321100919479207, 0.4160339739057263, 0.0023474073997953003, -0.020296432707943356]\n"
     ]
    }
   ],
   "source": [
    "print(len(l['specific'][0]['scores']), l['specific'][1]['scores'][0:5])"
   ]
  },
  {
   "cell_type": "code",
   "execution_count": 66,
   "metadata": {
    "ExecuteTime": {
     "end_time": "2021-06-23T08:11:54.069368Z",
     "start_time": "2021-06-23T08:11:54.065621Z"
    }
   },
   "outputs": [
    {
     "name": "stdout",
     "output_type": "stream",
     "text": [
      "210 [15.19, -1.857, 15.99, 7.777, 10.02]\n"
     ]
    }
   ],
   "source": [
    "print(len(l['specific'][1]['values']),l['specific'][1]['values'][0:5])"
   ]
  },
  {
   "cell_type": "code",
   "execution_count": 21,
   "metadata": {
    "ExecuteTime": {
     "end_time": "2021-06-23T00:48:09.453390Z",
     "start_time": "2021-06-23T00:48:09.448798Z"
    }
   },
   "outputs": [
    {
     "data": {
      "text/plain": [
       "['', '', '', '', '', '', '', '', '', '']"
      ]
     },
     "execution_count": 21,
     "metadata": {},
     "output_type": "execute_result"
    }
   ],
   "source": [
    "l['specific'][1]['values'][200:210]"
   ]
  },
  {
   "cell_type": "code",
   "execution_count": 22,
   "metadata": {
    "ExecuteTime": {
     "end_time": "2021-06-23T00:48:11.117803Z",
     "start_time": "2021-06-23T00:48:11.113877Z"
    }
   },
   "outputs": [
    {
     "data": {
      "text/plain": [
       "{'names': ['Intercept'], 'scores': [-3.1939642307216656], 'values': [1]}"
      ]
     },
     "execution_count": 22,
     "metadata": {},
     "output_type": "execute_result"
    }
   ],
   "source": [
    "l['specific'][1]['extra']"
   ]
  },
  {
   "cell_type": "code",
   "execution_count": 56,
   "metadata": {
    "ExecuteTime": {
     "end_time": "2021-06-23T01:33:52.089004Z",
     "start_time": "2021-06-23T01:33:52.084105Z"
    }
   },
   "outputs": [
    {
     "data": {
      "text/plain": [
       "array([-0.05459899])"
      ]
     },
     "metadata": {},
     "output_type": "display_data"
    }
   ],
   "source": [
    "display(sum(l['specific'][1]['scores'])+l['specific'][1]['extra']['scores'])"
   ]
  },
  {
   "cell_type": "code",
   "execution_count": 146,
   "metadata": {
    "ExecuteTime": {
     "end_time": "2021-06-24T06:40:24.469934Z",
     "start_time": "2021-06-24T06:40:24.462986Z"
    }
   },
   "outputs": [
    {
     "data": {
      "text/html": [
       "<!-- http://127.0.0.1:7001/140466217167216/ -->\n",
       "<iframe src=\"http://127.0.0.1:7001/140466217167216/\" width=100% height=800 frameBorder=\"0\"></iframe>"
      ]
     },
     "metadata": {},
     "output_type": "display_data"
    }
   ],
   "source": [
    "show(ebm_local)"
   ]
  },
  {
   "cell_type": "code",
   "execution_count": 144,
   "metadata": {
    "ExecuteTime": {
     "end_time": "2021-06-24T06:39:48.575436Z",
     "start_time": "2021-06-24T06:39:48.553743Z"
    }
   },
   "outputs": [
    {
     "data": {
      "text/plain": [
       "array([-2.61858798])"
      ]
     },
     "metadata": {},
     "output_type": "display_data"
    }
   ],
   "source": [
    "display(sum(l['specific'][0]['scores'])+l['specific'][0]['extra']['scores'])"
   ]
  },
  {
   "cell_type": "code",
   "execution_count": 156,
   "metadata": {
    "ExecuteTime": {
     "end_time": "2021-06-24T06:47:21.741309Z",
     "start_time": "2021-06-24T06:47:21.669855Z"
    }
   },
   "outputs": [
    {
     "data": {
      "text/html": [
       "<div>\n",
       "<style scoped>\n",
       "    .dataframe tbody tr th:only-of-type {\n",
       "        vertical-align: middle;\n",
       "    }\n",
       "\n",
       "    .dataframe tbody tr th {\n",
       "        vertical-align: top;\n",
       "    }\n",
       "\n",
       "    .dataframe thead th {\n",
       "        text-align: right;\n",
       "    }\n",
       "</style>\n",
       "<table border=\"1\" class=\"dataframe\">\n",
       "  <thead>\n",
       "    <tr style=\"text-align: right;\">\n",
       "      <th></th>\n",
       "      <th>var_0</th>\n",
       "      <th>var_1</th>\n",
       "      <th>var_2</th>\n",
       "      <th>var_3</th>\n",
       "      <th>var_4</th>\n",
       "      <th>var_5</th>\n",
       "      <th>var_6</th>\n",
       "      <th>var_7</th>\n",
       "      <th>var_8</th>\n",
       "      <th>var_9</th>\n",
       "      <th>...</th>\n",
       "      <th>var_190</th>\n",
       "      <th>var_191</th>\n",
       "      <th>var_192</th>\n",
       "      <th>var_193</th>\n",
       "      <th>var_194</th>\n",
       "      <th>var_195</th>\n",
       "      <th>var_196</th>\n",
       "      <th>var_197</th>\n",
       "      <th>var_198</th>\n",
       "      <th>var_199</th>\n",
       "    </tr>\n",
       "  </thead>\n",
       "  <tbody>\n",
       "    <tr>\n",
       "      <th>189938</th>\n",
       "      <td>9.53125</td>\n",
       "      <td>7.023438</td>\n",
       "      <td>12.859375</td>\n",
       "      <td>5.707031</td>\n",
       "      <td>10.820312</td>\n",
       "      <td>0.087402</td>\n",
       "      <td>5.175781</td>\n",
       "      <td>13.976562</td>\n",
       "      <td>-2.222656</td>\n",
       "      <td>5.71875</td>\n",
       "      <td>...</td>\n",
       "      <td>7.078125</td>\n",
       "      <td>9.507812</td>\n",
       "      <td>0.631836</td>\n",
       "      <td>9.875</td>\n",
       "      <td>18.03125</td>\n",
       "      <td>-0.219238</td>\n",
       "      <td>0.165039</td>\n",
       "      <td>8.40625</td>\n",
       "      <td>12.195312</td>\n",
       "      <td>4.121094</td>\n",
       "    </tr>\n",
       "  </tbody>\n",
       "</table>\n",
       "<p>1 rows × 200 columns</p>\n",
       "</div>"
      ],
      "text/plain": [
       "          var_0     var_1      var_2     var_3      var_4     var_5     var_6  \\\n",
       "189938  9.53125  7.023438  12.859375  5.707031  10.820312  0.087402  5.175781   \n",
       "\n",
       "            var_7     var_8    var_9  ...   var_190   var_191   var_192  \\\n",
       "189938  13.976562 -2.222656  5.71875  ...  7.078125  9.507812  0.631836   \n",
       "\n",
       "        var_193   var_194   var_195   var_196  var_197    var_198   var_199  \n",
       "189938    9.875  18.03125 -0.219238  0.165039  8.40625  12.195312  4.121094  \n",
       "\n",
       "[1 rows x 200 columns]"
      ]
     },
     "metadata": {},
     "output_type": "display_data"
    },
    {
     "name": "stdout",
     "output_type": "stream",
     "text": [
      "189938    7.023438\n",
      "Name: var_1, dtype: float16\n",
      "189938   -7.023438\n",
      "Name: var_1, dtype: float16\n"
     ]
    },
    {
     "data": {
      "text/plain": [
       "array([[0.96736459, 0.03263541]])"
      ]
     },
     "metadata": {},
     "output_type": "display_data"
    },
    {
     "data": {
      "text/plain": [
       "-0.11783348344883861"
      ]
     },
     "execution_count": 156,
     "metadata": {},
     "output_type": "execute_result"
    }
   ],
   "source": [
    "x_sample = pd.DataFrame(x_valid[:5].iloc[0,:]).transpose()\n",
    "display(x_sample)\n",
    "\n",
    "print(x_sample.iloc[:,1])\n",
    "x_sample.iloc[:,1]*=-1\n",
    "print(x_sample.iloc[:,1])\n",
    "\n",
    "display(ebm.predict_proba(x_sample))\n",
    "\n",
    "local_sample = ebm.explain_local(x_sample.to_numpy(), [1], name='EBM')\n",
    "# show(local_sample)\n",
    "\n",
    "l_sample = local_sample._internal_obj\n",
    "l_sample['specific'][0]['scores'][1]"
   ]
  },
  {
   "cell_type": "code",
   "execution_count": 158,
   "metadata": {
    "ExecuteTime": {
     "end_time": "2021-06-24T06:48:27.229557Z",
     "start_time": "2021-06-24T06:48:27.223347Z"
    }
   },
   "outputs": [
    {
     "data": {
      "text/plain": [
       "0.035340501095017074"
      ]
     },
     "metadata": {},
     "output_type": "display_data"
    },
    {
     "data": {
      "text/plain": [
       "0.9673405010950171"
      ]
     },
     "metadata": {},
     "output_type": "display_data"
    }
   ],
   "source": [
    "def cal_delta_prob(current_prob, delta_score):\n",
    "    changed_prob = 1/(1+np.exp(np.log((1-current_prob)/current_prob1)+delta_score))\n",
    "    delta_prob = changed_prob - current_prob\n",
    "    return delta_prob, changed_prob\n",
    "\n",
    "delta_prob, changed_prob = cal_delta_prob((0.932), (-0.11783348344883861-0.652756216955852))\n",
    "display(delta_prob, changed_prob)"
   ]
  },
  {
   "cell_type": "code",
   "execution_count": 173,
   "metadata": {
    "ExecuteTime": {
     "end_time": "2021-06-24T07:29:58.900947Z",
     "start_time": "2021-06-24T07:29:58.894239Z"
    }
   },
   "outputs": [
    {
     "data": {
      "text/plain": [
       "-0.11783348344883804"
      ]
     },
     "execution_count": 173,
     "metadata": {},
     "output_type": "execute_result"
    }
   ],
   "source": [
    "np.log((1-0.9673405010950171)/0.9673405010950171)-np.log((1-0.932)/0.932)+0.652756216955852"
   ]
  },
  {
   "cell_type": "code",
   "execution_count": 169,
   "metadata": {
    "ExecuteTime": {
     "end_time": "2021-06-24T06:56:30.436699Z",
     "start_time": "2021-06-24T06:56:30.427282Z"
    }
   },
   "outputs": [
    {
     "data": {
      "text/plain": [
       "0.12881030363703594"
      ]
     },
     "metadata": {},
     "output_type": "display_data"
    },
    {
     "data": {
      "text/plain": [
       "0.6424566636370359"
      ]
     },
     "metadata": {},
     "output_type": "display_data"
    }
   ],
   "source": [
    "delta_prob, changed_prob = cal_delta_prob((0.51364636), (-0.5314437900290384))\n",
    "display(delta_prob, changed_prob)"
   ]
  },
  {
   "cell_type": "code",
   "execution_count": 153,
   "metadata": {
    "ExecuteTime": {
     "end_time": "2021-06-24T06:43:07.705713Z",
     "start_time": "2021-06-24T06:43:07.701664Z"
    }
   },
   "outputs": [
    {
     "data": {
      "text/plain": [
       "0.652756216955852"
      ]
     },
     "metadata": {},
     "output_type": "display_data"
    }
   ],
   "source": [
    "display(l['specific'][0]['scores'][1])"
   ]
  },
  {
   "cell_type": "code",
   "execution_count": 152,
   "metadata": {
    "ExecuteTime": {
     "end_time": "2021-06-24T06:42:46.181049Z",
     "start_time": "2021-06-24T06:42:46.173780Z"
    }
   },
   "outputs": [
    {
     "data": {
      "text/plain": [
       "array([-1.13585946])"
      ]
     },
     "metadata": {},
     "output_type": "display_data"
    }
   ],
   "source": [
    "display(sum(l['specific'][2]['scores'])+l['specific'][2]['extra']['scores'])"
   ]
  },
  {
   "cell_type": "code",
   "execution_count": 67,
   "metadata": {
    "ExecuteTime": {
     "end_time": "2021-06-23T08:12:48.622049Z",
     "start_time": "2021-06-23T08:12:48.617647Z"
    }
   },
   "outputs": [
    {
     "data": {
      "text/plain": [
       "[-3.1939642307216656]"
      ]
     },
     "execution_count": 67,
     "metadata": {},
     "output_type": "execute_result"
    }
   ],
   "source": [
    "l['specific'][1]['extra']['scores']"
   ]
  },
  {
   "cell_type": "code",
   "execution_count": 69,
   "metadata": {
    "ExecuteTime": {
     "end_time": "2021-06-23T08:13:26.349903Z",
     "start_time": "2021-06-23T08:13:26.344794Z"
    }
   },
   "outputs": [
    {
     "data": {
      "text/plain": [
       "array([0.94686478])"
      ]
     },
     "execution_count": 69,
     "metadata": {},
     "output_type": "execute_result"
    }
   ],
   "source": [
    "np.exp(sum(l['specific'][1]['scores'])+l['specific'][1]['extra']['scores'])"
   ]
  },
  {
   "cell_type": "code",
   "execution_count": 37,
   "metadata": {
    "ExecuteTime": {
     "end_time": "2021-06-23T06:54:46.573767Z",
     "start_time": "2021-06-23T06:54:46.567538Z"
    }
   },
   "outputs": [
    {
     "data": {
      "text/plain": [
       "-0.12188586510484475"
      ]
     },
     "execution_count": 37,
     "metadata": {},
     "output_type": "execute_result"
    }
   ],
   "source": [
    "x_sample = pd.DataFrame(x_valid[:5].iloc[1,:]).transpose()\n",
    "display(x_sample)\n",
    "\n",
    "print(x_sample.iloc[:,95])\n",
    "x_sample.iloc[:,95]*=-1\n",
    "print(x_sample.iloc[:,95])\n",
    "\n",
    "display(ebm.predict_proba(x_sample))\n",
    "\n",
    "local_sample = ebm.explain_local(x_sample.to_numpy(), [1], name='EBM')\n",
    "# show(local_sample)\n",
    "\n",
    "l_sample = local_sample._internal_obj\n",
    "l_sample['specific'][0]['scores'][95]"
   ]
  },
  {
   "cell_type": "code",
   "execution_count": 36,
   "metadata": {
    "ExecuteTime": {
     "end_time": "2021-06-23T06:54:37.065798Z",
     "start_time": "2021-06-23T06:54:37.057598Z"
    }
   },
   "outputs": [
    {
     "data": {
      "text/plain": [
       "0.4446879064650403"
      ]
     },
     "execution_count": 36,
     "metadata": {},
     "output_type": "execute_result"
    }
   ],
   "source": [
    "l = ebm_local._internal_obj\n",
    "l['specific'][1]['scores'][95]"
   ]
  },
  {
   "cell_type": "code",
   "execution_count": 78,
   "metadata": {
    "ExecuteTime": {
     "end_time": "2021-06-23T08:17:13.021400Z",
     "start_time": "2021-06-23T08:17:13.016647Z"
    }
   },
   "outputs": [
    {
     "data": {
      "text/plain": [
       "0.5665737715698851"
      ]
     },
     "execution_count": 78,
     "metadata": {},
     "output_type": "execute_result"
    }
   ],
   "source": [
    "l['specific'][1]['scores'][95]-(l_sample['specific'][0]['scores'][95])"
   ]
  },
  {
   "cell_type": "code",
   "execution_count": 40,
   "metadata": {
    "ExecuteTime": {
     "end_time": "2021-06-23T06:57:29.395175Z",
     "start_time": "2021-06-23T06:57:29.390793Z"
    }
   },
   "outputs": [
    {
     "data": {
      "text/plain": [
       "2.5727914721153224"
      ]
     },
     "execution_count": 40,
     "metadata": {},
     "output_type": "execute_result"
    }
   ],
   "source": [
    "sum(l_sample['specific'][0]['scores'])"
   ]
  },
  {
   "cell_type": "code",
   "execution_count": 41,
   "metadata": {
    "ExecuteTime": {
     "end_time": "2021-06-23T06:57:47.351287Z",
     "start_time": "2021-06-23T06:57:47.347320Z"
    }
   },
   "outputs": [
    {
     "data": {
      "text/plain": [
       "3.139365243685207"
      ]
     },
     "execution_count": 41,
     "metadata": {},
     "output_type": "execute_result"
    }
   ],
   "source": [
    "sum(l['specific'][1]['scores'])"
   ]
  },
  {
   "cell_type": "code",
   "execution_count": 57,
   "metadata": {
    "ExecuteTime": {
     "end_time": "2021-06-23T08:09:34.392695Z",
     "start_time": "2021-06-23T08:09:34.386841Z"
    }
   },
   "outputs": [
    {
     "data": {
      "text/plain": [
       "0.5665737715698844"
      ]
     },
     "execution_count": 57,
     "metadata": {},
     "output_type": "execute_result"
    }
   ],
   "source": [
    "sum(l['specific'][1]['scores']) - sum(l_sample['specific'][0]['scores'])"
   ]
  },
  {
   "cell_type": "code",
   "execution_count": 81,
   "metadata": {
    "ExecuteTime": {
     "end_time": "2021-06-23T08:18:49.560706Z",
     "start_time": "2021-06-23T08:18:49.555713Z"
    }
   },
   "outputs": [
    {
     "data": {
      "text/plain": [
       "array([0.94686478])"
      ]
     },
     "execution_count": 81,
     "metadata": {},
     "output_type": "execute_result"
    }
   ],
   "source": [
    "np.exp(sum(l['specific'][1]['scores'])+l['specific'][1]['extra']['scores'])"
   ]
  },
  {
   "cell_type": "code",
   "execution_count": 82,
   "metadata": {
    "ExecuteTime": {
     "end_time": "2021-06-23T08:19:21.296539Z",
     "start_time": "2021-06-23T08:19:21.291222Z"
    }
   },
   "outputs": [
    {
     "data": {
      "text/plain": [
       "array([0.53731393])"
      ]
     },
     "execution_count": 82,
     "metadata": {},
     "output_type": "execute_result"
    }
   ],
   "source": [
    "np.exp(sum(l_sample['specific'][0]['scores'])+l_sample['specific'][0]['extra']['scores'])"
   ]
  },
  {
   "cell_type": "code",
   "execution_count": 92,
   "metadata": {
    "ExecuteTime": {
     "end_time": "2021-06-23T08:31:23.964915Z",
     "start_time": "2021-06-23T08:31:23.959984Z"
    }
   },
   "outputs": [
    {
     "data": {
      "text/plain": [
       "-0.5665737714406297"
      ]
     },
     "execution_count": 92,
     "metadata": {},
     "output_type": "execute_result"
    }
   ],
   "source": [
    "(np.log(0.51364636)-np.log(1-0.51364636))-(np.log(0.65048523)-np.log(1-0.65048523))"
   ]
  },
  {
   "cell_type": "code",
   "execution_count": 94,
   "metadata": {
    "ExecuteTime": {
     "end_time": "2021-06-23T08:32:40.157188Z",
     "start_time": "2021-06-23T08:32:40.152463Z"
    }
   },
   "outputs": [
    {
     "data": {
      "text/plain": [
       "-0.5665737715698851"
      ]
     },
     "execution_count": 94,
     "metadata": {},
     "output_type": "execute_result"
    }
   ],
   "source": [
    "(l_sample['specific'][0]['scores'][95]) - l['specific'][1]['scores'][95]"
   ]
  },
  {
   "cell_type": "code",
   "execution_count": 95,
   "metadata": {
    "ExecuteTime": {
     "end_time": "2021-06-23T08:33:34.884928Z",
     "start_time": "2021-06-23T08:33:34.880728Z"
    }
   },
   "outputs": [],
   "source": [
    "x_sample2 = pd.DataFrame(x_valid[:5].iloc[1,:]).transpose()"
   ]
  },
  {
   "cell_type": "code",
   "execution_count": 96,
   "metadata": {
    "ExecuteTime": {
     "end_time": "2021-06-23T08:34:19.745209Z",
     "start_time": "2021-06-23T08:34:19.739248Z"
    }
   },
   "outputs": [
    {
     "name": "stdout",
     "output_type": "stream",
     "text": [
      "159231   -9.15625\n",
      "Name: var_80, dtype: float16\n",
      "159231    9.15625\n",
      "Name: var_80, dtype: float16\n"
     ]
    }
   ],
   "source": [
    "print(x_sample2.iloc[:,80])\n",
    "x_sample2.iloc[:,80]*=-1\n",
    "print(x_sample2.iloc[:,80])"
   ]
  },
  {
   "cell_type": "code",
   "execution_count": 97,
   "metadata": {
    "ExecuteTime": {
     "end_time": "2021-06-23T08:34:36.340620Z",
     "start_time": "2021-06-23T08:34:36.336296Z"
    }
   },
   "outputs": [
    {
     "data": {
      "text/plain": [
       "0.42801475141255413"
      ]
     },
     "execution_count": 97,
     "metadata": {},
     "output_type": "execute_result"
    }
   ],
   "source": [
    "l['specific'][1]['scores'][80]"
   ]
  },
  {
   "cell_type": "code",
   "execution_count": 98,
   "metadata": {
    "ExecuteTime": {
     "end_time": "2021-06-23T08:34:58.751435Z",
     "start_time": "2021-06-23T08:34:58.725911Z"
    }
   },
   "outputs": [
    {
     "data": {
      "text/plain": [
       "-0.10342903861648425"
      ]
     },
     "execution_count": 98,
     "metadata": {},
     "output_type": "execute_result"
    }
   ],
   "source": [
    "local_sample2 = ebm.explain_local(x_sample2.to_numpy(), [1], name='EBM')\n",
    "# show(local_sample)\n",
    "\n",
    "l_sample2 = local_sample2._internal_obj\n",
    "l_sample2['specific'][0]['scores'][80]"
   ]
  },
  {
   "cell_type": "code",
   "execution_count": 100,
   "metadata": {
    "ExecuteTime": {
     "end_time": "2021-06-23T08:35:34.296649Z",
     "start_time": "2021-06-23T08:35:34.291376Z"
    }
   },
   "outputs": [
    {
     "data": {
      "text/plain": [
       "-0.5314437900290384"
      ]
     },
     "execution_count": 100,
     "metadata": {},
     "output_type": "execute_result"
    }
   ],
   "source": [
    "(l_sample2['specific'][0]['scores'][80]) - l['specific'][1]['scores'][80]"
   ]
  },
  {
   "cell_type": "code",
   "execution_count": 105,
   "metadata": {
    "ExecuteTime": {
     "end_time": "2021-06-23T08:36:51.926609Z",
     "start_time": "2021-06-23T08:36:51.904392Z"
    }
   },
   "outputs": [
    {
     "data": {
      "text/plain": [
       "array([[0.64245666, 0.35754334]])"
      ]
     },
     "execution_count": 105,
     "metadata": {},
     "output_type": "execute_result"
    }
   ],
   "source": [
    "y_sample2 = ebm.predict_proba(x_sample2)\n",
    "y_sample2"
   ]
  },
  {
   "cell_type": "code",
   "execution_count": 109,
   "metadata": {
    "ExecuteTime": {
     "end_time": "2021-06-23T08:38:10.437860Z",
     "start_time": "2021-06-23T08:38:10.431263Z"
    }
   },
   "outputs": [
    {
     "data": {
      "text/plain": [
       "-0.5314437741956062"
      ]
     },
     "execution_count": 109,
     "metadata": {},
     "output_type": "execute_result"
    }
   ],
   "source": [
    "(np.log(0.51364636)-np.log(0.48635364))-(np.log(0.64245666)-np.log(0.35754334))"
   ]
  },
  {
   "cell_type": "code",
   "execution_count": 107,
   "metadata": {
    "ExecuteTime": {
     "end_time": "2021-06-23T08:37:39.809364Z",
     "start_time": "2021-06-23T08:37:39.791743Z"
    }
   },
   "outputs": [],
   "source": [
    "y_valid_5 = ebm.predict_proba(x_valid[0:5])"
   ]
  },
  {
   "cell_type": "code",
   "execution_count": 108,
   "metadata": {
    "ExecuteTime": {
     "end_time": "2021-06-23T08:37:54.989715Z",
     "start_time": "2021-06-23T08:37:54.985215Z"
    }
   },
   "outputs": [
    {
     "data": {
      "text/plain": [
       "array([0.51364636, 0.48635364])"
      ]
     },
     "execution_count": 108,
     "metadata": {},
     "output_type": "execute_result"
    }
   ],
   "source": [
    "y_valid_5[1]"
   ]
  },
  {
   "cell_type": "code",
   "execution_count": 111,
   "metadata": {
    "ExecuteTime": {
     "end_time": "2021-06-23T08:41:13.575726Z",
     "start_time": "2021-06-23T08:41:13.570763Z"
    }
   },
   "outputs": [
    {
     "data": {
      "text/plain": [
       "-0.5314437741956063"
      ]
     },
     "execution_count": 111,
     "metadata": {},
     "output_type": "execute_result"
    }
   ],
   "source": [
    "np.log(0.51364636/(1-0.51364636)) - np.log(0.64245666/(1-0.64245666))"
   ]
  },
  {
   "cell_type": "code",
   "execution_count": 113,
   "metadata": {
    "ExecuteTime": {
     "end_time": "2021-06-23T08:42:25.935905Z",
     "start_time": "2021-06-23T08:42:25.930302Z"
    }
   },
   "outputs": [
    {
     "data": {
      "text/plain": [
       "0.05459899949020517"
      ]
     },
     "execution_count": 113,
     "metadata": {},
     "output_type": "execute_result"
    }
   ],
   "source": [
    "np.log(0.51364636/(1-0.51364636))"
   ]
  },
  {
   "cell_type": "code",
   "execution_count": 114,
   "metadata": {
    "ExecuteTime": {
     "end_time": "2021-06-23T08:42:40.715112Z",
     "start_time": "2021-06-23T08:42:40.709539Z"
    }
   },
   "outputs": [
    {
     "data": {
      "text/plain": [
       "0.5860427736858115"
      ]
     },
     "execution_count": 114,
     "metadata": {},
     "output_type": "execute_result"
    }
   ],
   "source": [
    "np.log(0.64245666/(1-0.64245666))"
   ]
  },
  {
   "cell_type": "code",
   "execution_count": 115,
   "metadata": {
    "ExecuteTime": {
     "end_time": "2021-06-23T08:42:56.357397Z",
     "start_time": "2021-06-23T08:42:56.352323Z"
    }
   },
   "outputs": [
    {
     "data": {
      "text/plain": [
       "1.5342087125463182"
      ]
     },
     "execution_count": 115,
     "metadata": {},
     "output_type": "execute_result"
    }
   ],
   "source": [
    "np.exp(l['specific'][1]['scores'][80])"
   ]
  },
  {
   "cell_type": "code",
   "execution_count": 116,
   "metadata": {
    "ExecuteTime": {
     "end_time": "2021-06-23T08:43:14.860411Z",
     "start_time": "2021-06-23T08:43:14.856112Z"
    }
   },
   "outputs": [
    {
     "data": {
      "text/plain": [
       "0.42801475141255413"
      ]
     },
     "execution_count": 116,
     "metadata": {},
     "output_type": "execute_result"
    }
   ],
   "source": [
    "l['specific'][1]['scores'][80]"
   ]
  },
  {
   "cell_type": "code",
   "execution_count": 121,
   "metadata": {
    "ExecuteTime": {
     "end_time": "2021-06-23T08:46:34.047106Z",
     "start_time": "2021-06-23T08:46:34.040887Z"
    }
   },
   "outputs": [
    {
     "data": {
      "text/plain": [
       "0.5565252273851687"
      ]
     },
     "execution_count": 121,
     "metadata": {},
     "output_type": "execute_result"
    }
   ],
   "source": [
    "np.exp(sum(l_sample2['specific'][0]['scores']+l_sample2['specific'][0]['extra']['scores']))"
   ]
  },
  {
   "cell_type": "code",
   "execution_count": 122,
   "metadata": {
    "ExecuteTime": {
     "end_time": "2021-06-23T08:46:59.205789Z",
     "start_time": "2021-06-23T08:46:59.200843Z"
    }
   },
   "outputs": [
    {
     "data": {
      "text/plain": [
       "0.9468647768805857"
      ]
     },
     "execution_count": 122,
     "metadata": {},
     "output_type": "execute_result"
    }
   ],
   "source": [
    "np.exp(sum(l['specific'][1]['scores']+l['specific'][1]['extra']['scores']))"
   ]
  },
  {
   "cell_type": "code",
   "execution_count": 136,
   "metadata": {
    "ExecuteTime": {
     "end_time": "2021-06-23T08:57:41.466863Z",
     "start_time": "2021-06-23T08:57:41.462645Z"
    }
   },
   "outputs": [
    {
     "data": {
      "text/plain": [
       "-0.5860427736858114"
      ]
     },
     "execution_count": 136,
     "metadata": {},
     "output_type": "execute_result"
    }
   ],
   "source": [
    "np.log((1-0.64245666)/0.64245666)"
   ]
  },
  {
   "cell_type": "code",
   "execution_count": 138,
   "metadata": {
    "ExecuteTime": {
     "end_time": "2021-06-23T08:58:47.169344Z",
     "start_time": "2021-06-23T08:58:47.164899Z"
    }
   },
   "outputs": [
    {
     "data": {
      "text/plain": [
       "-0.05459899949020507"
      ]
     },
     "execution_count": 138,
     "metadata": {},
     "output_type": "execute_result"
    }
   ],
   "source": [
    "np.log((1-0.51364636)/0.51364636)"
   ]
  },
  {
   "cell_type": "code",
   "execution_count": 139,
   "metadata": {
    "ExecuteTime": {
     "end_time": "2021-06-23T08:59:02.687859Z",
     "start_time": "2021-06-23T08:59:02.681645Z"
    }
   },
   "outputs": [
    {
     "data": {
      "text/plain": [
       "-0.5314437900290384"
      ]
     },
     "execution_count": 139,
     "metadata": {},
     "output_type": "execute_result"
    }
   ],
   "source": [
    "((l_sample2['specific'][0]['scores'][80])-l['specific'][1]['scores'][80])"
   ]
  },
  {
   "cell_type": "code",
   "execution_count": 141,
   "metadata": {
    "ExecuteTime": {
     "end_time": "2021-06-23T09:00:25.075089Z",
     "start_time": "2021-06-23T09:00:25.070076Z"
    }
   },
   "outputs": [
    {
     "data": {
      "text/plain": [
       "-0.5860427895192435"
      ]
     },
     "execution_count": 141,
     "metadata": {},
     "output_type": "execute_result"
    }
   ],
   "source": [
    "np.log((1-0.51364636)/0.51364636) + ((l_sample2['specific'][0]['scores'][80])-l['specific'][1]['scores'][80])"
   ]
  },
  {
   "cell_type": "code",
   "execution_count": 142,
   "metadata": {
    "ExecuteTime": {
     "end_time": "2021-06-23T09:00:58.804581Z",
     "start_time": "2021-06-23T09:00:58.799602Z"
    }
   },
   "outputs": [
    {
     "data": {
      "text/plain": [
       "0.5565252204543445"
      ]
     },
     "execution_count": 142,
     "metadata": {},
     "output_type": "execute_result"
    }
   ],
   "source": [
    "np.exp(np.log((1-0.51364636)/0.51364636) + ((l_sample2['specific'][0]['scores'][80])-l['specific'][1]['scores'][80]))"
   ]
  },
  {
   "cell_type": "code",
   "execution_count": 143,
   "metadata": {
    "ExecuteTime": {
     "end_time": "2021-06-23T09:01:14.363981Z",
     "start_time": "2021-06-23T09:01:14.358080Z"
    }
   },
   "outputs": [
    {
     "data": {
      "text/plain": [
       "0.6424566636370359"
      ]
     },
     "execution_count": 143,
     "metadata": {},
     "output_type": "execute_result"
    }
   ],
   "source": [
    "1/(1+np.exp(np.log((1-0.51364636)/0.51364636) + ((l_sample2['specific'][0]['scores'][80])-l['specific'][1]['scores'][80])))"
   ]
  },
  {
   "cell_type": "markdown",
   "metadata": {},
   "source": [
    "# Delta score의 값을 Delta Pr(y=1) 로 바꾸기 \n",
    "\n",
    "\n",
    "- 수식\n",
    "$$ Pr2(y=1) = \\frac{1}{(1+ \\exp ( \\log \\frac{ Pr1(y=0)}{Pr1(y=1)})+\\delta score_var1))} $$ "
   ]
  },
  {
   "cell_type": "code",
   "execution_count": null,
   "metadata": {
    "code_folding": []
   },
   "outputs": [],
   "source": [
    "import numpy as np\n",
    "\n",
    "def cal_delta_score(df, feature):\n",
    "    \n",
    "    return delta_score\n",
    "\n",
    "def cal_delta_prob(current_prob1, delta_score):\n",
    "    changed_prob1 = 1/(1+np.exp(np.log((1-current_prob1)/current_prob1)+delta_score))\n",
    "    delta_prob1 = changed_prob1 - current_prob1\n",
    "    return delta_prob1, changed_prob1\n"
   ]
  }
 ],
 "metadata": {
  "hide_input": false,
  "kernelspec": {
   "display_name": "Python 3",
   "language": "python",
   "name": "python3"
  },
  "language_info": {
   "codemirror_mode": {
    "name": "ipython",
    "version": 3
   },
   "file_extension": ".py",
   "mimetype": "text/x-python",
   "name": "python",
   "nbconvert_exporter": "python",
   "pygments_lexer": "ipython3",
   "version": "3.8.8"
  },
  "varInspector": {
   "cols": {
    "lenName": 16,
    "lenType": 16,
    "lenVar": 40
   },
   "kernels_config": {
    "python": {
     "delete_cmd_postfix": "",
     "delete_cmd_prefix": "del ",
     "library": "var_list.py",
     "varRefreshCmd": "print(var_dic_list())"
    },
    "r": {
     "delete_cmd_postfix": ") ",
     "delete_cmd_prefix": "rm(",
     "library": "var_list.r",
     "varRefreshCmd": "cat(var_dic_list()) "
    }
   },
   "oldHeight": 758.555,
   "position": {
    "height": "40px",
    "left": "1235.89px",
    "right": "20px",
    "top": "36.9883px",
    "width": "707.422px"
   },
   "types_to_exclude": [
    "module",
    "function",
    "builtin_function_or_method",
    "instance",
    "_Feature"
   ],
   "varInspector_section_display": "none",
   "window_display": true
  }
 },
 "nbformat": 4,
 "nbformat_minor": 4
}
